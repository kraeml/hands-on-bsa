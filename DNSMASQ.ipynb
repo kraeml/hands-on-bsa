{
 "cells": [
  {
   "cell_type": "markdown",
   "metadata": {},
   "source": [
    "# DNSMASQ\n",
    "\n",
    "## DNSMASQ Stichpunkten\n",
    "\n",
    "- DNSMASQ stellt einen DNS und DHCP Serverdienst zur Verfügung\n",
    "- Erwartet ein statisch konfiguriertes Netzwerk auf dem Server\n",
    "\n",
    "## Voraussetzungen Server\n",
    "\n",
    "- Paket dnsmasq\n",
    "- Einträge /etc/network/interfaces\n",
    "- Richtige /etc/hosts auf DNSMASQ-Server\n",
    "- Ggf. /etc/resolv.conf\n",
    "\n",
    "----------\n",
    "\n",
    "## Voraussetzung Client\n",
    "\n",
    "- Einträge in /etc/network/interfaces\n",
    "- Link /etc/resolv.conf auf /etc/reslov.conf.orig umbenennen\n",
    "- Datei /etc/resolv.conf erstellen\n",
    "\n",
    "-------\n",
    "\n",
    "## Server Installation"
   ]
  },
  {
   "cell_type": "code",
   "execution_count": 1,
   "metadata": {},
   "outputs": [
    {
     "name": "stdout",
     "output_type": "stream",
     "text": [
      "dnsmasq:\n",
      "  Installiert:           2.75-1ubuntu0.16.04.4\n",
      "  Installationskandidat: 2.75-1ubuntu0.16.04.4\n",
      "  Versionstabelle:\n",
      " *** 2.75-1ubuntu0.16.04.4 500\n",
      "        500 http://us.archive.ubuntu.com/ubuntu xenial-updates/universe amd64 Packages\n",
      "        500 http://us.archive.ubuntu.com/ubuntu xenial-updates/universe i386 Packages\n",
      "        100 /var/lib/dpkg/status\n",
      "     2.75-1ubuntu0.16.04.3 500\n",
      "        500 http://security.ubuntu.com/ubuntu xenial-security/universe amd64 Packages\n",
      "        500 http://security.ubuntu.com/ubuntu xenial-security/universe i386 Packages\n",
      "     2.75-1 500\n",
      "        500 http://us.archive.ubuntu.com/ubuntu xenial/universe amd64 Packages\n",
      "        500 http://us.archive.ubuntu.com/ubuntu xenial/universe i386 Packages\n",
      "dnsmasq-base:\n",
      "  Installiert:           2.75-1ubuntu0.16.04.4\n",
      "  Installationskandidat: 2.75-1ubuntu0.16.04.4\n",
      "  Versionstabelle:\n",
      " *** 2.75-1ubuntu0.16.04.4 500\n",
      "        500 http://us.archive.ubuntu.com/ubuntu xenial-updates/main amd64 Packages\n",
      "        100 /var/lib/dpkg"
     ]
    },
    {
     "data": {
      "text/html": [
       "<b>limit_output extension: Maximum message size of 1000 exceeded with 1008 characters</b>"
      ]
     },
     "metadata": {},
     "output_type": "display_data"
    }
   ],
   "source": [
    "apt policy dnsmasq*"
   ]
  },
  {
   "cell_type": "code",
   "execution_count": 2,
   "metadata": {},
   "outputs": [],
   "source": [
    "cd /etc"
   ]
  },
  {
   "cell_type": "code",
   "execution_count": 3,
   "metadata": {},
   "outputs": [],
   "source": [
    "sudo cp dnsmasq.conf dnsmasq.conf.orig"
   ]
  },
  {
   "cell_type": "code",
   "execution_count": 4,
   "metadata": {},
   "outputs": [],
   "source": [
    "grep -v '^#' /etc/dnsmasq.conf.orig | grep -v '^$' | sudo tee dnsmasq.conf\n",
    "# Alternativ: grep -v '^#' /etc/dnsmasq.conf.orig | sudo cat -s > dnsmasq.conf)"
   ]
  },
  {
   "cell_type": "code",
   "execution_count": 10,
   "metadata": {},
   "outputs": [],
   "source": [
    "cat dnsmasq.conf"
   ]
  },
  {
   "cell_type": "code",
   "execution_count": 5,
   "metadata": {},
   "outputs": [],
   "source": [
    "sudo systemctl restart dnsmasq.service"
   ]
  },
  {
   "cell_type": "code",
   "execution_count": 9,
   "metadata": {},
   "outputs": [
    {
     "name": "stdout",
     "output_type": "stream",
     "text": [
      "\u001b[0;1;32m●\u001b[0m dnsmasq.service - dnsmasq - A lightweight DHCP and caching DNS server\n",
      "   Loaded: loaded (/lib/systemd/system/dnsmasq.service; disabled; vendor preset: enabled)\n",
      "   Active: \u001b[0;1;32mactive (running)\u001b[0m since Mo 2018-02-19 21:01:09 UTC; 3min 53s ago\n",
      "  Process: 5549 ExecStartPost=/etc/init.d/dnsmasq systemd-start-resolvconf (code=exited, status=0/SUCCESS)\n",
      "  Process: 5530 ExecStart=/etc/init.d/dnsmasq systemd-exec (code=exited, status=0/SUCCESS)\n",
      "  Process: 5527 ExecStartPre=/usr/sbin/dnsmasq --test (code=exited, status=0/SUCCESS)\n",
      " Main PID: 5548 (dnsmasq)\n",
      "    Tasks: 1\n",
      "   Memory: 552.0K\n",
      "      CPU: 55ms\n",
      "   CGroup: /system.slice/dnsmasq.service\n",
      "           └─5548 /usr/sbin/dnsmasq -x /var/run/dnsmasq/dnsmasq.pid -u dnsmas...\n",
      "\n",
      "Feb 19 21:01:08 rdf-dev systemd[1]: Starting dnsmasq - A lightweight DHCP a.....\n",
      "Feb 19 21:01:08 rdf-dev dnsmasq[5527]: dnsmasq: Syntaxprüfung OK.\n",
      "Feb 19 21:01:09 rdf-dev dnsmasq[5548]: gestartet, Version 2.75, Cachegröße 150\n",
      "Feb 19 21:01:09 rdf-dev dnsmasq[5548]: Übersetzungsoptionen: IPv6 GNU-getop…tify\n",
      "Feb 19 21:01:09 rdf-dev dnsmasq[5548]: /etc/hosts gelesen - 5 Adressen\n",
      "Feb 19 21:01:09 rdf-dev systemd[1]: Started dnsmasq - A lightweight DHCP an...r.\n",
      "Hint: Some lines were ellipsized, use -l to show in full.\n"
     ]
    }
   ],
   "source": [
    "sudo /etc/init.d/dnsmasq status"
   ]
  },
  {
   "cell_type": "code",
   "execution_count": 11,
   "metadata": {},
   "outputs": [
    {
     "name": "stdout",
     "output_type": "stream",
     "text": [
      "127.0.0.1\tlocalhost\n",
      "127.0.1.1\trdf-dev.vm\trdf-dev\n",
      "\n",
      "# The following lines are desirable for IPv6 capable hosts\n",
      "::1     localhost ip6-localhost ip6-loopback\n",
      "ff02::1 ip6-allnodes\n",
      "ff02::2 ip6-allrouters\n"
     ]
    }
   ],
   "source": [
    "cat /etc/hosts"
   ]
  },
  {
   "cell_type": "code",
   "execution_count": 12,
   "metadata": {},
   "outputs": [
    {
     "name": "stdout",
     "output_type": "stream",
     "text": [
      "\n",
      "; <<>> DiG 9.10.3-P4-Ubuntu <<>> rdf-dev.vm\n",
      ";; global options: +cmd\n",
      ";; Got answer:\n",
      ";; ->>HEADER<<- opcode: QUERY, status: NOERROR, id: 47631\n",
      ";; flags: qr aa rd ra; QUERY: 1, ANSWER: 1, AUTHORITY: 0, ADDITIONAL: 1\n",
      "\n",
      ";; OPT PSEUDOSECTION:\n",
      "; EDNS: version: 0, flags:; udp: 1280\n",
      ";; QUESTION SECTION:\n",
      ";rdf-dev.vm.\t\t\tIN\tA\n",
      "\n",
      ";; ANSWER SECTION:\n",
      "rdf-dev.vm.\t\t0\tIN\tA\t127.0.1.1\n",
      "\n",
      ";; Query time: 0 msec\n",
      ";; SERVER: 127.0.0.1#53(127.0.0.1)\n",
      ";; WHEN: Mon Feb 19 21:06:25 UTC 2018\n",
      ";; MSG SIZE  rcvd: 55\n",
      "\n"
     ]
    }
   ],
   "source": [
    "dig rdf-dev.vm"
   ]
  },
  {
   "cell_type": "markdown",
   "metadata": {},
   "source": [
    "## Server Konfiguration\n",
    "\n",
    "- Der eigene FQDN darf in /etc/hosts nicht auf eine lokale Adresse\n",
    "    verweisen !-)"
   ]
  },
  {
   "cell_type": "code",
   "execution_count": null,
   "metadata": {
    "attributes": {
     "classes": [
      "txt"
     ],
     "id": ""
    },
    "collapsed": true
   },
   "outputs": [],
   "source": [
    "#/etc/hosts\n",
    "127.0.0.1  localhost\n",
    "192.168.0.1  mars  mars.sol\n",
    "..."
   ]
  },
  {
   "cell_type": "markdown",
   "metadata": {},
   "source": [
    "-------\n",
    "\n",
    "## Konfiguration Family\n",
    "\n",
    "Muss noch angepasst werden\n",
    "\n",
    "## Datei\n",
    "\n",
    "/etc/dnsmasq.conf"
   ]
  },
  {
   "cell_type": "code",
   "execution_count": null,
   "metadata": {
    "attributes": {
     "classes": [
      "txt"
     ],
     "id": ""
    },
    "collapsed": true
   },
   "outputs": [],
   "source": [
    "# Schnittstelle zum LAN\n",
    "interface=eth1\n",
    "# lokale Hosts nicht dem Upstream-Nameserver melden\n",
    "domain-needed\n",
    "bogus-priv\n",
    "# Domainname sol im LAN\n",
    "local=/gxy.loc/\n",
    "domain=gxy.loc\n",
    "expand-hosts\n",
    "# Dnsmasq auch für das Gateway (Upstream-Nameserver = 192.168.99.117)\n",
    "server=192.168.99.117\n",
    "no-resolv\n",
    "# dynamische Adressen\n",
    "dhcp-range=192.168.0.20,192.168.0.50,24h\n",
    "# statische Adressen\n",
    "dhcp-host=00:c0:ee:51:39:9f,client03,192.168.0.3,infinite"
   ]
  },
  {
   "cell_type": "markdown",
   "metadata": {},
   "source": [
    "## Client\n",
    "\n",
    "Auf DHCP einstellen und ggf. resolv.conf workaround.\n",
    "\n",
    "-------\n",
    "\n",
    "## Ergänzung\n",
    "\n",
    "in /etc/dhcp3/dhclient.conf"
   ]
  },
  {
   "cell_type": "code",
   "execution_count": null,
   "metadata": {
    "attributes": {
     "classes": [
      "txt"
     ],
     "id": ""
    },
    "collapsed": true
   },
   "outputs": [],
   "source": [
    "…\n",
    "send host-name \"\\<hostname\\>\";"
   ]
  },
  {
   "cell_type": "markdown",
   "metadata": {},
   "source": [
    "-------\n",
    "\n",
    "/etc/network/interfaces"
   ]
  },
  {
   "cell_type": "code",
   "execution_count": null,
   "metadata": {
    "attributes": {
     "classes": [
      "txt"
     ],
     "id": ""
    },
    "collapsed": true
   },
   "outputs": [],
   "source": [
    "…\n",
    "auto eth1\n",
    "iface eth1 inet dhcp"
   ]
  },
  {
   "cell_type": "markdown",
   "metadata": {},
   "source": [
    "-------\n",
    "\n",
    "Ggf. Link /etc/resolv.conf löschen (Wenn kein resolvconf gewünscht)"
   ]
  }
 ],
 "metadata": {
  "kernelspec": {
   "display_name": "Bash",
   "language": "bash",
   "name": "bash"
  },
  "language_info": {
   "codemirror_mode": "shell",
   "file_extension": ".sh",
   "mimetype": "text/x-sh",
   "name": "bash"
  },
  "toc": {
   "nav_menu": {},
   "number_sections": true,
   "sideBar": true,
   "skip_h1_title": false,
   "title_cell": "Table of Contents",
   "title_sidebar": "Contents",
   "toc_cell": false,
   "toc_position": {},
   "toc_section_display": true,
   "toc_window_display": false
  }
 },
 "nbformat": 4,
 "nbformat_minor": 1
}
