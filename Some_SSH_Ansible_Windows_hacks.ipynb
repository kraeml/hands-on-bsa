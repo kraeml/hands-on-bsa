{
 "cells": [
  {
   "cell_type": "code",
   "execution_count": null,
   "metadata": {},
   "outputs": [],
   "source": [
    "sudo lxc-create -t ubuntu -n bsa-bashy"
   ]
  },
  {
   "cell_type": "code",
   "execution_count": 1,
   "metadata": {},
   "outputs": [],
   "source": [
    "sudo lxc-update-config -c /var/lib/lxc/bsa-bashy/config"
   ]
  },
  {
   "cell_type": "code",
   "execution_count": 2,
   "metadata": {},
   "outputs": [],
   "source": [
    "sudo lxc-start -n bsa-bashy"
   ]
  },
  {
   "cell_type": "code",
   "execution_count": 11,
   "metadata": {},
   "outputs": [
    {
     "name": "stdout",
     "output_type": "stream",
     "text": [
      "NAME      STATE   AUTOSTART GROUPS IPV4       IPV6 \n",
      "bsa-bashy RUNNING 0         -      10.0.3.226 -    \n"
     ]
    }
   ],
   "source": [
    "sudo lxc-ls --fancy"
   ]
  },
  {
   "cell_type": "code",
   "execution_count": 12,
   "metadata": {},
   "outputs": [
    {
     "name": "stdout",
     "output_type": "stream",
     "text": [
      "unknown option -- -\n",
      "usage: ssh-keyscan [-46cHv] [-f file] [-p port] [-T timeout] [-t type]\n",
      "\t\t   [host | addrlist namelist] ...\n"
     ]
    },
    {
     "ename": "",
     "evalue": "1",
     "output_type": "error",
     "traceback": []
    }
   ],
   "source": [
    "ssh-keyscan --help"
   ]
  },
  {
   "cell_type": "code",
   "execution_count": 13,
   "metadata": {},
   "outputs": [
    {
     "name": "stdout",
     "output_type": "stream",
     "text": [
      "# 10.0.3.226:22 SSH-2.0-OpenSSH_7.2p2 Ubuntu-4ubuntu2.2\n",
      "10.0.3.226 ssh-rsa AAAAB3NzaC1yc2EAAAADAQABAAABAQCyEFUls6S6jJKSYw8TgmYLtuOm4cZYF8w2Ggdt26ee/E9ZqrgysjfTY1EPZyVPW4vXTU/BNhrv8DIiJe8CpnYJuKRTKttSegUcWCm1hIE0/tdC4OWpK1gWnn7f//GOP8bj0U01MKqAdKfqHfeMhKfpti1x4y1H4F7XkPK5ni8yH1Inlp8NzNFYiPUWz+GLxrNtPeWZV0AxVPchb16sQZi5kJKBl5aGzW8Ww4tf285y5M5ius89FqY7rMqNLQKDiq8eZDW/wp3BUimP7uySsdyldx0nnk0JvVGKLc28QGRkYmipjBcI08zXrZDMT+pvrFZVuD99cZ7oyXSH1niJGK1l\n",
      "# 10.0.3.226:22 SSH-2.0-OpenSSH_7.2p2 Ubuntu-4ubuntu2.2\n",
      "10.0.3.226 ecdsa-sha2-nistp256 AAAAE2VjZHNhLXNoYTItbmlzdHAyNTYAAAAIbmlzdHAyNTYAAABBBOJkHcJ/C9fj/cYbVmEpdk+SnQwrwWhZeQ5E3yJ7WbwDmS7gkxkX0a3ufcE+8BnN791Er1895PHcwekvtMnTxss=\n",
      "# 10.0.3.226:22 SSH-2.0-OpenSSH_7.2p2 Ubuntu-4ubuntu2.2\n",
      "10.0.3.226 ssh-ed25519 AAAAC3NzaC1lZDI1NTE5AAAAIHb4lC4lBVg566Im5tQuO0VmKTSMIjJ5pITDzcDeRY+z\n"
     ]
    }
   ],
   "source": [
    "ssh-keyscan 10.0.3.226"
   ]
  },
  {
   "cell_type": "code",
   "execution_count": 9,
   "metadata": {},
   "outputs": [
    {
     "name": "stdout",
     "output_type": "stream",
     "text": [
      "# 10.0.3.226:22 SSH-2.0-OpenSSH_7.2p2 Ubuntu-4ubuntu2.2\n",
      "# 10.0.3.226:22 SSH-2.0-OpenSSH_7.2p2 Ubuntu-4ubuntu2.2\n",
      "# 10.0.3.226:22 SSH-2.0-OpenSSH_7.2p2 Ubuntu-4ubuntu2.2\n"
     ]
    }
   ],
   "source": [
    "ssh-keyscan 10.0.3.226 >> .ssh/known_hosts"
   ]
  },
  {
   "cell_type": "code",
   "execution_count": 14,
   "metadata": {},
   "outputs": [
    {
     "name": "stdout",
     "output_type": "stream",
     "text": [
      "insgesamt 24\n",
      "6435455 4 drwxr-xr-x 3 ubuntu ubuntu 4096 Nov 14 14:13 .\n",
      "1978922 4 drwxr-xr-x 3 root   root   4096 Nov 14 14:04 ..\n",
      "6435456 4 -rw-r--r-- 1 ubuntu ubuntu  220 Aug 31  2015 .bash_logout\n",
      "6435458 4 -rw-r--r-- 1 ubuntu ubuntu 3771 Aug 31  2015 .bashrc\n",
      "6435466 4 drwx------ 2 ubuntu ubuntu 4096 Nov 14 14:13 .cache\n",
      "6435457 4 -rw-r--r-- 1 ubuntu ubuntu  655 Mai 16 12:49 .profile\n"
     ]
    }
   ],
   "source": [
    "sshpass -p ubuntu ssh ubuntu@10.0.3.226 ls -lisa"
   ]
  },
  {
   "cell_type": "code",
   "execution_count": 23,
   "metadata": {},
   "outputs": [],
   "source": [
    "alias ubuntu@BSA-BASHY:=\"sshpass -p ubuntu ssh ubuntu@10.0.3.226\""
   ]
  },
  {
   "cell_type": "code",
   "execution_count": 25,
   "metadata": {},
   "outputs": [
    {
     "name": "stdout",
     "output_type": "stream",
     "text": [
      "bsa-bashy\n"
     ]
    }
   ],
   "source": [
    "ubuntu@BSA-BASHY: hostname"
   ]
  },
  {
   "cell_type": "code",
   "execution_count": 27,
   "metadata": {},
   "outputs": [],
   "source": [
    "cd /vagrant/downloads/windows/anstest"
   ]
  },
  {
   "cell_type": "code",
   "execution_count": 31,
   "metadata": {},
   "outputs": [
    {
     "name": "stdout",
     "output_type": "stream",
     "text": [
      " [WARNING]: ansible_winrm_server_cert_validation unsupported by pywinrm (is an\n",
      "up-to-date version of pywinrm installed?)\n",
      "172.22.3.3 | SUCCESS => {\n",
      "    \"changed\": false, \n",
      "    \"failed\": false, \n",
      "    \"ping\": \"pong\"\n",
      "}\n"
     ]
    }
   ],
   "source": [
    "ansible -i inventory -m win_ping windows-rdf-dev"
   ]
  },
  {
   "cell_type": "code",
   "execution_count": 1,
   "metadata": {},
   "outputs": [
    {
     "name": "stdout",
     "output_type": "stream",
     "text": [
      "/home/vagrant/rdf/bsa/hands-on-bsa\n"
     ]
    }
   ],
   "source": [
    "pwd"
   ]
  },
  {
   "cell_type": "code",
   "execution_count": 2,
   "metadata": {},
   "outputs": [
    {
     "name": "stdout",
     "output_type": "stream",
     "text": [
      "Auf Branch master\n",
      "Ihr Branch ist auf dem selben Stand wie 'origin/master'.\n",
      "\n",
      "Unversionierte Dateien:\n",
      "  (benutzen Sie \"git add <Datei>...\", um die Änderungen zum Commit vorzumerken)\n",
      "\n",
      "\tSome_SSH_Ansible_Windows_hacks.ipynb\n",
      "\n",
      "nichts zum Commit vorgemerkt, aber es gibt unversionierte Dateien\n",
      "(benutzen Sie \"git add\" zum Versionieren)\n"
     ]
    }
   ],
   "source": [
    "git status"
   ]
  },
  {
   "cell_type": "code",
   "execution_count": 3,
   "metadata": {},
   "outputs": [],
   "source": [
    "git add ."
   ]
  },
  {
   "cell_type": "code",
   "execution_count": 4,
   "metadata": {},
   "outputs": [
    {
     "name": "stdout",
     "output_type": "stream",
     "text": [
      "[master a17645d] Added some ssh ansible hacks notebook\n",
      " 1 file changed, 218 insertions(+)\n",
      " create mode 100644 Some_SSH_Ansible_Windows_hacks.ipynb\n"
     ]
    }
   ],
   "source": [
    "git commit -m \"Added some ssh ansible hacks notebook\""
   ]
  },
  {
   "cell_type": "code",
   "execution_count": null,
   "metadata": {},
   "outputs": [],
   "source": []
  }
 ],
 "metadata": {
  "kernelspec": {
   "display_name": "Bash",
   "language": "bash",
   "name": "bash"
  },
  "language_info": {
   "codemirror_mode": "shell",
   "file_extension": ".sh",
   "mimetype": "text/x-sh",
   "name": "bash"
  }
 },
 "nbformat": 4,
 "nbformat_minor": 2
}
