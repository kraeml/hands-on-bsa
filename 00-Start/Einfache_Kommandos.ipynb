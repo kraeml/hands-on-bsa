{
 "cells": [
  {
   "cell_type": "markdown",
   "metadata": {},
   "source": [
    "# Einfache Kommandos\n",
    "\n",
    "`pwd` ist das Kommando was mir anzeigt, wo mein aktuelles Arbeitsverzeichnis ist."
   ]
  },
  {
   "cell_type": "code",
   "execution_count": 2,
   "metadata": {},
   "outputs": [
    {
     "name": "stdout",
     "output_type": "stream",
     "text": [
      "/home/vagrant/rdf/bsa/hands-on-bsa/00-Start\n"
     ]
    }
   ],
   "source": [
    "pwd"
   ]
  },
  {
   "cell_type": "markdown",
   "metadata": {},
   "source": [
    "Mit dem Kommando `ls` werden mir Dateien/Verzeichnisse im aktuellen Arbeitsverzeichnis ausgegeben. Die Optionen `-lachi` steht für __long__ __all__ __sort create time__ __human__ und __inode__"
   ]
  },
  {
   "cell_type": "code",
   "execution_count": 1,
   "metadata": {},
   "outputs": [
    {
     "name": "stdout",
     "output_type": "stream",
     "text": [
      "insgesamt 76K\n",
      "6955078 drwxrwxr-x 3 vagrant vagrant 4,0K Okt 17 08:07 .\n",
      "6954996 drwxrwxr-x 4 vagrant vagrant 4,0K Okt 17 07:58 ..\n",
      "6955080 -rw-rw-r-- 1 vagrant vagrant  22K Okt 17 07:58 00-Aufsetzen-des-Containers.ipynb\n",
      "6955081 -rw-rw-r-- 1 vagrant vagrant  19K Okt 17 07:58 01-SSH.ipynb\n",
      "6955079 -rw-rw-r-- 1 vagrant vagrant   25 Okt 17 07:58 .gitignore\n",
      "6955089 drwxr-xr-x 2 vagrant vagrant 4,0K Okt 17 08:07 .ipynb_checkpoints\n",
      "6955082 -rw-rw-r-- 1 vagrant vagrant  990 Okt 17 07:58 lxc-attach.log\n",
      "6955083 -rw-rw-r-- 1 vagrant vagrant  904 Okt 17 07:58 ssh.log\n",
      "6955084 -rw-rw-r-- 1 vagrant vagrant  191 Okt 17 07:58 start-bsa.sh\n",
      "6955099 -rw-r--r-- 1 vagrant vagrant   72 Okt 17 08:07 Untitled.ipynb\n"
     ]
    }
   ],
   "source": [
    "ls -lachi"
   ]
  },
  {
   "cell_type": "code",
   "execution_count": 3,
   "metadata": {},
   "outputs": [
    {
     "name": "stdout",
     "output_type": "stream",
     "text": [
      "Aufruf: ls [OPTION]... [DATEI]...\n",
      "Auflistung von Informationen über die DATEIen (Standardvorgabe ist das\n",
      "momentane Verzeichnis). Alphabetisches Sortieren der Einträge, falls weder\n",
      "-cftuvSUX noch --sort angegeben wurden.\n",
      "\n",
      "Erforderliche Argumente für lange Optionen sind auch für kurze erforderlich.\n",
      "  -a, --all                  Einträge, die mit . beginnen, nicht verstecken\n",
      "  -A, --almost-all           implizierte . und .. nicht anzeigen\n",
      "      --author               mit -l, den Urheber jeder Datei ausgeben\n",
      "  -b, --escape               nicht‐druckbare Zeichen oktale ausgeben\n",
      "      --block-size=GRÖßE     GRÖßE große Blöcke verwenden. So gibt z.B\n",
      "                               „--block-size=M“ die Größen in Einheiten von\n",
      "                               1,048,576 Bytes aus. Siehe GRÖßE Format unten.\n",
      "  -B, --ignore-backups       implizite Einträge, die mit ~ enden, nicht ausgeben\n",
      "  -c                         mit -lt: Sortieren nach und Anzeige von ctime \n",
      "                               (Zeit der letzten Veränderung der Datei‐Status‐\n",
      "                               informationen); mit -l: ctime anzeigen und nach\n",
      "                               Namen sortieren\n",
      "  -C                         Einträge mehrspaltig ausgeben\n",
      "      --color[=WANN]         Kontrolle, wann Farbe zum Unterscheiden der\n",
      "                             Dateitypen eingesetzt wird; WANN kann\n",
      "                             „never“ (nie), „always“ (immer) oder „auto“\n",
      "                             sein\n",
      "  -d, --directory            Verzeichnis‐Einträge statt der Inhalte anzeigen,\n",
      "                               symbolische Verknüpfungen nicht verfolgen\n",
      "  -D, --dired                Ausgabe für den „dired“‐Modus im Emacs formatieren\n",
      "  -f                         nicht sortieren, -aU an‐ und -ls --color abschalten\n",
      "  -F, --classify             ein Zeichen (aus */=>@|) zur Typisierung anhängen\n",
      "      --file-type            genauso, aber kein „*“ anhängen\n",
      "      --format=WORT          across -x, commas -m, horizontal -x, long -l,\n",
      "                               single-column -1, verbose -l, vertical -C\n",
      "      --full-time            wie -l --time-style=full-iso\n",
      "  -g                         wie -l, aber Eigentümer nicht auflisten\n",
      "      --group-directories-first\n",
      "                             Verzeichnisse vor den Dateien gruppieren;\n",
      "                               kann zusammen mit Sortierung benutzt werden,\n",
      "                               doch --sort=none schaltet Gruppierung ab\n",
      "  -G, --no-group             in Langform Gruppennamen nicht auflisten\n",
      "  -h, --human-readable       in Langform Größenangaben in menschenlesbarem\n",
      "                               Format ausgeben (z. B. 1K 234M 2G)\n",
      "      --si                   genauso, aber mit 1000 statt 1024 als Teiler\n",
      "  -H, --dereference-command-line   symbolischen Verknüpfungen, die auf der\n",
      "                               Kommandozeile aufgeführt sind, folgen\n",
      "      --dereference-command-line-symlink-to-dir\n",
      "                             symbolischen Verknüpfungen auf der Kommandozeile,\n",
      "                               die auf Verzeichnisse zeigen, folgen\n",
      "      --hide=MUSTER          implizite Einträge, auf die Shell‐MUSTER passt,\n",
      "                               nicht auflisten (überschrieben durch -a oder -A)\n",
      "      --indicator-style=WORT  Indikator des Stils WORT an Namen der Einträge\n",
      "                               anhängen: „none“ (Standardvorgabe), „slash“ (-p)\n",
      "                               „file-type“ (--file-type), „classify“ (-F)\n",
      "  -i, --inode                mit -l, Inode‐Nummer ausgeben\n",
      "  -I, --ignore=MUSTER        implizierte Einträge, auf die Shell‐MUSTER\n",
      "                               passt, nicht auflisten\n",
      "  -k, --kibibytes            benutzt 1024 Byte Blöcke\n",
      "  -l                         lange Listenformat verwenden\n",
      "  -L, --dereference          bei symbolischen Verknüpfungen die Eigenschaften\n",
      "                               der jeweiligen Zieldatei anzeigen\n",
      "  -m                         so viele Einträge wie möglich, durch Kommata\n",
      "                               getrennt, in eine Zeile packen\n",
      "  -n, --numeric-uid-gid      wie -l, aber numerische UIDs und GIDs anzeigen\n",
      "  -N, --literal              rohe Eintragsnamen anzeigen (z. B. Kontroll‐\n",
      "                               zeichen nicht besonders behandeln)\n",
      "  -o                         wie -l, aber ohne Gruppen‐Informationen\n",
      "  -p, --indicator-style=slash  an Verzeichnisse ein „/“ anhängen\n",
      "  -q, --hide-control-chars   print ? instead of nongraphic characters\n",
      "      --show-control-chars   show nongraphic characters as-is (the default,\n",
      "                               unless program is 'ls' and output is a terminal)\n",
      "  -Q, --quote-name           enclose entry names in double quotes\n",
      "      --quoting-style=WORD   use quoting style WORD for entry names:\n",
      "                               literal, locale, shell, shell-always,\n",
      "                               shell-escape, shell-escape-always, c, escape\n",
      "  -r, --reverse              umgekehrte Reihenfolge beim Sortieren\n",
      "  -R, --recursive            Unterverzeichnissen rekursiv ausgeben\n",
      "  -s, --size                 die Größe jeder Datei in Blöcken ausgeben\n",
      "  -S                         nach Dateigröße sortieren\n",
      "      --sort=WORT            nach WORT anstatt nach Name sortieren: none -U\n",
      "                               extension -X, size -S, time -t, version -v\n",
      "      --time=WORT            mit -l, Zeit als WORT statt der Änderungszeit:\n",
      "                               atime -u, access -u, use -u, ctime -c, status -c;\n",
      "                               die angegebene Zeit als Sortierkriterium\n",
      "                               bei --sort=time verwenden\n",
      "      --time-style=STIL      mit -l, Zeiten mittels Stil STIL anzeigen:\n",
      "                               full-iso, long-iso, iso, locale, +FORMAT\n",
      "                             FORMAT wie bei „date“; hat FORMAT die Form\n",
      "                             FORMAT1<newline>FORMAT2, wird FORMAT1 für nicht\n",
      "                             kürzlich geänderte Dateien verwendet und FORMAT2\n",
      "                             für kürzlich geänderte; beginnt STIL mit „posix-“,\n",
      "                             ist STIL nur außerhalb der POSIX‐Locale gültig\n",
      "  -t                         nach Änderungszeit sortieren, neueste zuerst\n",
      "  -T, --tabsize=SPALTEN      Tabstops statt alle 8 alle SPALTEN Zeichen setzen\n",
      "  -u                         mit -lt: Sortieren nach und Anzeige von\n",
      "                             Zugriffszeit; mit -l: Anzeige von Zugriffszeit\n",
      "                             und nach Namen sortieren; sonst: nach Zugriffszeit\n",
      "  -U                         nicht sortieren; Einträge in Reihenfolge des\n",
      "                               Verzeichnisses auflisten\n",
      "  -v                         natürliche Ordnung von Versionsnummern innerhalb\n",
      "                               von Text\n",
      "  -w, --width=COLS           set output width to COLS.  0 means no limit\n",
      "  -x                         list entries by lines instead of by columns\n",
      "  -X                         sort alphabetically by entry extension\n",
      "  -Z, --context              print any security context of each file\n",
      "  -1                         list one file per line.  Avoid '\\n' with -q or -b\n",
      "      --help     diese Hilfe anzeigen und beenden\n",
      "      --version  Versionsinformation anzeigen und beenden\n",
      "\n",
      "GRÖẞE ist eine Ganzzahl und eine optionale Einheit (Beispiel: 10M sind\n",
      "10*1024*1024). Einheiten sind K, M, G, T, P, E, Z, Y (Potenzen von 1024) oder\n",
      "KB, MB, ... (Potenzen von 1000).\n",
      "\n",
      "Die Verwendung von Farben um Dateitypen zu unterscheiden ist normalerweise\n",
      "oder bei Angabe von --color=never unterbunden. Bei --color=auto werden nur\n",
      "dann Farben verwendet, wenn die Standardausgabe mit einem Terminal verbunden\n",
      "ist. Die Umgebungsvariable LS_COLORS kann die Einstellungen verändern.\n",
      "Verwenden Sie den Befehl dircolors um sie zu setzen.\n",
      "\n",
      "Rückgabewert:\n",
      " 0  wenn alles in Ordnung,\n",
      " 1  bei kleineren Problemen (z. B. kein Zugriff auf Unterverzeichnis),\n",
      " 2  bei großem Ärger (z. B. kein Zugriff auf Kommandozeilenargument).\n",
      "\n",
      "GNU coreutils Onlinehilfe: <http://www.gnu.org/software/coreutils/>\n",
      "Melden Sie Übersetzungsfehler für ls an <translation-team-de@lists.sourceforge.net>\n",
      "Die vollständige Dokumentation ist hier: <http://www.gnu.org/software/coreutils/ls>\n",
      "oder auch lokal mittels „info '(coreutils) ls invocation'“\n"
     ]
    }
   ],
   "source": [
    "ls --help"
   ]
  },
  {
   "cell_type": "code",
   "execution_count": 4,
   "metadata": {},
   "outputs": [
    {
     "name": "stdout",
     "output_type": "stream",
     "text": [
      "ansible 2.4.0.0\n",
      "  config file = /etc/ansible/ansible.cfg\n",
      "  configured module search path = [u'/home/vagrant/.ansible/plugins/modules', u'/usr/share/ansible/plugins/modules']\n",
      "  ansible python module location = /usr/lib/python2.7/dist-packages/ansible\n",
      "  executable location = /usr/bin/ansible\n",
      "  python version = 2.7.12 (default, Nov 19 2016, 06:48:10) [GCC 5.4.0 20160609]\n"
     ]
    }
   ],
   "source": [
    "ansible --version"
   ]
  },
  {
   "cell_type": "markdown",
   "metadata": {},
   "source": [
    "Ansible ist in der Version 2.4.0.0 installiert mehr in AIS."
   ]
  },
  {
   "cell_type": "code",
   "execution_count": 5,
   "metadata": {},
   "outputs": [
    {
     "name": "stdout",
     "output_type": "stream",
     "text": [
      "Der Befehl »inspec« wurde nicht gefunden, meinten Sie vielleicht:\n",
      " Befehl »inspect« aus dem Paket »libboost1.58-tools-dev« (main)\n",
      "inspec: Befehl nicht gefunden.\n"
     ]
    },
    {
     "ename": "",
     "evalue": "127",
     "output_type": "error",
     "traceback": []
    }
   ],
   "source": [
    "inspec --version"
   ]
  },
  {
   "cell_type": "code",
   "execution_count": null,
   "metadata": {},
   "outputs": [],
   "source": []
  }
 ],
 "metadata": {
  "kernelspec": {
   "display_name": "Bash",
   "language": "bash",
   "name": "bash"
  },
  "language_info": {
   "codemirror_mode": "shell",
   "file_extension": ".sh",
   "mimetype": "text/x-sh",
   "name": "bash"
  }
 },
 "nbformat": 4,
 "nbformat_minor": 2
}
