{
 "cells": [
  {
   "cell_type": "markdown",
   "metadata": {},
   "source": [
    "# SSH\n",
    "\n",
    "Aus [ubuntuusers.de/ssh](https://wiki.ubuntuusers.de/SSH/)\n",
    "\n",
    "> Es gab einmal eine Zeit, als Computer im Netz über das Telnet-Protokoll zugänglich waren. Da dieses Protokoll keine Verschlüsselung bot, wurde das Mitschneiden von Passwörtern zur trivialen Angelegenheit.\n",
    "\n",
    "> Um den Fernzugang zu sichern, schrieb Tatu Ylönen Mitte der 1990er eine Programmsuite – bestehend aus Server, Client und Hilfsprogrammen – die er ssh (secure shell) nannte.\n",
    "\n",
    "> Später gründete er die Firma ssh.com {en} und bot die Version 2 der SSH-Suite nur noch kommerziell an. Daraufhin wurde von Entwicklern des Betriebssystems OpenBSD der öffentliche Quellcode der Version 1 geforkt. Sie entwickelten das Programm unter dem Namen \"OpenSSH\" weiter. Diese OpenSSH-Suite wurde fester Bestandteil quasi aller Linux-Distributionen.\n",
    "\n",
    "> Drei wichtige Eigenschaften führten zum Erfolg von ssh:\n",
    "\n",
    "> * Authentifizierung der Gegenstelle, kein Ansprechen falscher Ziele\n",
    "\n",
    "> * Verschlüsselung der Datenübertragung, kein Mithören durch Unbefugte\n",
    "\n",
    "> * Datenintegrität, keine Manipulation der übertragenen Daten"
   ]
  },
  {
   "cell_type": "markdown",
   "metadata": {},
   "source": [
    "## SSH-Client\n",
    "\n",
    "\n",
    "Wichtiger Abschnitt aus dem Ubuntuusers-Artikel hierzu ist:\n",
    "\n",
    "* https://wiki.ubuntuusers.de/SSH/#Der-SSH-Client"
   ]
  },
  {
   "cell_type": "markdown",
   "metadata": {},
   "source": [
    "In unserem Beispiel wäre dies mit `ssh ubuntu@10.0.3.238` möglich.\n",
    "\n",
    "Hier ein Beispiel:\n",
    "\n",
    "```\n",
    "vagrant@virtualbox-ubuntu1604:~/bsa/hands-on-bsa/00-Start$ ssh ubuntu@10.0.3.238\n",
    "ubuntu@10.0.3.238's password:\n",
    "Welcome to Ubuntu 16.04.3 LTS (GNU/Linux 4.4.0-87-generic x86_64)\n",
    "\n",
    " * Documentation:  https://help.ubuntu.com\n",
    " * Management:     https://landscape.canonical.com\n",
    " * Support:        https://ubuntu.com/advantage\n",
    "Last login: Mon Oct  2 12:28:18 2017 from 10.0.3.1\n",
    "ubuntu@bsa-bashy:~$\n",
    "```"
   ]
  },
  {
   "cell_type": "markdown",
   "metadata": {},
   "source": [
    "Die kurz Variante wie `ssh 10.0.3.238` geht nicht, da der Benutzer `vagrant` des Hostsystems nicht gleich mit dem Benutzer `ubuntu` des Zielsystems ist."
   ]
  },
  {
   "cell_type": "markdown",
   "metadata": {},
   "source": [
    "### Die Config\n",
    "\n",
    "Zum Glück gibt es die ssh-config Datei unter `~/.ssh/config`.\n",
    "\n",
    "Wichtiger Abschnitt hierzu:\n",
    "\n",
    "https://wiki.ubuntuusers.de/SSH/#ssh-config\n",
    "\n",
    "Wir können diese Datei etwas automatisiert erstellen."
   ]
  },
  {
   "cell_type": "markdown",
   "metadata": {},
   "source": [
    "#### BSA-BASHY IP-Adresse\n",
    "\n",
    "Zunächst die IP des Containers ermitteln"
   ]
  },
  {
   "cell_type": "code",
   "execution_count": 79,
   "metadata": {},
   "outputs": [
    {
     "name": "stdout",
     "output_type": "stream",
     "text": [
      "NAME      STATE   AUTOSTART GROUPS IPV4       IPV6 \n",
      "bsa-bashy RUNNING 0         -      10.0.3.167 -    \n"
     ]
    }
   ],
   "source": [
    "sudo lxc-ls bsa-bashy --fancy"
   ]
  },
  {
   "cell_type": "markdown",
   "metadata": {},
   "source": [
    "Mit dem Programm awk können wir sehr einfach die Ausgaben der Spalten aufteilen."
   ]
  },
  {
   "cell_type": "code",
   "execution_count": 80,
   "metadata": {},
   "outputs": [
    {
     "name": "stdout",
     "output_type": "stream",
     "text": [
      "NAME\n",
      "ais-bashy\n"
     ]
    }
   ],
   "source": [
    "sudo lxc-ls ais-bashy --fancy | awk '{ print $1 }'"
   ]
  },
  {
   "cell_type": "markdown",
   "metadata": {},
   "source": [
    "Zu `awk` siehe auch\n",
    "\n",
    "* https://wiki.ubuntuusers.de/awk/\n",
    "\n",
    "Zu Pipe siehe auch\n",
    "\n",
    "* https://wiki.ubuntuusers.de/Shell/Umleitungen/\n",
    "\n",
    "* https://wiki.ubuntuusers.de/Shell/Umleitungen/#Der-Pipe-Operator"
   ]
  },
  {
   "cell_type": "code",
   "execution_count": 81,
   "metadata": {},
   "outputs": [
    {
     "name": "stdout",
     "output_type": "stream",
     "text": [
      "STATE\n",
      "RUNNING\n"
     ]
    }
   ],
   "source": [
    "sudo lxc-ls ais-bashy --fancy | awk '{ print $2 }'"
   ]
  },
  {
   "cell_type": "code",
   "execution_count": 82,
   "metadata": {},
   "outputs": [
    {
     "name": "stdout",
     "output_type": "stream",
     "text": [
      "AUTOSTART\n",
      "0\n"
     ]
    }
   ],
   "source": [
    "sudo lxc-ls ais-bashy --fancy | awk '{ print $3 }'"
   ]
  },
  {
   "cell_type": "code",
   "execution_count": 83,
   "metadata": {},
   "outputs": [
    {
     "name": "stdout",
     "output_type": "stream",
     "text": [
      "GROUPS\n",
      "-\n"
     ]
    }
   ],
   "source": [
    "sudo lxc-ls ais-bashy --fancy | awk '{ print $4 }'"
   ]
  },
  {
   "cell_type": "code",
   "execution_count": 84,
   "metadata": {},
   "outputs": [
    {
     "name": "stdout",
     "output_type": "stream",
     "text": [
      "IPV4\n",
      "10.0.3.15\n"
     ]
    }
   ],
   "source": [
    "sudo lxc-ls ais-bashy --fancy | awk '{ print $5 }'"
   ]
  },
  {
   "cell_type": "markdown",
   "metadata": {},
   "source": [
    "Jetz nur noch die IP mit `grep` \"regexen\". Einfach nach einem Zeichen (regex: .) gefolgt von einem Punkt (regex: \\.)."
   ]
  },
  {
   "cell_type": "code",
   "execution_count": 85,
   "metadata": {},
   "outputs": [
    {
     "name": "stdout",
     "output_type": "stream",
     "text": [
      "10.0.3.15\n"
     ]
    }
   ],
   "source": [
    "sudo lxc-ls ais-bashy --fancy | awk '{ print $5 }' | grep '.\\.'"
   ]
  },
  {
   "cell_type": "markdown",
   "metadata": {},
   "source": [
    "Zu `grep` siehe auch:\n",
    "\n",
    "* https://wiki.ubuntuusers.de/grep/\n",
    "* https://wiki.ubuntuusers.de/grep/#Besondere-Zeichen"
   ]
  },
  {
   "cell_type": "markdown",
   "metadata": {},
   "source": [
    "Alternative Regex wären auch:"
   ]
  },
  {
   "cell_type": "code",
   "execution_count": 63,
   "metadata": {},
   "outputs": [
    {
     "name": "stdout",
     "output_type": "stream",
     "text": [
      "10.0.3.15\n"
     ]
    }
   ],
   "source": [
    "sudo lxc-ls ais-bashy --fancy | awk '{ print $5 }' | grep -E '[0-9]+\\.'"
   ]
  },
  {
   "cell_type": "code",
   "execution_count": 64,
   "metadata": {},
   "outputs": [
    {
     "name": "stdout",
     "output_type": "stream",
     "text": [
      "10.0.3.15\n"
     ]
    }
   ],
   "source": [
    "sudo lxc-ls ais-bashy --fancy | awk '{ print $5 }' | grep -E '[[:digit:]]+\\.'"
   ]
  },
  {
   "cell_type": "markdown",
   "metadata": {},
   "source": [
    "### Umgebungsvariable erstellen"
   ]
  },
  {
   "cell_type": "code",
   "execution_count": 65,
   "metadata": {},
   "outputs": [],
   "source": [
    "export BSA_IP=$(sudo lxc-ls ais-bashy --fancy | awk '{ print $5 }' | grep '.\\.')"
   ]
  },
  {
   "cell_type": "code",
   "execution_count": 66,
   "metadata": {},
   "outputs": [
    {
     "name": "stdout",
     "output_type": "stream",
     "text": [
      "10.0.3.15\n"
     ]
    }
   ],
   "source": [
    "echo $BSA_IP"
   ]
  },
  {
   "cell_type": "markdown",
   "metadata": {},
   "source": [
    "Mit dem Kommando `ssh ubuntu@${BSA_IP}` können wir uns mit dem Passwort `ubuntu` schon einloggen.\n",
    "\n",
    "Im diesem Beispiel wird auch gezeigt, wie der Serverschlüssel ausgegeben werden kann.\n",
    "\n",
    "```\n",
    "vagrant@virtualbox-ubuntu1604:~/.ssh$ echo ${BSA_IP}\n",
    "10.0.3.15\n",
    "vagrant@virtualbox-ubuntu1604:~/.ssh$ ssh ubuntu@${BSA_IP}\n",
    "The authenticity of host '10.0.3.15 (10.0.3.15)' can't be established.\n",
    "ECDSA key fingerprint is SHA256:soF6eY4Ejqn2C5HP3SBAJM1GDiYW2ZrH73uidK5vzGo.\n",
    "Are you sure you want to continue connecting (yes/no)? yes\n",
    "Warning: Permanently added '10.0.3.15' (ECDSA) to the list of known hosts.\n",
    "\n",
    "ubuntu@10.0.3.15's password: \n",
    "Welcome to Ubuntu 16.04.3 LTS (GNU/Linux 4.4.0-87-generic x86_64)\n",
    "\n",
    " * Documentation:  https://help.ubuntu.com\n",
    " * Management:     https://landscape.canonical.com\n",
    " * Support:        https://ubuntu.com/advantage\n",
    "Last login: Mon Oct  2 07:09:57 2017 from 10.0.3.1\n",
    "\n",
    "ubuntu@ais-bashy:~$ ssh-keygen -f /etc/ssh/ssh_host_ecdsa_key.pub -l \n",
    "256 SHA256:soF6eY4Ejqn2C5HP3SBAJM1GDiYW2ZrH73uidK5vzGo root@ais-bashy (ECDSA)\n",
    "ubuntu@ais-bashy:~$ exit\n",
    "Abgemeldet\n",
    "Connection to 10.0.3.15 closed.\n",
    "\n",
    "vagrant@virtualbox-ubuntu1604:~/bsa/hands-on-bsa/00-Start$\n",
    "```"
   ]
  },
  {
   "cell_type": "markdown",
   "metadata": {},
   "source": [
    "### Erstellen der ssh-config\n",
    "\n",
    "Diesmal mit Escape-Sequenzen:"
   ]
  },
  {
   "cell_type": "code",
   "execution_count": 52,
   "metadata": {},
   "outputs": [],
   "source": [
    "echo -e \"HOST BSA-BASHY\\n\\tHostName\\t${BSA_IP}\\n\\tUser\\tubuntu\" > ~/.ssh/config"
   ]
  },
  {
   "cell_type": "code",
   "execution_count": 53,
   "metadata": {},
   "outputs": [
    {
     "name": "stdout",
     "output_type": "stream",
     "text": [
      "HOST BSA-BASHY\n",
      "\tHostName\t10.0.3.15\n",
      "\tUser\tubuntu\n"
     ]
    }
   ],
   "source": [
    "cat ~/.ssh/config"
   ]
  },
  {
   "cell_type": "markdown",
   "metadata": {},
   "source": [
    "### Einlogen via ssh-config Datei\n",
    "\n",
    "```\n",
    "vagrant@virtualbox-ubuntu1604:~/bsa/hands-on-bsa/00-Start$ ssh BSA-BASHY \n",
    "ubuntu@10.0.3.15's password: \n",
    "Welcome to Ubuntu 16.04.3 LTS (GNU/Linux 4.4.0-87-generic x86_64)\n",
    "\n",
    " * Documentation:  https://help.ubuntu.com\n",
    " * Management:     https://landscape.canonical.com\n",
    " * Support:        https://ubuntu.com/advantage\n",
    "Last login: Wed Oct  4 12:07:52 2017 from 10.0.3.1\n",
    "\n",
    "ubuntu@ais-bashy:~$ ls -lisa\n",
    "insgesamt 32\n",
    "3030309 4 drwxr-xr-x 4 ubuntu ubuntu 4096 Okt  3 07:49 .\n",
    "3014694 4 drwxr-xr-x 3 root   root   4096 Okt  2 07:09 ..\n",
    "3554207 4 drwx------ 3 ubuntu ubuntu 4096 Okt  2 07:09 .ansible\n",
    "3037556 4 -rw------- 1 ubuntu ubuntu  115 Okt  4 12:09 .bash_history\n",
    "3030310 4 -rw-r--r-- 1 ubuntu ubuntu  220 Aug 31  2015 .bash_logout\n",
    "3030311 4 -rw-r--r-- 1 ubuntu ubuntu 3771 Aug 31  2015 .bashrc\n",
    "3015450 4 drwx------ 2 ubuntu ubuntu 4096 Okt  2 07:09 .cache\n",
    "3030312 4 -rw-r--r-- 1 ubuntu ubuntu  655 Mai 16 12:49 .profile\n",
    "3030325 0 -rw-r--r-- 1 ubuntu ubuntu    0 Okt  2 07:09 .sudo_as_admin_successful\n",
    "ubuntu@ais-bashy:~$ exit\n",
    "Abgemeldet\n",
    "Connection to 10.0.3.15 closed.\n",
    "\n",
    "vagrant@virtualbox-ubuntu1604:~/bsa/hands-on-bsa/00-Start$ exit\n",
    "exit\n",
    "```"
   ]
  },
  {
   "cell_type": "markdown",
   "metadata": {},
   "source": [
    "### Schlüssel erstellen und verteilen\n",
    "\n",
    "Mit `ssh-keygen` erstellet man einen ssh-Schlüssel und mit `ssh-copy-id` kann dieser auf einen entfernten Rechner übertragen werden.\n",
    "\n",
    "```\n",
    "vagrant@virtualbox-ubuntu1604:~/bsa/hands-on-bsa/00-Start$ ssh-copy-id BSA-BASHY\n",
    "\n",
    "/usr/bin/ssh-copy-id: ERROR: failed to open ID file '/home/vagrant/.pub': No such file\n",
    "\t(to install the contents of '/home/vagrant/.pub' anyway, look at the -f option)\n",
    "vagrant@virtualbox-ubuntu1604:~/bsa/hands-on-bsa/00-Start$ ssh-keygen \n",
    "Generating public/private rsa key pair.\n",
    "Enter file in which to save the key (/home/vagrant/.ssh/id_rsa): \n",
    "Enter passphrase (empty for no passphrase): \n",
    "Enter same passphrase again: \n",
    "Your identification has been saved in /home/vagrant/.ssh/id_rsa.\n",
    "Your public key has been saved in /home/vagrant/.ssh/id_rsa.pub.\n",
    "The key fingerprint is:\n",
    "SHA256:gXCelFlwnCQvOSbVy3YV0Wq3q6xVBT9Tm9a1bWOY6z0 vagrant@virtualbox-ubuntu1604\n",
    "The key's randomart image is:\n",
    "+---[RSA 2048]----+\n",
    "|    . *O+.  o+. o|\n",
    "|     *oB+   . +oO|\n",
    "|    . O.o. . + X*|\n",
    "|     o o+.. o =o+|\n",
    "|       .S. . o.. |\n",
    "|            ..o  |\n",
    "|            .. E |\n",
    "|           o  . .|\n",
    "|          ..o.   |\n",
    "+----[SHA256]-----+\n",
    "vagrant@virtualbox-ubuntu1604:~/bsa/hands-on-bsa/00-Start$ ssh-copy-id BSA-BASHY\n",
    "/usr/bin/ssh-copy-id: INFO: Source of key(s) to be installed: \"/home/vagrant/.ssh/id_rsa.pub\"\n",
    "/usr/bin/ssh-copy-id: INFO: attempting to log in with the new key(s), to filter out any that are already installed\n",
    "/usr/bin/ssh-copy-id: INFO: 1 key(s) remain to be installed -- if you are prompted now it is to install the new keys\n",
    "ubuntu@10.0.3.15's password: \n",
    "\n",
    "Number of key(s) added: 1\n",
    "\n",
    "Now try logging into the machine, with:   \"ssh 'BSA-BASHY'\"\n",
    "and check to make sure that only the key(s) you wanted were added.\n",
    "\n",
    "vagrant@virtualbox-ubuntu1604:~/bsa/hands-on-bsa/00-Start$ ssh BSA-BASHY\n",
    "Welcome to Ubuntu 16.04.3 LTS (GNU/Linux 4.4.0-87-generic x86_64)\n",
    "\n",
    " * Documentation:  https://help.ubuntu.com\n",
    " * Management:     https://landscape.canonical.com\n",
    " * Support:        https://ubuntu.com/advantage\n",
    "Last login: Wed Oct  4 12:25:20 2017 from 10.0.3.1\n",
    "\n",
    "ubuntu@ais-bashy:~$ exit\n",
    "Abgemeldet\n",
    "Connection to 10.0.3.15 closed.\n",
    "\n",
    "vagrant@virtualbox-ubuntu1604:~/bsa/hands-on-bsa/00-Start$\n",
    "```"
   ]
  },
  {
   "cell_type": "markdown",
   "metadata": {},
   "source": [
    "## Entfernte Ausführen\n",
    "\n",
    "Das entfernte Ausführen von Kommandos wäre jetzt auch via ssh möglich."
   ]
  },
  {
   "cell_type": "code",
   "execution_count": 67,
   "metadata": {},
   "outputs": [
    {
     "name": "stdout",
     "output_type": "stream",
     "text": [
      "/home/ubuntu\n"
     ]
    }
   ],
   "source": [
    "ssh BSA-BASHY pwd"
   ]
  },
  {
   "cell_type": "markdown",
   "metadata": {},
   "source": [
    "## Kopieren von Dateien\n",
    "\n",
    "Kopieren via ssh ist mit `scp` möglich."
   ]
  },
  {
   "cell_type": "code",
   "execution_count": 86,
   "metadata": {},
   "outputs": [
    {
     "name": "stdout",
     "output_type": "stream",
     "text": [
      "\r",
      "id_rsa.pub                                      0%    0     0.0KB/s   --:-- ETA\r",
      "id_rsa.pub                                    100%  411     0.4KB/s   00:00    \n"
     ]
    }
   ],
   "source": [
    "scp ~/.ssh/id_rsa.pub BSA-BASHY:/tmp/"
   ]
  },
  {
   "cell_type": "markdown",
   "metadata": {},
   "source": [
    "## root ssh-Login\n",
    "\n",
    "Ein SSH-Login für `root` mit __Passwort__ sollte nicht erlaubt sein. Dagegen kann der Root-Login über eine __Passphrase__ sprich mit Schlüssel erfolgen. Ein direktes verteilen des Schlüssels via `ssh-copy-id` ist für root nicht möglich. Daher geht hier der Umweg über `ubuntu`. Deiser wird zu root und kann dann den Schlüssel händisch importieren. \n",
    "\n",
    "```\n",
    "vagrant@virtualbox-ubuntu1604:~/bsa/hands-on-bsa/00-Start$ ssh BSA-BASHY\n",
    "ubuntu@ais-bashy:~$ ls /tmp/id*\n",
    "/tmp/id_rsa.pub\n",
    "ubuntu@ais-bashy:~$ sudo su -\n",
    "[sudo] Passwort für ubuntu: \n",
    "\n",
    "root@ais-bashy:~# ssh-keygen\n",
    "Generating public/private rsa key pair.\n",
    "Enter file in which to save the key (/root/.ssh/id_rsa): \n",
    "Enter passphrase (empty for no passphrase): \n",
    "Enter same passphrase again: \n",
    "Your identification has been saved in /root/.ssh/id_rsa.\n",
    "Your public key has been saved in /root/.ssh/id_rsa.pub.\n",
    "The key fingerprint is:\n",
    "SHA256:Dx/ekPlmOqE36BfAQisG65U7fja1BWImNPbiHjfynMw root@ais-bashy\n",
    "The key's randomart image is:\n",
    "+---[RSA 2048]----+\n",
    "|                 |\n",
    "|  . + .          |\n",
    "|   = = o         |\n",
    "|  . B B +  o     |\n",
    "| . + B oSo=      |\n",
    "|  . * o .=+=     |\n",
    "|   o X + =+o=    |\n",
    "|    o E + =+     |\n",
    "|     o o.o.o     |\n",
    "+----[SHA256]-----+\n",
    "root@ais-bashy:~# cat /tmp/id_rsa.pub >> .ssh/authorized_keys\n",
    "root@ais-bashy:~# exit\n",
    "Abgemeldet\n",
    "ubuntu@ais-bashy:~$ exit\n",
    "Abgemeldet\n",
    "Connection to 10.0.3.15 closed.\n",
    "\n",
    "vagrant@virtualbox-ubuntu1604:~/bsa/hands-on-bsa/00-Start$ ssh root@${BSA_IP}\n",
    "Welcome to Ubuntu 16.04.3 LTS (GNU/Linux 4.4.0-87-generic x86_64)\n",
    "\n",
    " * Documentation:  https://help.ubuntu.com\n",
    " * Management:     https://landscape.canonical.com\n",
    " * Support:        https://ubuntu.com/advantage\n",
    "Last login: Mon Oct  2 07:14:07 2017 from 10.0.3.1\n",
    "\n",
    "root@ais-bashy:~# exit\n",
    "Abgemeldet\n",
    "Connection to 10.0.3.15 closed.\n",
    "\n",
    "vagrant@virtualbox-ubuntu1604:~/bsa/hands-on-bsa/00-Start$ exit\n",
    "exit\n",
    "```"
   ]
  },
  {
   "cell_type": "markdown",
   "metadata": {},
   "source": [
    "## Appendix ssh"
   ]
  },
  {
   "cell_type": "markdown",
   "metadata": {},
   "source": [
    "https://superuser.com/questions/247564/is-there-a-way-for-one-ssh-config-file-to-include-another-one"
   ]
  },
  {
   "cell_type": "code",
   "execution_count": 44,
   "metadata": {},
   "outputs": [
    {
     "name": "stdout",
     "output_type": "stream",
     "text": [
      "OpenSSH_7.2p2 Ubuntu-4ubuntu2.2, OpenSSL 1.0.2g  1 Mar 2016\n"
     ]
    }
   ],
   "source": [
    "ssh -V"
   ]
  },
  {
   "cell_type": "code",
   "execution_count": 89,
   "metadata": {},
   "outputs": [
    {
     "name": "stdout",
     "output_type": "stream",
     "text": [
      "authorized_keys  config  id_rsa  id_rsa.pub  known_hosts\n"
     ]
    }
   ],
   "source": [
    "ls ~/.ssh"
   ]
  },
  {
   "cell_type": "code",
   "execution_count": 90,
   "metadata": {},
   "outputs": [
    {
     "name": "stdout",
     "output_type": "stream",
     "text": [
      "|1|DXlztx9meRadHdtQeA+VH/94j2I=|a2PVd2zcwW4eVJq7zNu89rYrSaY= ecdsa-sha2-nistp256 AAAAE2VjZHNhLXNoYTItbmlzdHAyNTYAAAAIbmlzdHAyNTYAAABBBCBQA5ac0c2oVcj53bDo1I89fULZHMhw2gAGNlr2hjJklTkoI5XfheEvSwvpsx1vUzj7RE/isQyqjL7i41rLygg=\n"
     ]
    }
   ],
   "source": [
    "cat ~/.ssh/known_hosts"
   ]
  },
  {
   "cell_type": "code",
   "execution_count": null,
   "metadata": {},
   "outputs": [],
   "source": []
  }
 ],
 "metadata": {
  "kernelspec": {
   "display_name": "Bash",
   "language": "bash",
   "name": "bash"
  },
  "language_info": {
   "codemirror_mode": "shell",
   "file_extension": ".sh",
   "mimetype": "text/x-sh",
   "name": "bash"
  }
 },
 "nbformat": 4,
 "nbformat_minor": 2
}
