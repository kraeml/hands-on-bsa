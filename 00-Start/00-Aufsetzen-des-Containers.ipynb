{
 "cells": [
  {
   "cell_type": "markdown",
   "metadata": {},
   "source": [
    "# Aufsetzen des Containers\n",
    "\n",
    "Wir arbeiten mit LXC https://wiki.ubuntuusers.de/LXC/.\n",
    "\n",
    "> LinuX Container (LXC) bieten die Möglichkeit, Prozesse und Prozessgruppen zu isolieren, indem Kernel-Ressourcen virtualisiert und gegeneinander abgeschottet werden. Dies wird mit Hilfe der im Kernel enthaltenen Cgroups realisiert. Mit LXC kann man entweder einzelne Anwendungen oder ganze Linux-Distributionen in einem Container starten. Ähnliche Konzepte gibt es bei Linux-VServer oder Jails (FreeBSD) oder Zones (Solaris)."
   ]
  },
  {
   "cell_type": "markdown",
   "metadata": {},
   "source": [
    "## Auflisten von vorhandenen Containern\n",
    "\n",
    "Mehr zu lxc-ls mit lxc-ls --help."
   ]
  },
  {
   "cell_type": "code",
   "execution_count": 1,
   "metadata": {},
   "outputs": [
    {
     "name": "stdout",
     "output_type": "stream",
     "text": [
      "NAME      STATE   AUTOSTART GROUPS IPV4       IPV6 \n",
      "ais-bashy RUNNING 0         -      10.0.3.15  -    \n",
      "db        RUNNING 0         -      10.0.3.147 -    \n",
      "playbooks RUNNING 0         -      10.0.3.80  -    \n",
      "web1      RUNNING 0         -      10.0.3.208 -    \n",
      "web2      RUNNING 0         -      10.0.3.42  -    \n"
     ]
    }
   ],
   "source": [
    "sudo lxc-ls --fancy"
   ]
  },
  {
   "cell_type": "markdown",
   "metadata": {},
   "source": [
    "## Die bsa-bashy"
   ]
  },
  {
   "cell_type": "code",
   "execution_count": 2,
   "metadata": {},
   "outputs": [
    {
     "name": "stdout",
     "output_type": "stream",
     "text": [
      "The configuration file contains legacy configuration keys.\n",
      "Please update your configuration file!\n",
      "The configuration file contains legacy configuration keys.\n",
      "Please update your configuration file!\n",
      "Checking cache download in /var/cache/lxc/xenial/rootfs-amd64 ... \n",
      "Copy /var/cache/lxc/xenial/rootfs-amd64 to /var/lib/lxc/bsa-bashy/rootfs ... \n",
      "Copying rootfs to /var/lib/lxc/bsa-bashy/rootfs ...\n",
      "Generating locales (this might take a while)...\n",
      "  de_DE.UTF-8... done\n",
      "Generation complete.\n",
      "debconf: kann Oberfläche nicht initialisieren: Dialog\n",
      "debconf: (Die Dialog-Oberfläche funktioniert nicht auf einem Dumb-Terminal, einem Emacs-Shellbuffer oder ohne ein steuerndes Terminal.)\n",
      "debconf: greife zurück auf die Oberfläche: Readline\n",
      "debconf: kann Oberfläche nicht initialisieren: Readline\n",
      "debconf: (Can't locate Term/ReadLine.pm in @INC (you may need to install the Term::ReadLine module) (@INC contains: /etc/perl /usr/local/lib/x86_64-linux-gnu/perl/5.22.1 /usr/local/share/perl/5.22.1 /usr/lib/x86_64-linux-gnu/perl5/5.22 /usr/share/perl5 /usr/lib/x86_64-linux-gnu/perl/5.22 /usr/share/perl/5.22 /usr/local/lib/site_perl /usr/lib/x86_64-linux-gnu/perl-base .) at /usr/share/perl5/Debconf/FrontEnd/Readline.pm line 7.)\n",
      "debconf: greife zurück auf die Oberfläche: Teletype\n",
      "Creating SSH2 RSA key; this may take some time ...\n",
      "2048 SHA256:bcrmH4qCKslX3sPNyc7tO5oFmLdyJQuSntXszaDEzCo root@virtualbox-ubuntu1604 (RSA)\n",
      "Creating SSH2 DSA key; this may take some time ...\n",
      "1024 SHA256:2gLCfaEwK/SBc0oPYd+KeK6rV+yImQ+pd/CjkyL6dAM root@virtualbox-ubuntu1604 (DSA)\n",
      "Creating SSH2 ECDSA key; this may take some time ...\n",
      "256 SHA256:oWNJiFVIYPptyhx9/nqkYndefjEqy3IdWXP65uY+rdI root@virtualbox-ubuntu1604 (ECDSA)\n",
      "Creating SSH2 ED25519 key; this may take some time ...\n",
      "256 SHA256:meU08sNgZJD8sESyZWyudJmbi2WRNyGdqr6G/k4s5K4 root@virtualbox-ubuntu1604 (ED25519)\n",
      "invoke-rc.d: could not determine current runlevel\n",
      "invoke-rc.d: policy-rc.d denied execution of start.\n",
      "\n",
      "Current default time zone: 'Etc/UTC'\n",
      "Local time is now:      Mon Oct  2 13:00:12 UTC 2017.\n",
      "Universal Time is now:  Mon Oct  2 13:00:12 UTC 2017.\n",
      "\n",
      "\n",
      "##\n",
      "# The default user is 'ubuntu' with password 'ubuntu'!\n",
      "# Use the 'sudo' command to run tasks as root in the container.\n",
      "##\n",
      "\n",
      "The configuration file contains legacy configuration keys.\n",
      "Please update your configuration file!\n"
     ]
    }
   ],
   "source": [
    "sudo lxc-create --template ubuntu --name bsa-bashy"
   ]
  },
  {
   "cell_type": "markdown",
   "metadata": {},
   "source": [
    "### Auflisten der bsa-bashy"
   ]
  },
  {
   "cell_type": "code",
   "execution_count": 3,
   "metadata": {},
   "outputs": [
    {
     "name": "stdout",
     "output_type": "stream",
     "text": [
      "The configuration file contains legacy configuration keys.\n",
      "Please update your configuration file!\n",
      "NAME      STATE   AUTOSTART GROUPS IPV4 IPV6 \n",
      "bsa-bashy STOPPED 0         -      -    -    \n"
     ]
    }
   ],
   "source": [
    "sudo lxc-ls bsa-bashy --fancy"
   ]
  },
  {
   "cell_type": "markdown",
   "metadata": {},
   "source": [
    "Die Meldung:\n",
    "\n",
    "```\n",
    "The configuration file contains legacy configuration keys.\n",
    "Please update your configuration file!\n",
    "```\n",
    "\n",
    "bekommen wir mit folgendem Befehl weg:"
   ]
  },
  {
   "cell_type": "code",
   "execution_count": 4,
   "metadata": {},
   "outputs": [],
   "source": [
    "sudo lxc-update-config -c /var/lib/lxc/bsa-bashy/config"
   ]
  },
  {
   "cell_type": "code",
   "execution_count": 5,
   "metadata": {},
   "outputs": [
    {
     "name": "stdout",
     "output_type": "stream",
     "text": [
      "NAME      STATE   AUTOSTART GROUPS IPV4 IPV6 \n",
      "bsa-bashy STOPPED 0         -      -    -    \n"
     ]
    }
   ],
   "source": [
    "sudo lxc-ls bsa-bashy --fancy"
   ]
  },
  {
   "cell_type": "markdown",
   "metadata": {},
   "source": [
    "### Starten der bsa-bashy"
   ]
  },
  {
   "cell_type": "code",
   "execution_count": 6,
   "metadata": {},
   "outputs": [
    {
     "name": "stdout",
     "output_type": "stream",
     "text": [
      "NAME      STATE   AUTOSTART GROUPS IPV4      IPV6 \n",
      "bsa-bashy RUNNING 0         -      10.0.3.16 -    \n"
     ]
    }
   ],
   "source": [
    "sudo lxc-start --name bsa-bashy\n",
    "sleep 5\n",
    "sudo lxc-ls bsa-bashy --fancy"
   ]
  },
  {
   "cell_type": "markdown",
   "metadata": {},
   "source": [
    "### Stoppen der bsa-bashy"
   ]
  },
  {
   "cell_type": "code",
   "execution_count": 7,
   "metadata": {},
   "outputs": [
    {
     "name": "stdout",
     "output_type": "stream",
     "text": [
      "NAME      STATE   AUTOSTART GROUPS IPV4 IPV6 \n",
      "bsa-bashy STOPPED 0         -      -    -    \n"
     ]
    }
   ],
   "source": [
    "sudo lxc-stop --name bsa-bashy\n",
    "sudo lxc-ls bsa-bashy --fancy"
   ]
  },
  {
   "cell_type": "markdown",
   "metadata": {},
   "source": [
    "### Löschen der bsa-bashy"
   ]
  },
  {
   "cell_type": "code",
   "execution_count": 8,
   "metadata": {},
   "outputs": [
    {
     "name": "stdout",
     "output_type": "stream",
     "text": [
      "Destroyed container bsa-bashy\n"
     ]
    }
   ],
   "source": [
    "sudo lxc-destroy --name bsa-bashy"
   ]
  },
  {
   "cell_type": "code",
   "execution_count": 9,
   "metadata": {},
   "outputs": [
    {
     "name": "stdout",
     "output_type": "stream",
     "text": [
      "NAME      STATE   AUTOSTART GROUPS IPV4       IPV6 \n",
      "ais-bashy RUNNING 0         -      10.0.3.15  -    \n",
      "db        RUNNING 0         -      10.0.3.147 -    \n",
      "playbooks RUNNING 0         -      10.0.3.80  -    \n",
      "web1      RUNNING 0         -      10.0.3.208 -    \n",
      "web2      RUNNING 0         -      10.0.3.42  -    \n"
     ]
    }
   ],
   "source": [
    "sudo lxc-ls --fancy"
   ]
  },
  {
   "cell_type": "markdown",
   "metadata": {},
   "source": [
    "### BSA Start/Kill Skripte"
   ]
  },
  {
   "cell_type": "code",
   "execution_count": 10,
   "metadata": {},
   "outputs": [
    {
     "name": "stdout",
     "output_type": "stream",
     "text": [
      "echo ist eine von der Shell mitgelieferte Funktion.\n"
     ]
    }
   ],
   "source": [
    "type echo"
   ]
  },
  {
   "cell_type": "code",
   "execution_count": 11,
   "metadata": {},
   "outputs": [
    {
     "name": "stdout",
     "output_type": "stream",
     "text": [
      "echo: echo [-neE] [Argument ...]\n",
      "    Ausgabe der Argumente auf die Standardausgabe.\n",
      "    \n",
      "    Zeigt die Argumente auf der Standardausgabe gefolgt von einem\n",
      "    Zeilenumbruch an.\n",
      "    \n",
      "    Optionen:\n",
      "      -n\tKeinen Zeilenumbruch anfügen\n",
      "      -e\tInterpretation der folgenden Escape-Sequenzen zulassen\n",
      "      -E\tKeine Interpretation der Escape-Sequenzen.\n",
      "    \n",
      "    »echo« interpretiert die folgenden Escape-Sequenzen:\n",
      "      \\a\tAlarm (Glocke)\n",
      "      \\b\tRücktaste (Backspace)\n",
      "      \\c\tweitere Ausgabe unterdrücken\n",
      "      \\e\tEscape-Zeichen\n",
      "      \\E        Escape Zeichen\n",
      "      \\f\tSeitenvorschub\n",
      "      \\n\tZeilenvorschub\n",
      "      \\r\tWagenrücklauf\n",
      "      \\t\tHorizontaler Tabulator\n",
      "      \\v\tVertikaler Tabulator\n",
      "      \\\\        umgekehrter Schrägstrich (Backslash)\n",
      "      \\0nnn\tZeichen mit dem ASCII-Code »NNN« (oktal). »NNN« kann null\n",
      "    \t\tbis drei oktale Ziffern haben.\n",
      "      \\xHH\tAcht-Bit-Zeichen mit dem Wert »HH« (hexadezimal). »HH«\n",
      "    \t\tkann ein oder zwei hexadezimale Ziffern haben.\n",
      "    \n",
      "    Rückgabewert:\n",
      "    Gibt »Erfolg« zurück, außer ein Ausgabefehler tritt auf.\n"
     ]
    }
   ],
   "source": [
    "help echo"
   ]
  },
  {
   "cell_type": "code",
   "execution_count": 22,
   "metadata": {},
   "outputs": [],
   "source": [
    "echo -E '#!/bin/bash\n",
    "set -xe\n",
    "sudo lxc-create --template ubuntu --name bsa-bashy\n",
    "sudo lxc-update-config -c /var/lib/lxc/bsa-bashy/config\n",
    "sudo lxc-start --name bsa-bashy\n",
    "sleep 5\n",
    "sudo lxc-ls bsa-bashy --fancy' > bsa-start.sh"
   ]
  },
  {
   "cell_type": "code",
   "execution_count": 23,
   "metadata": {},
   "outputs": [
    {
     "name": "stdout",
     "output_type": "stream",
     "text": [
      "#!/bin/bash\n",
      "set -xe\n",
      "sudo lxc-create --template ubuntu --name bsa-bashy\n",
      "sudo lxc-update-config -c /var/lib/lxc/bsa-bashy/config\n",
      "sudo lxc-start --name bsa-bashy\n",
      "sleep 5\n",
      "sudo lxc-ls bsa-bashy --fancy\n"
     ]
    }
   ],
   "source": [
    "cat bsa-start.sh"
   ]
  },
  {
   "cell_type": "code",
   "execution_count": 14,
   "metadata": {},
   "outputs": [],
   "source": [
    "chmod u+x bsa-start.sh"
   ]
  },
  {
   "cell_type": "code",
   "execution_count": 25,
   "metadata": {},
   "outputs": [
    {
     "name": "stdout",
     "output_type": "stream",
     "text": [
      "+ sudo lxc-create --template ubuntu --name bsa-bashy\n",
      "The configuration file contains legacy configuration keys.\n",
      "Please update your configuration file!\n",
      "The configuration file contains legacy configuration keys.\n",
      "Please update your configuration file!\n",
      "Checking cache download in /var/cache/lxc/xenial/rootfs-amd64 ... \n",
      "Copy /var/cache/lxc/xenial/rootfs-amd64 to /var/lib/lxc/bsa-bashy/rootfs ... \n",
      "Copying rootfs to /var/lib/lxc/bsa-bashy/rootfs ...\n",
      "Generating locales (this might take a while)...\n",
      "  de_DE.UTF-8... done\n",
      "Generation complete.\n",
      "debconf: kann Oberfläche nicht initialisieren: Dialog\n",
      "debconf: (Die Dialog-Oberfläche funktioniert nicht auf einem Dumb-Terminal, einem Emacs-Shellbuffer oder ohne ein steuerndes Terminal.)\n",
      "debconf: greife zurück auf die Oberfläche: Readline\n",
      "debconf: kann Oberfläche nicht initialisieren: Readline\n",
      "debconf: (Can't locate Term/ReadLine.pm in @INC (you may need to install the Term::ReadLine module) (@INC contains: /etc/perl /usr/local/lib/x86_64-linux-gnu/perl/5.22.1 /usr/local/share/perl/5.22.1 /usr/lib/x86_64-linux-gnu/perl5/5.22 /usr/share/perl5 /usr/lib/x86_64-linux-gnu/perl/5.22 /usr/share/perl/5.22 /usr/local/lib/site_perl /usr/lib/x86_64-linux-gnu/perl-base .) at /usr/share/perl5/Debconf/FrontEnd/Readline.pm line 7.)\n",
      "debconf: greife zurück auf die Oberfläche: Teletype\n",
      "Creating SSH2 RSA key; this may take some time ...\n",
      "2048 SHA256:Iww6lpOGlqR8FhgFkwRsJDvEeY+JgPAkLozIVVSMnFs root@virtualbox-ubuntu1604 (RSA)\n",
      "Creating SSH2 DSA key; this may take some time ...\n",
      "1024 SHA256:LUnf3VXoOixR7YcrY6EvutxAUqXKOAzKsXHr6e2jQjQ root@virtualbox-ubuntu1604 (DSA)\n",
      "Creating SSH2 ECDSA key; this may take some time ...\n",
      "256 SHA256:YKoZrdN1FVqmurerlJsh2Nh/fKWv01IDAcVvYFN5NiA root@virtualbox-ubuntu1604 (ECDSA)\n",
      "Creating SSH2 ED25519 key; this may take some time ...\n",
      "256 SHA256:Aig5DmQ0kseEkvA1sjdRtxOZBxfa8gEqw6DQ4P92aI8 root@virtualbox-ubuntu1604 (ED25519)\n",
      "invoke-rc.d: could not determine current runlevel\n",
      "invoke-rc.d: policy-rc.d denied execution of start.\n",
      "\n",
      "Current default time zone: 'Etc/UTC'\n",
      "Local time is now:      Mon Oct  2 13:06:45 UTC 2017.\n",
      "Universal Time is now:  Mon Oct  2 13:06:45 UTC 2017.\n",
      "\n",
      "\n",
      "##\n",
      "# The default user is 'ubuntu' with password 'ubuntu'!\n",
      "# Use the 'sudo' command to run tasks as root in the container.\n",
      "##\n",
      "\n",
      "The configuration file contains legacy configuration keys.\n",
      "Please update your configuration file!\n",
      "+ sudo lxc-update-config -c /var/lib/lxc/bsa-bashy/config\n",
      "+ sudo lxc-start --name bsa-bashy\n",
      "+ sleep 5\n",
      "+ sudo lxc-ls bsa-bashy --fancy\n",
      "NAME      STATE   AUTOSTART GROUPS IPV4       IPV6 \n",
      "bsa-bashy RUNNING 0         -      10.0.3.167 -    \n"
     ]
    }
   ],
   "source": [
    "./bsa-start.sh"
   ]
  },
  {
   "cell_type": "code",
   "execution_count": 16,
   "metadata": {},
   "outputs": [],
   "source": [
    "echo '#!/bin/bash\n",
    "set -xe\n",
    "sudo lxc-destroy --name bsa-bashy --force' > bsa-kill.sh"
   ]
  },
  {
   "cell_type": "code",
   "execution_count": 17,
   "metadata": {},
   "outputs": [
    {
     "name": "stdout",
     "output_type": "stream",
     "text": [
      "#!/bin/bash\n",
      "set -xe\n",
      "sudo lxc-destroy --name bsa-bashy --force\n"
     ]
    }
   ],
   "source": [
    "cat bsa-kill.sh"
   ]
  },
  {
   "cell_type": "code",
   "execution_count": 18,
   "metadata": {},
   "outputs": [],
   "source": [
    "chmod u+x bsa-kill.sh"
   ]
  },
  {
   "cell_type": "code",
   "execution_count": 24,
   "metadata": {},
   "outputs": [
    {
     "name": "stdout",
     "output_type": "stream",
     "text": [
      "+ sudo lxc-destroy --name bsa-bashy --force\n",
      "Destroyed container bsa-bashy\n"
     ]
    }
   ],
   "source": [
    "./bsa-kill.sh"
   ]
  },
  {
   "cell_type": "markdown",
   "metadata": {},
   "source": [
    "### Arbeiten auf der bsa-bashy"
   ]
  },
  {
   "cell_type": "code",
   "execution_count": 20,
   "metadata": {},
   "outputs": [
    {
     "name": "stdout",
     "output_type": "stream",
     "text": [
      "+ sudo lxc-create --template ubuntu --name bsa-bashy\n",
      "The configuration file contains legacy configuration keys.\n",
      "Please update your configuration file!\n",
      "The configuration file contains legacy configuration keys.\n",
      "Please update your configuration file!\n",
      "Checking cache download in /var/cache/lxc/xenial/rootfs-amd64 ... \n",
      "Copy /var/cache/lxc/xenial/rootfs-amd64 to /var/lib/lxc/bsa-bashy/rootfs ... \n",
      "Copying rootfs to /var/lib/lxc/bsa-bashy/rootfs ...\n",
      "Generating locales (this might take a while)...\n",
      "  de_DE.UTF-8... done\n",
      "Generation complete.\n",
      "debconf: kann Oberfläche nicht initialisieren: Dialog\n",
      "debconf: (Die Dialog-Oberfläche funktioniert nicht auf einem Dumb-Terminal, einem Emacs-Shellbuffer oder ohne ein steuerndes Terminal.)\n",
      "debconf: greife zurück auf die Oberfläche: Readline\n",
      "debconf: kann Oberfläche nicht initialisieren: Readline\n",
      "debconf: (Can't locate Term/ReadLine.pm in @INC (you may need to install the Term::ReadLine module) (@INC contains: /etc/perl /usr/local/lib/x86_64-linux-gnu/perl/5.22.1 /usr/local/share/perl/5.22.1 /usr/lib/x86_64-linux-gnu/perl5/5.22 /usr/share/perl5 /usr/lib/x86_64-linux-gnu/perl/5.22 /usr/share/perl/5.22 /usr/local/lib/site_perl /usr/lib/x86_64-linux-gnu/perl-base .) at /usr/share/perl5/Debconf/FrontEnd/Readline.pm line 7.)\n",
      "debconf: greife zurück auf die Oberfläche: Teletype\n",
      "Creating SSH2 RSA key; this may take some time ...\n",
      "2048 SHA256:ur8u4kPmHNiHMzNzIvfR5XaWgOnhFjcZzz05dC0UXMo root@virtualbox-ubuntu1604 (RSA)\n",
      "Creating SSH2 DSA key; this may take some time ...\n",
      "1024 SHA256:reI01C3Ha6sf50uNatK21s6dTw9D0bMtYNlnh/ECSB4 root@virtualbox-ubuntu1604 (DSA)\n",
      "Creating SSH2 ECDSA key; this may take some time ...\n",
      "256 SHA256:7W2bpqX3P3BIZVhiyUAGdN6WMrlGAOvagOsALns7WH8 root@virtualbox-ubuntu1604 (ECDSA)\n",
      "Creating SSH2 ED25519 key; this may take some time ...\n",
      "256 SHA256:uaeBexWpeN0UNEOgkBaUdEuzBePwqPH3erZGAuYhno8 root@virtualbox-ubuntu1604 (ED25519)\n",
      "invoke-rc.d: could not determine current runlevel\n",
      "invoke-rc.d: policy-rc.d denied execution of start.\n",
      "\n",
      "Current default time zone: 'Etc/UTC'\n",
      "Local time is now:      Mon Oct  2 13:04:53 UTC 2017.\n",
      "Universal Time is now:  Mon Oct  2 13:04:53 UTC 2017.\n",
      "\n",
      "\n",
      "##\n",
      "# The default user is 'ubuntu' with password 'ubuntu'!\n",
      "# Use the 'sudo' command to run tasks as root in the container.\n",
      "##\n",
      "\n",
      "The configuration file contains legacy configuration keys.\n",
      "Please update your configuration file!\n",
      "+ sudo lxc-update-config -c /var/lib/lxc/bsa-bashy/config\n",
      "+ sudo lxc-start --name bsa-bashy\n",
      "+ sudo lxc-ls bsa-bashy --fancy\n",
      "NAME      STATE   AUTOSTART GROUPS IPV4 IPV6 \n",
      "bsa-bashy RUNNING 0         -      -    -    \n"
     ]
    }
   ],
   "source": [
    "./bsa-start.sh"
   ]
  },
  {
   "cell_type": "markdown",
   "metadata": {},
   "source": [
    "Via:\n",
    "\n",
    "* lxc\n",
    "\n",
    "    ```\n",
    "    vagrant@virtualbox-ubuntu1604:~/bsa/hands-on-bsa/00-Start$ sudo lxc-attach --name bsa-bashy\n",
    "    root@bsa-bashy:/# sudo apt-get update\n",
    "    Holen:1 http://security.ubuntu.com/ubuntu xenial-security InRelease [102 kB]\n",
    "    OK:2 http://archive.ubuntu.com/ubuntu xenial InRelease\n",
    "    Holen:3 http://archive.ubuntu.com/ubuntu xenial-updates InRelease [102 kB]\n",
    "    Es wurden 204 kB in 0 s geholt (290 kB/s).\n",
    "    Paketlisten werden gelesen... Fertig\n",
    "    root@bsa-bashy:/# sudo apt-get install python3\n",
    "    Paketlisten werden gelesen... Fertig\n",
    "    Abhängigkeitsbaum wird aufgebaut.\n",
    "    Statusinformationen werden eingelesen.... Fertig\n",
    "    »python3« ist bereits die neuste Version (3.5.1-3).\n",
    "    0 aktualisiert, 0 neu installiert, 0 zu entfernen und 0 nicht aktualisiert.\n",
    "    root@bsa-bashy:/# exit\n",
    "    exit\n",
    "    vagrant@virtualbox-ubuntu1604:~/bsa/hands-on-bsa/00-Start$\n",
    "    ```\n",
    "  \n",
    "* ssh (Standard)\n",
    "\n",
    "    ```\n",
    "    vagrant@virtualbox-ubuntu1604:~/bsa/hands-on-bsa/00-Start$ ssh ubuntu@10.0.3.238\n",
    "    ubuntu@10.0.3.238's password:\n",
    "    Welcome to Ubuntu 16.04.3 LTS (GNU/Linux 4.4.0-87-generic x86_64)\n",
    "\n",
    "     * Documentation:  https://help.ubuntu.com\n",
    "     * Management:     https://landscape.canonical.com\n",
    "     * Support:        https://ubuntu.com/advantage\n",
    "    Last login: Mon Oct  2 12:28:18 2017 from 10.0.3.1\n",
    "    ubuntu@bsa-bashy:~$ apt-cache policy python python3\n",
    "    python:\n",
    "      Installiert:           2.7.11-1\n",
    "      Installationskandidat: 2.7.11-1\n",
    "      Versionstabelle:\n",
    "     *** 2.7.11-1 500\n",
    "            500 http://archive.ubuntu.com/ubuntu xenial/main amd64 Packages\n",
    "            100 /var/lib/dpkg/status\n",
    "    python3:\n",
    "      Installiert:           3.5.1-3\n",
    "      Installationskandidat: 3.5.1-3\n",
    "      Versionstabelle:\n",
    "     *** 3.5.1-3 500\n",
    "            500 http://archive.ubuntu.com/ubuntu xenial/main amd64 Packages\n",
    "            100 /var/lib/dpkg/status\n",
    "    ubuntu@bsa-bashy:~$ exit\n",
    "    Abgemeldet\n",
    "    Connection to 10.0.3.238 closed.\n",
    "    vagrant@virtualbox-ubuntu1604:~/bsa/hands-on-bsa/00-Start$\n",
    "    ```"
   ]
  }
 ],
 "metadata": {
  "kernelspec": {
   "display_name": "Bash",
   "language": "bash",
   "name": "bash"
  },
  "language_info": {
   "codemirror_mode": "shell",
   "file_extension": ".sh",
   "mimetype": "text/x-sh",
   "name": "bash"
  }
 },
 "nbformat": 4,
 "nbformat_minor": 2
}
