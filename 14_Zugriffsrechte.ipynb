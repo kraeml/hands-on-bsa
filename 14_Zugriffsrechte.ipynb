{
 "cells": [
  {
   "cell_type": "markdown",
   "metadata": {
    "slideshow": {
     "slide_type": "slide"
    }
   },
   "source": [
    "# Zugriffsrechte\n",
    "\n",
    "> Dieser Artikel beschreibt die Zugriffsrechte auf Dateien von Linux - und somit auch Ubuntu. Die Zugriffsrechte regeln zum Beispiel, welcher Benutzer und welche Gruppe den Inhalt eines Verzeichnisses (ein Verzeichnis ist auch nur eine Datei) lesen darf. Neben dem Leserecht gibt es noch weitere Rechte, mit denen der Zugriff gesteuert werden kann.  \n",
    "...  \n",
    "Für komplexere Anwendungen bietet Linux seit einiger Zeit auch die Möglichkeit, den Zugriff über ACL (Access Control List) genauer festzulegen. Die ACL müssen explizit aktiviert werden. Ihre Erklärung würde hier zu weit führen; sie ist Gegenstand des Artikels ACL.\n",
    "\n",
    "Aus https://wiki.ubuntuusers.de/Rechte/ Feb. 2018"
   ]
  },
  {
   "cell_type": "markdown",
   "metadata": {
    "slideshow": {
     "slide_type": "slide"
    }
   },
   "source": [
    "__Lernziele__\n",
    "\n",
    "-   Das Linux-Rechtekonzept beherrschen\n",
    "-   Zugriffsrechte für Dateien und Verzeichnisse vergeben können\n",
    "-   Die Begriffe _SUID_, _SGID_ und _sticky bit_ kennen"
   ]
  },
  {
   "cell_type": "markdown",
   "metadata": {
    "slideshow": {
     "slide_type": "fragment"
    }
   },
   "source": [
    "__Vorkenntnisse__\n",
    "\n",
    "-   Kenntnisse über das Linux-Benutzer- und Gruppenkonzept\n",
    "-   Kenntnisse über das Linux-Dateikonzept"
   ]
  },
  {
   "cell_type": "markdown",
   "metadata": {
    "slideshow": {
     "slide_type": "slide"
    }
   },
   "source": [
    "## Zugriffsrechte anschauen und ändern\n",
    "\n",
    "-   Dabei können Sie die drei Kategorien durch die Abkürzungen \n",
    "    - `u` (user) für den _Eigentümer_,\n",
    "    - `g` (group) für die _Mitglieder der Dateigruppe_ und\n",
    "    - `o` (others) für den _Rest der Welt_ bestimmen.\n",
    "-   Die Rechte selbst werden durch die Kürzel `r`, `w` und `x` festgelegt.\n",
    "-   Mit `+`, `-` und `=` können Sie verfügen, ob die benannten Rechte respektive zusätzlich zu den existierenden vergeben, von den existierenden \"subtrahiert\" oder anstelle der bisherigen gesetzt werden sollen."
   ]
  },
  {
   "cell_type": "markdown",
   "metadata": {
    "slideshow": {
     "slide_type": "subslide"
    }
   },
   "source": [
    "- `chmod u+x datei`  \n",
    "   setzen Ausführungsrecht für Eigentümer\n",
    "- `chmod go+w datei`  \n",
    "   setzt Schreibrecht für Gruppe und Andere\n",
    "- `chmod g+rw datei`  \n",
    "   setzt Lese- und Schreibrecht für die Gruppe\n",
    "- `chmod g=rw,o=r datei`  \n",
    "   setzt Lese- und Schreibrecht, löscht Ausführungsrecht für die Gruppe setzt reines Leserecht für den Rest der Welt\n",
    "-   `chmod a+w datei`  \n",
    "   äquivalent zu ugo+w"
   ]
  },
  {
   "cell_type": "markdown",
   "metadata": {
    "slideshow": {
     "slide_type": "subslide"
    }
   },
   "source": [
    "- Der Dateieigentümer ist (neben `root`) der einzige Benutzer, der die Zugriffsrechte für eine Datei oder ein Verzeichnis ändern darf.\n",
    "- Dieses Privileg ist unabhängig von den tatsächlichen Dateirechten wie lesen bzw. schreiben!\n",
    "- Die allgemeine Syntax des chmod Kommandos ist chmod \\[⟨Optionen⟩\\] ⟨Rechte⟩ ⟨Name⟩ ..."
   ]
  },
  {
   "cell_type": "markdown",
   "metadata": {
    "slideshow": {
     "slide_type": "subslide"
    }
   },
   "source": [
    "Sie können den Zugriffsmodus einer Datei statt wie eben angegeben \"symbolisch\" auch \"numerisch\" angeben. \n",
    "\n",
    "Die drei Rechtetripel werden als dreistellige Oktalzahl dargestellt.\n",
    "\n",
    "* Erste Tripple die Rechte des Eigentümers.\n",
    "* Zweite Tripple die Rechte der Dateigruppe und\n",
    "* dritte Tripple die Rechte für den \"Rest der Welt\"."
   ]
  },
  {
   "cell_type": "markdown",
   "metadata": {
    "slideshow": {
     "slide_type": "subslide"
    }
   },
   "source": [
    "Die Ziffer ergibt sich aus der Summe:\n",
    "\n",
    "- Leserecht 4,\n",
    "- Schreibrecht 2 und\n",
    "- Ausführrecht 1."
   ]
  },
  {
   "cell_type": "markdown",
   "metadata": {
    "slideshow": {
     "slide_type": "fragment"
    }
   },
   "source": [
    "__Beispiele__\n",
    "\n",
    "```\n",
    "rw-r—r-- 644\n",
    "\n",
    "r-------- 400\n",
    "\n",
    "rwxr-xr-x 755\n",
    "```"
   ]
  },
  {
   "cell_type": "markdown",
   "metadata": {
    "slideshow": {
     "slide_type": "subslide"
    }
   },
   "source": [
    "Mit der numerischen Rechtedarstellung können Rechte nur auf einmal gesetzt werden.\n",
    "\n",
    "Es git keine Möglichkeit, mit \"+\"- und \"-\" einzelne Rechte zu setzen oder zu entfernen.\n",
    "\n",
    "Das Kommando `chmod 644 datei` entspricht also der symbolischen Form `chmod u=rw,go=r datei`"
   ]
  },
  {
   "cell_type": "markdown",
   "metadata": {
    "slideshow": {
     "slide_type": "slide"
    }
   },
   "source": [
    "## Zugriffsrechte auf Dateien und Verzeichnisse\n",
    "\n",
    "Für Dateien bedeuten diese Rechte in etwa das, was ihre Namen aussagen;\n",
    "\n",
    "Schreiben, lesen und ausführen.\n",
    "\n",
    "-   Zum Starten eines binären „Maschinenprogramms“ ist nur\n",
    "    Ausführungsrecht nötig.\n",
    "-   Für Dateien mit Shellskripten oder anderen „interpretierten“\n",
    "    Programmen brauchen Sie **außerdem Leserecht.**"
   ]
  },
  {
   "cell_type": "markdown",
   "metadata": {
    "slideshow": {
     "slide_type": "subslide"
    }
   },
   "source": [
    "Bei Verzeichnissen sieht es etwas anders aus:\n",
    "\n",
    "- Leserecht ist notwendig, um den Inhalt eines Verzeichnisses **anschauen** zu können – (ls -Kommando)\n",
    "- Schreibrecht brauchen Sie, um **Dateien** im Verzeichnis **anlegen**, **löschen** oder **umbenennen** zu können.\n",
    "- Das „Ausführungsrecht“ steht für die Möglichkeit, das **Verzeichnis „benutzen“** zu dürfen, in dem Sinne, dass Sie mit cd hineinwechseln oder seinen Namen in Pfadnamen von weiter unten im Dateibaum liegenden Dateien benutzen dürfen."
   ]
  },
  {
   "cell_type": "markdown",
   "metadata": {
    "slideshow": {
     "slide_type": "fragment"
    }
   },
   "source": [
    "- In Verzeichnissen, wo Sie **nur** das Leserecht haben, können Sie die Dateinamen lesen, aber nichts anderes über die Dateien herausfinden. \n",
    "\n",
    "- Haben Sie für ein Verzeichnis **nur** „Ausführungsrecht“, dann können Sie Dateien ansprechen, solange Sie wissen, wie sie heißen."
   ]
  },
  {
   "cell_type": "markdown",
   "metadata": {
    "slideshow": {
     "slide_type": "subslide"
    }
   },
   "source": [
    "- **Wichtig:** Schreibrecht auf eine Datei ist für das Löschen der Datei völlig unnötig Sie brauchen Schreibrecht auf das Verzeichnis, in dem die Datei steht, und sonst nichts!\n",
    "- Das rm-Programm warnt Sie zwar, wenn Sie versuchen, eine Datei zu löschen, auf die Sie kein Schreibrecht haben, aber wenn Sie die Operation bestätigen und Schreibrecht auf das Verzeichnis der Datei haben, steht dem erfolgreichen Löschen nichts im Weg."
   ]
  },
  {
   "cell_type": "markdown",
   "metadata": {
    "slideshow": {
     "slide_type": "subslide"
    }
   },
   "source": [
    "- Wenn Sie dagegen Schreibrecht auf die Datei, aber nicht auf ihr  Verzeichnis haben, können Sie die Datei nicht komplett löschen. Sie können aber natürlich die Länge der Datei auf 0 setzen und damit den Inhalt entfernen, auch wenn die Datei selbst prinzipiell noch existiert."
   ]
  },
  {
   "cell_type": "markdown",
   "metadata": {
    "slideshow": {
     "slide_type": "fragment"
    }
   },
   "source": [
    "- Für jeden Benutzer gelten diejenigen Zugriffsrechte, die „am besten passen“. Haben zum Beispiel die Mitglieder der Gruppe, der eine Datei zugeordnet ist, kein Leserecht für die Datei, der „Rest der Welt“ dagegen schon, dann dürfen die Gruppenmitglieder nicht lesen! :-o"
   ]
  },
  {
   "cell_type": "markdown",
   "metadata": {
    "slideshow": {
     "slide_type": "fragment"
    }
   },
   "source": [
    "- Informationen darüber, welche Rechte, Benutzer- und Gruppenzuordnung für eine Datei gelten, bekommen Sie mit:\n",
    "\n",
    "```bash\n",
    "ls -l\n",
    "```\n",
    "-   Als **Dateieigentümer** können Sie mit dem Befehl chmod (von change mode) die Zugriffsrechte für die Datei setzen.\n"
   ]
  },
  {
   "cell_type": "markdown",
   "metadata": {
    "slideshow": {
     "slide_type": "slide"
    }
   },
   "source": [
    "## Dateieigentümer und Gruppe setzen\n",
    "\n",
    "-   Das Kommando `chown` erlaubt das Setzen des Datei- oder Verzeichniseigentümers und der Gruppe.\n",
    "-   _chown ⟨Benutzername⟩\\[:\\]\\[⟨Gruppenname⟩\\] ⟨Name⟩ ..._\n",
    "-   _chown :⟨Gruppenname⟩ ⟨Name⟩ ..._\n",
    "-   `chown hugo:entw brief.txt`\n",
    "-   `chown www-data bla.html`  \n",
    "    Neuer Eigentümer www-data\n",
    "-   `chown :entw /home/entwicklung`  \n",
    "    Neue Gruppe entw"
   ]
  },
  {
   "cell_type": "markdown",
   "metadata": {
    "slideshow": {
     "slide_type": "subslide"
    }
   },
   "source": [
    "Um Dateien an andere Benutzer oder beliebige Gruppen zu „verschenken“, müssen Sie Systemverwalter sein.\n",
    "\n",
    "Mit dem Kommando `chgrp` können Sie die Gruppe einer Datei ändern:\n",
    "- solange Sie Eigentümer der Datei sowie\n",
    "- Mitglied der neuen Gruppe sind.\n",
    "\n",
    "_chgrp ⟨Gruppenname⟩ ⟨Name⟩ ..._"
   ]
  },
  {
   "cell_type": "markdown",
   "metadata": {
    "slideshow": {
     "slide_type": "fragment"
    }
   },
   "source": [
    "- Änderungen des Dateieigentümers oder der Dateigruppe ändern die Zugriffsrechte für die verschiedenen Kategorien nicht.\n",
    "- Auch chown und chgrp unterstützen die Option -R zur rekursiven Anwendung auf eine ganze Verzeichnishierarchie."
   ]
  },
  {
   "cell_type": "markdown",
   "metadata": {
    "slideshow": {
     "slide_type": "slide"
    }
   },
   "source": [
    "## Übung\n",
    "\n",
    "Legen Sie eine neue Datei an.\n",
    "\n",
    "- Welcher Gruppe ist diese Datei zugeordnet?\n",
    "- Verwenden Sie `chgrp`, um die Datei einer Ihrer anderen Gruppen zuzuordnen.\n",
    "- Was passiert, wenn Sie die Datei einer Gruppe zuordnen wollen, in der Sie nicht Mitglied sind?"
   ]
  },
  {
   "cell_type": "markdown",
   "metadata": {
    "slideshow": {
     "slide_type": "notes"
    }
   },
   "source": [
    "__Notizen:__\n",
    "\n",
    "Eine neue Datei bekommt die Gruppe, die gerade Ihre primäre Gruppe ist.\n",
    "Sie können eine Datei keiner Gruppe zuordnen, in der Sie nicht selber Mitglied sind – es sei denn, Sie sind root."
   ]
  },
  {
   "cell_type": "markdown",
   "metadata": {
    "slideshow": {
     "slide_type": "slide"
    }
   },
   "source": [
    "## Eigentum an Prozessen\n",
    "\n",
    "- Auch die Prozesse im System haben einen Eigentümer.\n",
    "- Dies ist in der Regel der Benutzer, der den Prozess gestartet hat – auch hier haben Prozesse, die mit Administratorrechten gestartet wurden, die Möglichkeit, ihre Identität zu ändern, und der SUID-Mechanismus kann hier ebenfalls eingreifen."
   ]
  },
  {
   "cell_type": "code",
   "execution_count": 11,
   "metadata": {
    "slideshow": {
     "slide_type": "fragment"
    }
   },
   "outputs": [
    {
     "name": "stdout",
     "output_type": "stream",
     "text": [
      "ps (1)               - report a snapshot of the current processes.\n"
     ]
    }
   ],
   "source": [
    "whatis ps"
   ]
  },
  {
   "cell_type": "code",
   "execution_count": 4,
   "metadata": {
    "scrolled": false,
    "slideshow": {
     "slide_type": "subslide"
    }
   },
   "outputs": [
    {
     "name": "stdout",
     "output_type": "stream",
     "text": [
      "  PID TTY          TIME CMD\n",
      " 1065 ?        00:00:27 jupyter-noteboo\n",
      " 1917 ?        00:00:00 systemd\n",
      " 1923 ?        00:00:00 (sd-pam)\n",
      " 2252 ?        00:00:00 upstart\n",
      " 2720 ?        00:00:00 upstart-udev-br\n",
      " 2764 ?        00:00:00 dbus-daemon\n",
      " 2798 ?        00:00:00 upstart-dbus-br\n",
      " 2799 ?        00:00:00 upstart-file-br\n",
      " 2802 ?        00:00:03 upstart-dbus-br\n",
      " 2811 ?        00:00:00 gnome-keyring-d\n",
      " 2829 ?        00:00:00 ibus-daemon\n",
      " 2850 ?        00:00:00 gvfsd\n",
      " 2864 ?        00:00:00 ibus-dconf\n",
      " 2865 ?        00:00:00 ibus-ui-gtk3\n",
      " 2869 ?        00:00:00 ibus-x11\n",
      " 2974 ?        00:00:00 at-spi-bus-laun\n",
      " 2993 ?        00:00:00 dbus-daemon\n",
      " 3009 ?        00:00:00 at-spi2-registr\n",
      " 3117 ?        00:00:01 gpg-agent\n",
      " 3124 ?        00:00:00 ibus-engine-sim\n",
      " 3198 ?        00:00:00 unity-settings-\n",
      " 3200 ?        00:00:00 bamfdaemon\n",
      " 3203 ?        00:00:00 gnome-session-b\n",
      " 3223 ?        00:00:01 unity-panel-ser\n",
      " 3257 ?        00:00:00 indicator-bluet\n",
      " 3258 ?        00:00:00 indicator-power\n",
      " 3259 ?        00:00:00 indicator-datet\n",
      " 3260 ?        00:00:00 indicator-keybo\n",
      " 3262 ?        00:00:00 indicator-sound\n",
      " 3265 ?        00:00:00 indicator-appli\n",
      " 3286 ?        00:00:00 dconf-service\n",
      " 3321 ?        00:00:00 pulseaudio\n",
      " 3339 ?        00:00:32 compiz\n",
      " 3353 ?        00:00:00 unity-fallback-\n",
      " 3357 ?        00:00:00 nautilus\n",
      " 3358 ?        00:00:00 polkit-gnome-au\n",
      " 3376 ?        00:00:00 gvfs-udisks2-vo\n",
      " 3402 ?        00:00:00 gvfsd-trash\n",
      " 3432 ?        00:00:06 python3\n",
      " 3446 pts/12   00:00:00 bash\n",
      " 4081 ?        00:00:01 update-notifier\n",
      " 6525 ?        00:00:00 sshd\n",
      " 6533 pts/14   00:00:00 bash\n",
      " 6556 pts/14   00:00:00 screen\n",
      " 6612 ?        00:00:01 python3\n",
      " 6623 pts/19   00:00:00 bash\n",
      "11012 pts/19   00:00:00 ps\n",
      "17731 ?        00:00:00 screen\n",
      "17733 pts/15   00:00:00 bash\n",
      "30042 pts/17   00:00:00 bash\n"
     ]
    }
   ],
   "source": [
    "ps -u vagrant"
   ]
  },
  {
   "cell_type": "markdown",
   "metadata": {
    "slideshow": {
     "slide_type": "slide"
    }
   },
   "source": [
    "# Linux-Rechtekonzept\n",
    "\n",
    "Mehrere Benutzer fordern vom OS ein Rechtekonzept für:\n",
    "\n",
    "-   Prozesse\n",
    "-   Dateien und\n",
    "-   Verzeichnisse …\n",
    "\n",
    "Linux implementiert Unix-Konzept"
   ]
  },
  {
   "cell_type": "markdown",
   "metadata": {
    "slideshow": {
     "slide_type": "subslide"
    }
   },
   "source": [
    "## Besondere Zugriffsrechte für ausführbare Dateien"
   ]
  },
  {
   "cell_type": "code",
   "execution_count": 52,
   "metadata": {
    "slideshow": {
     "slide_type": "fragment"
    }
   },
   "outputs": [
    {
     "name": "stdout",
     "output_type": "stream",
     "text": [
      "-rwsr-xr-x 1 root root 54256 Mai 16  2017 /usr/bin/passwd\n"
     ]
    }
   ],
   "source": [
    "ls -l /usr/bin/passwd"
   ]
  },
  {
   "cell_type": "markdown",
   "metadata": {
    "slideshow": {
     "slide_type": "fragment"
    }
   },
   "source": [
    "- Mit Hilfe des Set-UID-Bits (oft kurz \"SUID-Bit« genannt) kann dafür gesorgt werden, dass ein Programm nicht mit den Rechten des Aufrufers, sondern des Dateieigentümers – hier root – ausgeführt wird.\n",
    "- Analog zum Set-UID-Bit gibt es auch ein SGID-Bit"
   ]
  },
  {
   "cell_type": "markdown",
   "metadata": {
    "slideshow": {
     "slide_type": "subslide"
    }
   },
   "source": [
    "Die SUID- und SGID-Modi werden mit chmod verändert, indem Sie symbolische Schlüssel wie u+s (setzt das SUID-Bit) oder g-s (löscht das SGID-Bit) angeben.\n",
    "\n",
    "In oktalen Modi können diese Bits gesetzt werden, indem eine vierte Ziffer ganz links hinzugefügt wird:\n",
    "\n",
    "- SUID-Bit hat den Wert 4,\n",
    "- SGID-Bit den Wert 2\n",
    "- Eine Datei mit den Zugriffsmodus 4755 ist für alle Benutzer lesbar und mit Eigentümerrechten ausführbar."
   ]
  },
  {
   "cell_type": "markdown",
   "metadata": {
    "slideshow": {
     "slide_type": "slide"
    }
   },
   "source": [
    "## Besondere Zugriffsrechte für Verzeichnisse\n",
    "\n",
    "Der Eigentümer eines Verzeichnisses kann bestimmen, dass die in diesem Verzeichnis erzeugten Dateien der gleichen Benutzergruppe gehören wie das Verzeichnis selbst, indem das SGID-Bit des Verzeichnisses gesetzt wird.\n"
   ]
  },
  {
   "cell_type": "markdown",
   "metadata": {
    "slideshow": {
     "slide_type": "subslide"
    }
   },
   "source": [
    "Anwendungsfall SGID-Bit auf Verzeichnis\n",
    "\n",
    "- Ein Datenablage einer Projektgruppe\n",
    "\n",
    "```bash\n",
    "groupadd projekt\n",
    "usermod -a -G projekt hugo \n",
    "usermod -a -G projekt susi\n",
    "cd /home/projekt\n",
    "chgrp projekt /home/projekt\n",
    "chmod u=rwx,g=srwx /home/projekt\n",
    "```"
   ]
  },
  {
   "cell_type": "markdown",
   "metadata": {
    "slideshow": {
     "slide_type": "subslide"
    }
   },
   "source": [
    "Problem: Schreibrecht für das Verzeichnis erlaubt auch das Löschen fremder Dateien!\n",
    "\n",
    "Lösung: sticky bit"
   ]
  },
  {
   "cell_type": "code",
   "execution_count": 54,
   "metadata": {
    "slideshow": {
     "slide_type": "fragment"
    }
   },
   "outputs": [
    {
     "name": "stdout",
     "output_type": "stream",
     "text": [
      "2228225 drwxrwxrwt 11 root root 12K Feb 19 15:17 /tmp\n"
     ]
    }
   ],
   "source": [
    "ls -lachid /tmp"
   ]
  },
  {
   "cell_type": "markdown",
   "metadata": {
    "slideshow": {
     "slide_type": "fragment"
    }
   },
   "source": [
    "Eine Datei in einem sicky-Bit-Verzeichnis kann nur von:\n",
    "\n",
    "- ihrem Eigentümer,\n",
    "- dem Eigentümer des Verzeichnisses oder\n",
    "- root gelöscht werden.\n",
    "\n",
    "Das sticky bit kann über +t bzw. -t gesetzt oder gelöscht werden, oktal hat es den Wert 1 ganz links."
   ]
  },
  {
   "cell_type": "markdown",
   "metadata": {
    "slideshow": {
     "slide_type": "slide"
    }
   },
   "source": [
    "## Übungen\n",
    "\n",
    "- Was bedeutet das spezielle Zugriffsrecht \"s\"? Wo finden Sie es?\n",
    "- Mit welchem umask -Aufruf können Sie eine umask einstellen, die im Projektverzeichnis-Beispiel allen Mitgliedern der Gruppe projekt das Lesen und Schreiben von Dateien im Projektverzeichnis erlaubt?\n",
    "- Was bedeutet das spezielle Zugriffsrecht \"t\"? Wo finden Sie es?\n",
    "- (Für Programmierer.) Schreiben Sie ein C-Programm, das ein geeignetes Kommando (etwa id ) aufruft. Machen Sie dieses Programm SUID-root bzw. SGID-root und beobachten Sie, was passiert.\n",
    "- Wenn Sie sie für ein paar Minuten mit einer root -Shell alleine lassen, könnten findige Benutzer versuchen, irgendwo im System eine Shell zu hinterlegen, die sie SUID root gemacht haben, um auf diese Weise nach Bedarf Administratorrechte zu bekommen. Funktioniert das mit der Bash? Mit anderen Shells?"
   ]
  },
  {
   "cell_type": "markdown",
   "metadata": {
    "slideshow": {
     "slide_type": "slide"
    }
   },
   "source": [
    "# Kommandos\n",
    "\n",
    "- `chgrp` Setzt Gruppenzugehörigkeit von Dateien und Verzeichnissen chgrp (1)\n",
    "- `chmod` Setzt Rechte für Dateien und Verzeichnisse chmod (1)\n",
    "- `chown` Setzt Eigentümer und Gruppenzugehörigkeit für Dateien und Verzeichnisse chown (1)"
   ]
  },
  {
   "cell_type": "markdown",
   "metadata": {
    "slideshow": {
     "slide_type": "slide"
    }
   },
   "source": [
    "Zusammenfassung\n",
    "===============\n",
    "\n",
    "- Linux unterscheidet für Dateien das Lese-, Schreib- und Ausführungsrecht, wobei diese Rechte getrennt für den Eigentümer der Datei, die Mitglieder der der Datei zugeordneten Gruppe und den »Rest der Welt« angegeben werden können.\n",
    "- Die Gesamtheit der Rechte für eine Datei heißt auch Zugriffsmodus.\n",
    "- Jede Datei (und jedes Verzeichnis) hat einen Eigentümer und eine Gruppe. Zugriffsrechte – Lese-, Schreib- und Ausführungsrecht – werden für diese beiden Kategorien und den »Rest der Welt« getrennt vergeben. Nur der Eigentümer darf die Zugriffsrechte setzen.\n",
    "- Für den Systemverwalter (root ) gelten die Zugriffsrechte nicht – er darf jede Datei lesen oder schreiben.\n",
    "- Dateirechte werden mit dem Kommando chmod manipuliert. "
   ]
  },
  {
   "cell_type": "markdown",
   "metadata": {
    "slideshow": {
     "slide_type": "subslide"
    }
   },
   "source": [
    "- Mit chown kann der Systemverwalter die Eigentümer- und Gruppenzuordnung beliebiger Dateien ändern.\n",
    "- Normale Benutzer können mit chgrp ihre Dateien einer anderen Gruppe zuordnen.\n",
    "- SUID- und SGID-Bit erlauben es, Programme mit den Rechten des Dateieigentümers bzw. der der Datei zugeordneten Gruppe anstatt den Rechten des Aufrufers auszuführen.\n",
    "- Das SGID-Bit auf einem Verzeichnis bewirkt, dass neue Dateien in diesem Verzeichnis der Gruppe des Verzeichnisses zugeordnet werden (und nicht der primären Gruppe des anlegenden Benutzers).\n",
    "- Das sticky bit auf einem Verzeichnis erlaubt das Löschen von Dateien nur dem Eigentümer (und dem Systemadministrator)."
   ]
  },
  {
   "cell_type": "markdown",
   "metadata": {
    "slideshow": {
     "slide_type": "slide"
    }
   },
   "source": [
    "# Erweiterte Posix-ACLs\n",
    "\n",
    "Siehe auch hier: https://wiki.ubuntuusers.de/ACL/\n",
    "\n",
    "- Mithilfe der ACLs (Access Control List) ist es möglich, dass mehrere Gruppen oder Benutzer an einer Datei oder einem Verzeichnis unterschiedliche Rechte erhalten.\n",
    "- Dateisysteme ext2-4, reiserfs und jfs unterstützen acl.\n",
    "- Eintrag in /etc/fstab /dev/hda /daten ext3 defaults,acl 0 0\n"
   ]
  },
  {
   "cell_type": "code",
   "execution_count": 1,
   "metadata": {
    "slideshow": {
     "slide_type": "subslide"
    }
   },
   "outputs": [
    {
     "name": "stdout",
     "output_type": "stream",
     "text": [
      "tune2fs 1.42.13 (17-May-2015)\n",
      "Filesystem volume name:   <none>\n",
      "Last mounted on:          /\n",
      "Filesystem UUID:          6a9c77e2-b67e-4662-aea4-a2bef2229b99\n",
      "Filesystem magic number:  0xEF53\n",
      "Filesystem revision #:    1 (dynamic)\n",
      "Filesystem features:      has_journal ext_attr resize_inode dir_index filetype needs_recovery extent flex_bg sparse_super large_file huge_file uninit_bg dir_nlink extra_isize\n",
      "Filesystem flags:         signed_directory_hash \n",
      "Default mount options:    user_xattr acl\n",
      "Filesystem state:         clean\n",
      "Errors behavior:          Continue\n",
      "Filesystem OS type:       Linux\n",
      "Inode count:              8167424\n",
      "Block count:              32642048\n",
      "Reserved block count:     1632102\n",
      "Free blocks:              27834436\n",
      "Free inodes:              7433143\n",
      "First block:              0\n",
      "Block size:               4096\n",
      "Fragment size:            4096\n",
      "Reserved GDT blocks:      1016\n",
      "Blocks per group:         32768\n",
      "Fragments per group:      32768\n",
      "Inodes per group:         8192\n",
      "Inode blocks per group:   512\n",
      "Flex block group size:    16\n",
      "Filesystem created:       Mon Nov 13 21:23:41 2017\n",
      "Last mount time:          Tue Feb 20 07:38:29 2018\n",
      "Last write time:          Tue Feb 20 07:38:25 2018\n",
      "Mount count:              10\n",
      "Maximum mount count:      -1\n",
      "Last checked:             Mon Nov 13 21:23:41 2017\n",
      "Check interval:           0 (<none>)\n",
      "Lifetime writes:          246 GB\n",
      "Reserved blocks uid:      0 (user root)\n",
      "Reserved blocks gid:      0 (group root)\n",
      "First inode:              11\n",
      "Inode size:\t          256\n",
      "Required extra isize:     28\n",
      "Desired extra isize:      28\n",
      "Journal inode:            8\n",
      "First orphan inode:       1583620\n",
      "Default directory hash:   half_md4\n",
      "Directory Hash Seed:      231f2e51-68cc-4e83-a238-65ff1db9c95d\n",
      "Journal backup:           inode blocks\n"
     ]
    }
   ],
   "source": [
    "sudo tune2fs -l /dev/mapper/rdf--dev--vg-root"
   ]
  },
  {
   "cell_type": "code",
   "execution_count": 5,
   "metadata": {},
   "outputs": [
    {
     "name": "stdout",
     "output_type": "stream",
     "text": [
      "tune2fs 1.42.13 (17-May-2015)\n",
      "tune2fs: Der Versuch, einen Block vom Dateisystem zu lesen, endete in kurzem Lesen beim Versuch, /dev/sda2 zu öffnen\n",
      "Es kann kein gültiger Dateisystem-Superblock gefunden werden.\n"
     ]
    },
    {
     "ename": "",
     "evalue": "1",
     "output_type": "error",
     "traceback": []
    }
   ],
   "source": [
    "sudo tune2fs -l /dev/sda2"
   ]
  },
  {
   "cell_type": "code",
   "execution_count": 8,
   "metadata": {},
   "outputs": [
    {
     "name": "stdout",
     "output_type": "stream",
     "text": [
      "/dev/sda1: UUID=\"41ae5757-88a5-45e1-b84d-1d66fb6cc400\" TYPE=\"ext2\" PARTUUID=\"9e347542-01\"\n",
      "/dev/sda5: UUID=\"SopPB8-DeGP-ewzY-YYo6-dhU9-uWfU-XIS5Jh\" TYPE=\"LVM2_member\" PARTUUID=\"9e347542-05\"\n",
      "/dev/mapper/rdf--dev--vg-root: UUID=\"6a9c77e2-b67e-4662-aea4-a2bef2229b99\" TYPE=\"ext4\"\n",
      "/dev/mapper/rdf--dev--vg-swap_1: UUID=\"182d9a0c-9e76-474b-a462-fb2db0c65da5\" TYPE=\"swap\"\n"
     ]
    }
   ],
   "source": [
    "sudo blkid"
   ]
  },
  {
   "cell_type": "code",
   "execution_count": 2,
   "metadata": {
    "slideshow": {
     "slide_type": "subslide"
    }
   },
   "outputs": [
    {
     "name": "stdout",
     "output_type": "stream",
     "text": [
      "Default mount options:    user_xattr acl\n"
     ]
    }
   ],
   "source": [
    "sudo tune2fs -l /dev/mapper/rdf--dev--vg-root | grep acl"
   ]
  },
  {
   "cell_type": "markdown",
   "metadata": {
    "slideshow": {
     "slide_type": "subslide"
    }
   },
   "source": [
    "Zwei Kommandos Aus dem Paket acl\n",
    "\n",
    "- getfacl\n",
    "- setfacl"
   ]
  },
  {
   "cell_type": "code",
   "execution_count": 11,
   "metadata": {
    "slideshow": {
     "slide_type": "fragment"
    }
   },
   "outputs": [
    {
     "name": "stdout",
     "output_type": "stream",
     "text": [
      "acl:\n",
      "  Installiert:           2.2.52-3\n",
      "  Installationskandidat: 2.2.52-3\n",
      "  Versionstabelle:\n",
      " *** 2.2.52-3 500\n",
      "        500 http://us.archive.ubuntu.com/ubuntu xenial/main amd64 Packages\n",
      "        100 /var/lib/dpkg/status\n"
     ]
    }
   ],
   "source": [
    "apt policy acl"
   ]
  },
  {
   "cell_type": "code",
   "execution_count": 10,
   "metadata": {
    "collapsed": true
   },
   "outputs": [
    {
     "name": "stdout",
     "output_type": "stream",
     "text": [
      "Holen:1 http://ppa.launchpad.net/ansible/ansible/ubuntu xenial InRelease [18,0 kB]\n",
      "Holen:2 http://ppa.launchpad.net/git-core/ppa/ubuntu xenial InRelease [17,5 kB]\u001b[0m\u001b[33m\n",
      "OK:3 http://ppa.launchpad.net/gnome-terminator/ppa/ubuntu xenial InRelease     \u001b[0m\u001b[33m\n",
      "Holen:4 http://security.ubuntu.com/ubuntu xenial-security InRelease [102 kB]   \u001b[0m\u001b[33m\n",
      "OK:5 http://ppa.launchpad.net/webupd8team/atom/ubuntu xenial InRelease         \u001b[0m\u001b[33m\n",
      "Holen:6 https://download.docker.com/linux/ubuntu xenial InRelease [65,8 kB]    \u001b[0m\u001b[33m\n",
      "Holen:7 http://ppa.launchpad.net/ansible/ansible/ubuntu xenial/main amd64 Packages [540 B]\n",
      "Holen:8 http://ppa.launchpad.net/ansible/ansible/ubuntu xenial/main i386 Packages [540 B]\n",
      "Ign:9 http://repo.mongodb.org/apt/ubuntu xenial/mongodb-org/3.4 InRelease      \u001b[0m\u001b[33m\n",
      "Ign:10 http://dl.google.com/linux/chrome/deb stable InRelease                  \u001b[0m\n",
      "Holen:11 http://repo.mongodb.org/apt/ubuntu xenial/mongodb-org/3.4 Release [3.457 B][33m\n",
      "Holen:12 http://ppa.launchpad.net/git-core/ppa/ubuntu xenial/main amd64 Packages [3.296 B]\n",
      "OK:13 http://us.archive.ubuntu.com/ubuntu xenial InRelease                     \u001b[0m\u001b[33m\n",
      "Holen:14 http://dl.google.com/linux/chrome/deb stable Release [1.189 B]        \u001b[0m\u001b[33m\n",
      "Holen:15 http://repo.mongodb.org/apt/ubuntu xenial/mongodb-org/3.4 Release.gpg [801 B]\n",
      "Holen:16 https://deb.nodesource.com/node_6.x xenial InRelease [4.634 B]        \u001b[0m\u001b[33m\n",
      "Holen:17 http://dl.google.com/linux/chrome/deb stable Release.gpg [819 B]      \u001b[0m\n",
      "Holen:18 http://ppa.launchpad.net/git-core/ppa/ubuntu xenial/main i386 Packages [3.304 B]\n",
      "Holen:19 http://us.archive.ubuntu.com/ubuntu xenial-updates InRelease [102 kB] \u001b[0m\u001b[33m\n",
      "Fehl:15 http://repo.mongodb.org/apt/ubuntu xenial/mongodb-org/3.4 Release.gpg  \u001b[0m\u001b[33m\n",
      "  Die folgenden Signaturen waren ungültig: KEYEXPIRED 1515625755\n",
      "Holen:21 http://security.ubuntu.com/ubuntu xenial-security/main amd64 Packages [442 kB]\n",
      "Holen:22 https://deb.nodesource.com/node_6.x xenial/main amd64 Packages [1.005 B]0m\u001b[33m\n",
      "Holen:23 https://deb.nodesource.com/node_6.x xenial/main i386 Packages [1.000 B][0m\u001b[33m\n",
      "Holen:24 http://dl.google.com/linux/chrome/deb stable/main amd64 Packages [1.392 B]\u001b[33m\n",
      "Holen:25 http://security.ubuntu.com/ubuntu xenial-security/main i386 Packages [399 kB]3m\n",
      "Holen:20 https://packages.cloud.google.com/apt kubernetes-xenial InRelease [8.987 B]\n",
      "Holen:27 http://us.archive.ubuntu.com/ubuntu xenial-backports InRelease [102 kB][0m\u001b[33m\n",
      "Holen:28 http://security.ubuntu.com/ubuntu xenial-security/main Translation-en [193 kB]\n",
      "Holen:26 https://packages.cloud.google.com/apt kubernetes-xenial/main amd64 Packages [13,2 kB]\n",
      "Holen:29 http://security.ubuntu.com/ubuntu xenial-security/universe amd64 Packages [205 kB]\n",
      "Holen:30 http://security.ubuntu.com/ubuntu xenial-security/universe i386 Packages [166 kB]\n",
      "Holen:31 http://security.ubuntu.com/ubuntu xenial-security/universe Translation-en [105 kB]\n",
      "Holen:32 http://security.ubuntu.com/ubuntu xenial-security/multiverse amd64 Packages [3.208 B]\n",
      "Holen:33 http://security.ubuntu.com/ubuntu xenial-security/multiverse i386 Packages [3.376 B]\n",
      "Holen:34 http://us.archive.ubuntu.com/ubuntu xenial-updates/main amd64 Packages [724 kB]\n",
      "Holen:35 http://us.archive.ubuntu.com/ubuntu xenial-updates/main i386 Packages [674 kB]\n",
      "Holen:36 http://us.archive.ubuntu.com/ubuntu xenial-updates/main Translation-en [301 kB]\n",
      "Holen:37 http://us.archive.ubuntu.com/ubuntu xenial-updates/restricted amd64 Packages [7.560 B]\n",
      "Holen:38 http://us.archive.ubuntu.com/ubuntu xenial-updates/restricted i386 Packages [7.524 B]\n",
      "Holen:39 http://us.archive.ubuntu.com/ubuntu xenial-updates/restricted Translation-en [2.272 B]\n",
      "Holen:40 http://us.archive.ubuntu.com/ubuntu xenial-updates/universe amd64 Packages [589 kB]\n",
      "Holen:41 http://us.archive.ubuntu.com/ubuntu xenial-updates/universe i386 Packages [546 kB]\n",
      "Holen:42 http://us.archive.ubuntu.com/ubuntu xenial-updates/universe Translation-en [238 kB]\n",
      "Holen:43 http://us.archive.ubuntu.com/ubuntu xenial-updates/multiverse amd64 Packages [16,2 kB]\n",
      "Holen:44 http://us.archive.ubuntu.com/ubuntu xenial-updates/multiverse i386 Packages [15,3 kB]\n",
      "Holen:45 http://us.archive.ubuntu.com/ubuntu xenial-backports/main amd64 Packages [4.836 B]\n",
      "Holen:46 http://us.archive.ubuntu.com/ubuntu xenial-backports/main i386 Packages [4.840 B]\n",
      "Holen:47 http://us.archive.ubuntu.com/ubuntu xenial-backports/universe amd64 Packages [6.628 B]\n",
      "Holen:48 http://us.archive.ubuntu.com/ubuntu xenial-backports/universe i386 Packages [6.620 B]\n",
      "Es wurden 5.114 kB in 4 s geholt (1.051 kB/s).\n",
      "Paketlisten werden gelesen... Fertig\n",
      "Abhängigkeitsbaum wird aufgebaut.       \n",
      "Statusinformationen werden eingelesen.... Fertig\n",
      "Aktualisierung für 233 Pakete verfügbar. Führen Sie »apt list --upgradable« aus, um sie anzuzeigen.\n",
      "W: An error occurred during the signature verification. The repository is not updated and the previous index files will be used. GPG error: http://repo.mongodb.org/apt/ubuntu xenial/mongodb-org/3.4 Release: Die folgenden Signaturen waren ungültig: KEYEXPIRED 1515625755\n",
      "W: Fehlschlag beim Holen von http://repo.mongodb.org/apt/ubuntu/dists/xenial/mongodb-org/3.4/Release.gpg  Die folgenden Signaturen waren ungültig: KEYEXPIRED 1515625755\n",
      "W: Einige Indexdateien konnten nicht heruntergeladen werden. Sie wurden ignoriert oder alte an ihrer Stelle benutzt.\n",
      "Paketlisten werden gelesen... Fertig\n",
      "Abhängigkeitsbaum wird aufgebaut.       \n",
      "Statusinformationen werden eingelesen.... Fertig\n",
      "Die folgenden NEUEN Pakete werden installiert:\n",
      "  acl\n",
      "0 aktualisiert, 1 neu installiert, 0 zu entfernen und 233 nicht aktualisiert.\n",
      "Es müssen 38,0 kB an Archiven heruntergeladen werden.\n",
      "Nach dieser Operation werden 205 kB Plattenplatz zusätzlich benutzt.\n",
      "Holen:1 http://us.archive.ubuntu.com/ubuntu xenial/main amd64 acl amd64 2.2.52-3 [38,0 kB]\n",
      "Es wurden 38,0 kB in 0 s geholt (83,5 kB/s).\n",
      "debconf: kann Oberfläche nicht initialisieren: Dialog\n",
      "debconf: (Die Dialog-Oberfläche funktioniert nicht auf einem Dumb-Terminal, einem Emacs-Shellbuffer oder ohne ein steuerndes Terminal.)\n",
      "debconf: greife zurück auf die Oberfläche: Readline\n",
      "\n",
      "\u001b7\u001b[0;23r\u001b8\u001b[1AVormals nicht ausgewähltes Paket acl wird gewählt.\n",
      "(Lese Datenbank ... 143585 Dateien und Verzeichnisse sind derzeit installiert.)\n",
      "Vorbereitung zum Entpacken von .../acl_2.2.52-3_amd64.deb ...\n",
      "\u001b7\u001b[24;0f\u001b[42m\u001b[30mFortschritt: [  0%]\u001b[49m\u001b[39m [.......................................................] \u001b8\u001b7\u001b[24;0f\u001b[42m\u001b[30mFortschritt: [ 16%]\u001b[49m\u001b[39m [##########.............................................] \u001b8Entpacken von acl (2.2.52-3) ...\n",
      "\u001b7\u001b[24;0f\u001b[42m\u001b[30mFortschritt: [ 33%]\u001b[49m\u001b[39m [###################....................................] \u001b8\u001b7\u001b[24;0f\u001b[42m\u001b[30mFortschritt: [ 50%]\u001b[49m\u001b[39m [############################...........................] \u001b8Trigger für man-db (2.7.5-1) werden verarbeitet ...\n",
      "acl (2.2.52-3) wird eingerichtet ...\n",
      "\u001b7\u001b[24;0f\u001b[42m\u001b[30mFortschritt: [ 66%]\u001b[49m\u001b[39m [#####################################..................] \u001b8\u001b7\u001b[24;0f\u001b[42m\u001b[30mFortschritt: [ 83%]\u001b[49m\u001b[39m [##############################################.........] \u001b8\n",
      "\u001b7\u001b[0;24r\u001b8\u001b[1A\u001b[J"
     ]
    }
   ],
   "source": [
    "sudo apt update\n",
    "sudo apt install --yes acl"
   ]
  },
  {
   "cell_type": "code",
   "execution_count": 19,
   "metadata": {
    "slideshow": {
     "slide_type": "subslide"
    }
   },
   "outputs": [
    {
     "name": "stdout",
     "output_type": "stream",
     "text": [
      "setfacl 2.2.52 -- Datei-Zugriffskontrollisten (ACLs) ändern\n",
      "Verwendung: setfacl [-bkndRLP] { -m|-M|-x|-X ... } file ...\n",
      "  -m, --modify=acl         Verändere die ACL(s) von Datei(en)\n",
      "  -M, --modify-file=datei  Lies die ACL-Einträge aus datei\n",
      "  -x, --remove=acl         Entferne Einträge aus ACLs von Datei(en)\n",
      "  -X, --remove-file=datei  Lies die ACL-Einträge aus datei\n",
      "  -b, --remove-all         Alle erweiterten ACL-Einträge entfernen\n",
      "  -k, --remove-default     Vorgabe-ACL entfernen\n",
      "      --set=acl            Ersetze die ACL von Datei(en)\n",
      "      --set-file=datei     Lies die ACL-Einträge aus datei\n",
      "      --mask               Effektive Rechte nicht neu berechnen\n",
      "  -n, --no-mask            Effektive Rechte nicht neu berechnen\n",
      "  -d, --default            Bearbeite die Vorgabe-ACL\n",
      "  -R, --recursive          In Unterverzeichnisse wechseln\n",
      "  -L, --logical            Symbolischen Links folgen\n",
      "  -P, --physical           Symbolischen Links nicht folgen\n",
      "      --restore=datei      ACLs wiederherstellen (Umkehr von `getfacl -R')\n",
      "      --test               Testmodus (ACLs werden nicht verändert)\n",
      "  -v, --version Gibt die Versionsnummer aus\n",
      "-h, --help Zeigt diesen Hilfetext an\n"
     ]
    }
   ],
   "source": [
    "setfacl --help"
   ]
  },
  {
   "cell_type": "markdown",
   "metadata": {
    "slideshow": {
     "slide_type": "subslide"
    }
   },
   "source": [
    "setfacl -m u:BENUTZER:-,g:GRUPPE:RECHTE,... DATEI ... \n",
    "\n",
    "- -m ACL soll modifiziert werden\n",
    "- g:verw-al g steht für Gruppe\n",
    "- u:user-pcxy für User\n",
    "- :rwx Rechte die vergeben werden soll"
   ]
  },
  {
   "cell_type": "markdown",
   "metadata": {
    "slideshow": {
     "slide_type": "fragment"
    }
   },
   "source": [
    "- ACL erkennt man bei ls -l durch das + Zeichen am Ende der Rechte.\n",
    "- Mit getfacl können die Rechte ausgegeben werden.\n",
    "- Wird ein neues Verzeichnis erstellt, wird nichts vererbt.\n",
    "- -d setzt man Default-ACLs. Diese werden weiter vererbt."
   ]
  },
  {
   "cell_type": "code",
   "execution_count": 12,
   "metadata": {
    "slideshow": {
     "slide_type": "subslide"
    }
   },
   "outputs": [
    {
     "name": "stdout",
     "output_type": "stream",
     "text": [
      "rm: das Entfernen von 'acl-test.txt' ist nicht möglich: Datei oder Verzeichnis nicht gefunden\n",
      "1582609 -rw-r--r-- 1 vagrant vagrant 0 Feb 20 08:14 acl-test.txt\n",
      "uid=900(vagrant) gid=900(vagrant) Gruppen=900(vagrant),27(sudo),998(docker)\n"
     ]
    }
   ],
   "source": [
    "rm acl-test.txt && touch acl-test.txt || touch acl-test.txt\n",
    "ls -lachi acl-test.txt\n",
    "id"
   ]
  },
  {
   "cell_type": "code",
   "execution_count": 13,
   "metadata": {
    "slideshow": {
     "slide_type": "fragment"
    }
   },
   "outputs": [],
   "source": [
    "setfacl -m g:docker:rw- acl-test.txt"
   ]
  },
  {
   "cell_type": "code",
   "execution_count": 14,
   "metadata": {
    "slideshow": {
     "slide_type": "fragment"
    }
   },
   "outputs": [
    {
     "name": "stdout",
     "output_type": "stream",
     "text": [
      "1582609 -rw-rw-r--+ 1 vagrant vagrant 0 Feb 20 08:15 acl-test.txt\n"
     ]
    }
   ],
   "source": [
    "ls -lachi acl-test.txt"
   ]
  },
  {
   "cell_type": "code",
   "execution_count": 15,
   "metadata": {
    "slideshow": {
     "slide_type": "fragment"
    }
   },
   "outputs": [
    {
     "name": "stdout",
     "output_type": "stream",
     "text": [
      "# file: acl-test.txt\n",
      "# owner: vagrant\n",
      "# group: vagrant\n",
      "user::rw-\n",
      "group::r--\n",
      "group:docker:rw-\n",
      "mask::rw-\n",
      "other::r--\n",
      "\n"
     ]
    }
   ],
   "source": [
    "getfacl acl-test.txt"
   ]
  },
  {
   "cell_type": "code",
   "execution_count": 28,
   "metadata": {
    "slideshow": {
     "slide_type": "skip"
    }
   },
   "outputs": [
    {
     "name": "stdout",
     "output_type": "stream",
     "text": [
      "uid=0(root) gid=0(root) Gruppen=0(root)\n"
     ]
    }
   ],
   "source": [
    "id root"
   ]
  },
  {
   "cell_type": "code",
   "execution_count": 16,
   "metadata": {
    "slideshow": {
     "slide_type": "subslide"
    }
   },
   "outputs": [],
   "source": [
    "setfacl -m u:root:r--,g:root:rw-,o:--- acl-test.txt"
   ]
  },
  {
   "cell_type": "code",
   "execution_count": 17,
   "metadata": {
    "slideshow": {
     "slide_type": "fragment"
    }
   },
   "outputs": [
    {
     "name": "stdout",
     "output_type": "stream",
     "text": [
      "# file: acl-test.txt\n",
      "# owner: vagrant\n",
      "# group: vagrant\n",
      "user::rw-\n",
      "user:root:r--\n",
      "group::r--\n",
      "group:root:rw-\n",
      "group:docker:rw-\n",
      "mask::rw-\n",
      "other::---\n",
      "\n"
     ]
    }
   ],
   "source": [
    "getfacl acl-test.txt"
   ]
  },
  {
   "cell_type": "code",
   "execution_count": 19,
   "metadata": {},
   "outputs": [
    {
     "name": "stdout",
     "output_type": "stream",
     "text": [
      "1582609 -rw-rw----+ 1 vagrant vagrant 0 Feb 20 08:25 acl-test.txt\n"
     ]
    }
   ],
   "source": [
    "ls -lachi acl-test.txt"
   ]
  },
  {
   "cell_type": "code",
   "execution_count": 20,
   "metadata": {
    "slideshow": {
     "slide_type": "subslide"
    }
   },
   "outputs": [],
   "source": [
    "chmod g=--- acl-test.txt"
   ]
  },
  {
   "cell_type": "code",
   "execution_count": 21,
   "metadata": {
    "slideshow": {
     "slide_type": "fragment"
    }
   },
   "outputs": [
    {
     "name": "stdout",
     "output_type": "stream",
     "text": [
      "# file: acl-test.txt\n",
      "# owner: vagrant\n",
      "# group: vagrant\n",
      "user::rw-\n",
      "user:root:r--\t\t\t#effective:---\n",
      "group::r--\t\t\t#effective:---\n",
      "group:root:rw-\t\t\t#effective:---\n",
      "group:docker:rw-\t\t#effective:---\n",
      "mask::---\n",
      "other::---\n",
      "\n"
     ]
    }
   ],
   "source": [
    "getfacl acl-test.txt"
   ]
  },
  {
   "cell_type": "markdown",
   "metadata": {
    "slideshow": {
     "slide_type": "subslide"
    }
   },
   "source": [
    "- Setzen von erweiterten ACLs\n",
    "- Bei ACL-Dateisystemen ändert chmod nur noch die ACL-mask nicht mehr die Rechte.\n",
    "- Der Befehl ls -l bei einem ACL-Datei wird nur die Maske angezeigt\n",
    "- setfacl -R  \n",
    "  rekursiv\n",
    "- setfacl -k  \n",
    "  entfernt Default-ACLs\n",
    "- setfacl -b  \n",
    "  löscht ACLs"
   ]
  },
  {
   "cell_type": "markdown",
   "metadata": {
    "slideshow": {
     "slide_type": "subslide"
    }
   },
   "source": [
    "- Sichern und zurückspielen von ACLs\n",
    "\n",
    "```bash\n",
    "getfacl -R /daten > acl.bak\n",
    "setfacl -restore=acl.bak /daten ?\n",
    "```"
   ]
  },
  {
   "cell_type": "markdown",
   "metadata": {
    "slideshow": {
     "slide_type": "slide"
    }
   },
   "source": [
    "# Erweiterte Dateisystemattribute\n",
    "\n",
    "- Eintrag in /etc/fastab … defautls,user\\_xattr …\n",
    "- mount -o remount /daten\n",
    "- `lsattr` anzeigen der Attribute\n",
    "- `chattr` ändern der Attribute – entfernen + hinzufügen\n",
    "- Paket attr wird benötigt für die obigen Kommandos `lsattr` und `chattr`"
   ]
  },
  {
   "cell_type": "code",
   "execution_count": 25,
   "metadata": {},
   "outputs": [
    {
     "name": "stdout",
     "output_type": "stream",
     "text": [
      "attr:\n",
      "  Installiert:           1:2.4.47-2\n",
      "  Installationskandidat: 1:2.4.47-2\n",
      "  Versionstabelle:\n",
      " *** 1:2.4.47-2 500\n",
      "        500 http://us.archive.ubuntu.com/ubuntu xenial/main amd64 Packages\n",
      "        100 /var/lib/dpkg/status\n"
     ]
    }
   ],
   "source": [
    "apt policy attr"
   ]
  },
  {
   "cell_type": "code",
   "execution_count": 23,
   "metadata": {},
   "outputs": [
    {
     "name": "stdout",
     "output_type": "stream",
     "text": [
      "Paketlisten werden gelesen... Fertig\n",
      "Abhängigkeitsbaum wird aufgebaut.       \n",
      "Statusinformationen werden eingelesen.... Fertig\n",
      "Die folgenden NEUEN Pakete werden installiert:\n",
      "  attr\n",
      "0 aktualisiert, 1 neu installiert, 0 zu entfernen und 233 nicht aktualisiert.\n",
      "Es müssen 25,5 kB an Archiven heruntergeladen werden.\n",
      "Nach dieser Operation werden 143 kB Plattenplatz zusätzlich benutzt.\n",
      "Holen:1 http://us.archive.ubuntu.com/ubuntu xenial/main amd64 attr amd64 1:2.4.47-2 [25,5 kB]\n",
      "Es wurden 25,5 kB in 0 s geholt (62,5 kB/s).\n",
      "debconf: kann Oberfläche nicht initialisieren: Dialog\n",
      "debconf: (Die Dialog-Oberfläche funktioniert nicht auf einem Dumb-Terminal, einem Emacs-Shellbuffer oder ohne ein steuerndes Terminal.)\n",
      "debconf: greife zurück auf die Oberfläche: Readline\n",
      "\n",
      "\u001b7\u001b[0;23r\u001b8\u001b[1AVormals nicht ausgewähltes Paket attr wird gewählt.\n",
      "(Lese Datenbank ... 143597 Dateien und Verzeichnisse sind derzeit installiert.)\n",
      "Vorbereitung zum Entpacken von .../attr_1%3a2.4.47-2_amd64.deb ...\n",
      "\u001b7\u001b[24;0f\u001b[42m\u001b[30mFortschritt: [  0%]\u001b[49m\u001b[39m [.......................................................] \u001b8\u001b7\u001b[24;0f\u001b[42m\u001b[30mFortschritt: [ 16%]\u001b[49m\u001b[39m [##########.............................................] \u001b8Entpacken von attr (1:2.4.47-2) ...\n",
      "\u001b7\u001b[24;0f\u001b[42m\u001b[30mFortschritt: [ 33%]\u001b[49m\u001b[39m [###################....................................] \u001b8\u001b7\u001b[24;0f\u001b[42m\u001b[30mFortschritt: [ 50%]\u001b[49m\u001b[39m [############################...........................] \u001b8Trigger für man-db (2.7.5-1) werden verarbeitet ...\n",
      "attr (1:2.4.47-2) wird eingerichtet ...\n",
      "\u001b7\u001b[24;0f\u001b[42m\u001b[30mFortschritt: [ 66%]\u001b[49m\u001b[39m [#####################################..................] \u001b8\u001b7\u001b[24;0f\u001b[42m\u001b[30mFortschritt: [ 83%]\u001b[49m\u001b[39m [##############################################.........] \u001b8\n",
      "\u001b7\u001b[0;24r\u001b8\u001b[1A\u001b[J"
     ]
    }
   ],
   "source": [
    "sudo apt install -y attr"
   ]
  },
  {
   "cell_type": "code",
   "execution_count": 24,
   "metadata": {
    "slideshow": {
     "slide_type": "subslide"
    }
   },
   "outputs": [
    {
     "name": "stdout",
     "output_type": "stream",
     "text": [
      "-------------e-- acl-test.txt\n"
     ]
    }
   ],
   "source": [
    "lsattr acl-test.txt"
   ]
  },
  {
   "cell_type": "markdown",
   "metadata": {},
   "source": [
    "Attribute unter: https://wiki.ubuntuusers.de/chattr/#Attribute"
   ]
  },
  {
   "cell_type": "code",
   "execution_count": 26,
   "metadata": {
    "slideshow": {
     "slide_type": "fragment"
    }
   },
   "outputs": [],
   "source": [
    "sudo chattr +i acl-test.txt"
   ]
  },
  {
   "cell_type": "code",
   "execution_count": 27,
   "metadata": {
    "slideshow": {
     "slide_type": "fragment"
    }
   },
   "outputs": [
    {
     "name": "stdout",
     "output_type": "stream",
     "text": [
      "----i--------e-- acl-test.txt\n"
     ]
    }
   ],
   "source": [
    "lsattr acl-test.txt"
   ]
  },
  {
   "cell_type": "code",
   "execution_count": 28,
   "metadata": {
    "slideshow": {
     "slide_type": "subslide"
    }
   },
   "outputs": [
    {
     "name": "stdout",
     "output_type": "stream",
     "text": [
      "bash: acl-test.txt: Keine Berechtigung\n"
     ]
    },
    {
     "ename": "",
     "evalue": "1",
     "output_type": "error",
     "traceback": []
    }
   ],
   "source": [
    "echo \"Hallo\" >> acl-test.txt"
   ]
  },
  {
   "cell_type": "code",
   "execution_count": 29,
   "metadata": {
    "slideshow": {
     "slide_type": "fragment"
    }
   },
   "outputs": [
    {
     "name": "stdout",
     "output_type": "stream",
     "text": [
      "tee: acl-test.txt: Keine Berechtigung\n",
      "Hallo\n"
     ]
    },
    {
     "ename": "",
     "evalue": "1",
     "output_type": "error",
     "traceback": []
    }
   ],
   "source": [
    "echo \"Hallo\" | sudo tee -a acl-test.txt"
   ]
  },
  {
   "cell_type": "code",
   "execution_count": 30,
   "metadata": {
    "slideshow": {
     "slide_type": "subslide"
    }
   },
   "outputs": [],
   "source": [
    "sudo chattr -i acl-test.txt"
   ]
  },
  {
   "cell_type": "code",
   "execution_count": 31,
   "metadata": {
    "slideshow": {
     "slide_type": "fragment"
    }
   },
   "outputs": [
    {
     "name": "stdout",
     "output_type": "stream",
     "text": [
      "Hallo\n"
     ]
    }
   ],
   "source": [
    "echo \"Hallo\" | sudo tee -a acl-test.txt"
   ]
  },
  {
   "cell_type": "code",
   "execution_count": 32,
   "metadata": {},
   "outputs": [
    {
     "name": "stdout",
     "output_type": "stream",
     "text": [
      "Hallo\n"
     ]
    }
   ],
   "source": [
    "cat acl-test.txt"
   ]
  },
  {
   "cell_type": "code",
   "execution_count": 49,
   "metadata": {
    "slideshow": {
     "slide_type": "subslide"
    }
   },
   "outputs": [
    {
     "name": "stdout",
     "output_type": "stream",
     "text": [
      "# file: acl-test.txt\n",
      "# owner: vagrant\n",
      "# group: vagrant\n",
      "user::rw-\n",
      "user:root:r--\t\t\t#effective:---\n",
      "group::r--\t\t\t#effective:---\n",
      "group:root:rw-\t\t\t#effective:---\n",
      "group:docker:rw-\t\t#effective:---\n",
      "mask::---\n",
      "other::---\n",
      "\n"
     ]
    }
   ],
   "source": [
    "getfacl acl-test.txt"
   ]
  },
  {
   "cell_type": "markdown",
   "metadata": {
    "slideshow": {
     "slide_type": "subslide"
    }
   },
   "source": [
    "Jeder Benutzer:\n",
    "\n",
    "- Attribut d  \n",
    "  dump kann nicht sichern\n",
    "- Attribut s  \n",
    "  beim löschen wird mit Nullen überschrieben\n",
    "- Attribut A  \n",
    "  atime wird nicht geändert"
   ]
  },
  {
   "cell_type": "markdown",
   "metadata": {
    "slideshow": {
     "slide_type": "subslide"
    }
   },
   "source": [
    "Nur root\n",
    "\n",
    "- Attribut a  \n",
    "  Inhalt kann nicht geändert werden, nur angehängt\n",
    "- Attribut i  \n",
    "  kein ändern, Umbenennen und löschen mehr"
   ]
  },
  {
   "cell_type": "markdown",
   "metadata": {
    "slideshow": {
     "slide_type": "fragment"
    }
   },
   "source": [
    "Siehe man chattr\n",
    "\n",
    "oder\n",
    "\n",
    "https://wiki.ubuntuusers.de/chattr/"
   ]
  }
 ],
 "metadata": {
  "celltoolbar": "Slideshow",
  "kernelspec": {
   "display_name": "Bash",
   "language": "bash",
   "name": "bash"
  },
  "language_info": {
   "codemirror_mode": "shell",
   "file_extension": ".sh",
   "mimetype": "text/x-sh",
   "name": "bash"
  },
  "toc": {
   "nav_menu": {},
   "number_sections": true,
   "sideBar": true,
   "skip_h1_title": false,
   "title_cell": "Table of Contents",
   "title_sidebar": "Contents",
   "toc_cell": false,
   "toc_position": {},
   "toc_section_display": true,
   "toc_window_display": false
  }
 },
 "nbformat": 4,
 "nbformat_minor": 2
}
