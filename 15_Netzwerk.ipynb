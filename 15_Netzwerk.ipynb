{
 "cells": [
  {
   "cell_type": "markdown",
   "metadata": {},
   "source": [
    "Netzwerk\n",
    "========"
   ]
  },
  {
   "cell_type": "markdown",
   "metadata": {},
   "source": [
    "__Lernziele__\n",
    "\n",
    "-   Einen Überblick über Netzwerk-Konzepte haben\n",
    "-   Anforderungen dafür verstehen, einen Linux-Rechner in ein lokales\n",
    "    Netz zu integrieren\n",
    "-   Wichtige Kommandos zur Fehlersuche kennen\n",
    "-   Wichtige Netzwerkdienste kennen"
   ]
  },
  {
   "cell_type": "markdown",
   "metadata": {},
   "source": [
    "__Vorkenntnisse__\n",
    "\n",
    "-   Umgang mit Dateien und mit einem Texteditor\n",
    "-   Kenntnisse über die Linux-Dateisystemstruktur\n",
    "-   Vorkenntnisse im TCP/IP-Bereich und Kenntnisse im Umgang mit\n",
    "    Netzwerkdiensten sind nützlich"
   ]
  },
  {
   "cell_type": "markdown",
   "metadata": {},
   "source": [
    "* https://wiki.ubuntuusers.de/Netzwerk/"
   ]
  },
  {
   "cell_type": "markdown",
   "metadata": {},
   "source": [
    "## Iproute2\n",
    "\n",
    "Paket iproute2 (auch iproute)\n",
    "\n",
    "- Ersetzen Klassiker ifconfig, arp, route\n",
    "- Kernkomponente sind die Kommandos ip und tc\n",
    "\n",
    "Siehe auch https://wiki.ubuntuusers.de/ip/"
   ]
  },
  {
   "cell_type": "code",
   "execution_count": 1,
   "metadata": {},
   "outputs": [
    {
     "name": "stdout",
     "output_type": "stream",
     "text": [
      "iproute2:\n",
      "  Installiert:           4.3.0-1ubuntu3.16.04.3\n",
      "  Installationskandidat: 4.3.0-1ubuntu3.16.04.3\n",
      "  Versionstabelle:\n",
      " *** 4.3.0-1ubuntu3.16.04.3 500\n",
      "        500 http://us.archive.ubuntu.com/ubuntu xenial-updates/main amd64 Packages\n",
      "        100 /var/lib/dpkg/status\n",
      "     4.3.0-1ubuntu3 500\n",
      "        500 http://us.archive.ubuntu.com/ubuntu xenial/main amd64 Packages\n"
     ]
    }
   ],
   "source": [
    "apt policy iproute2"
   ]
  },
  {
   "cell_type": "markdown",
   "metadata": {},
   "source": [
    "### Status aller Schnittstellen"
   ]
  },
  {
   "cell_type": "code",
   "execution_count": 118,
   "metadata": {},
   "outputs": [
    {
     "name": "stdout",
     "output_type": "stream",
     "text": [
      "1: lo: <LOOPBACK,UP,LOWER_UP> mtu 65536 qdisc noqueue state UNKNOWN mode DEFAULT group default qlen 1\n",
      "    link/loopback 00:00:00:00:00:00 brd 00:00:00:00:00:00\n",
      "2: enp0s3: <BROADCAST,MULTICAST,UP,LOWER_UP> mtu 1500 qdisc pfifo_fast state UP mode DEFAULT group default qlen 1000\n",
      "    link/ether 08:00:27:f2:c8:06 brd ff:ff:ff:ff:ff:ff\n",
      "3: enp0s8: <BROADCAST,MULTICAST,UP,LOWER_UP> mtu 1500 qdisc pfifo_fast state UP mode DEFAULT group default qlen 1000\n",
      "    link/ether 08:00:27:e7:7e:82 brd ff:ff:ff:ff:ff:ff\n",
      "4: lxcbr0: <BROADCAST,MULTICAST,UP,LOWER_UP> mtu 1500 qdisc noqueue state UP mode DEFAULT group default qlen 1000\n",
      "    link/ether 00:16:3e:00:00:00 brd ff:ff:ff:ff:ff:ff\n",
      "5: docker0: <NO-CARRIER,BROADCAST,MULTICAST,UP> mtu 1500 qdisc noqueue state DOWN mode DEFAULT group default \n",
      "    link/ether 02:42:33:88:2c:04 brd ff:ff:ff:ff:ff:ff\n",
      "6: virbr0: <NO-CARRIER,BROADCAST,MULTICAST,UP> mtu 1500 qdisc noqueue state DOWN mode DEFAULT group default qlen 1000\n",
      "    link/ether 00:00:00:00:00:00 brd ff:ff:ff:ff:ff:ff\n",
      "7: virbr0-nic: <BROADCAST,MULTICAST> mtu 1500 qdisc pfifo_fast state DOWN mode DEFAULT group default qlen 1000\n",
      "    link/ether 52:54:00:bf:ec:69 brd ff:ff:ff:ff:ff:ff\n",
      "19: vethBOLXNY@if18: <BROADCAST,MULTICAST,UP,LOWER_UP> mtu 1500 qdisc noqueue master lxcbr0 state UP mode DEFAULT group default qlen 1000\n",
      "    link/ether fe:cf:bd:68:4d:5d brd ff:ff:ff:ff:ff:ff link-netnsid 0\n",
      "25: veth2QYQL4@if24: <BROADCAST,MULTICAST,UP,LOWER_UP> mtu 1500 qdisc noqueue master lxcbr0 state UP mode DEFAULT group default qlen 1000\n",
      "    link/ether fe:fc:c3:22:0c:a4 brd ff:ff:ff:ff:ff:ff link-netnsid 1\n",
      "27: vnet0@if26: <BROADCAST,MULTICAST,UP,LOWER_UP> mtu 1500 qdisc noqueue master lxcbr0 state UP mode DEFAULT group default qlen 1000\n",
      "    link/ether e6:7a:9e:05:ba:39 brd ff:ff:ff:ff:ff:ff link-netnsid 2\n",
      "29: vethDAI3BY@if28: <BROADCAST,MULTICAST,UP,LOWER_UP> mtu 1500 qdisc noqueue master lxcbr0 state UP mode DEFAULT group default qlen 1000\n",
      "    link/ether fe:d7:1c:bb:35:bc brd ff:ff:ff:ff:ff:ff link-netnsid 3\n"
     ]
    }
   ],
   "source": [
    "ip link show"
   ]
  },
  {
   "cell_type": "code",
   "execution_count": 7,
   "metadata": {},
   "outputs": [
    {
     "name": "stdout",
     "output_type": "stream",
     "text": [
      "2: enp0s3: <BROADCAST,MULTICAST,UP,LOWER_UP> mtu 1500 qdisc pfifo_fast state UP mode DEFAULT group default qlen 1000\n",
      "    link/ether 08:00:27:f2:c8:06 brd ff:ff:ff:ff:ff:ff\n"
     ]
    }
   ],
   "source": [
    "ip link show enp0s3"
   ]
  },
  {
   "cell_type": "markdown",
   "metadata": {},
   "source": [
    "Links ansehen und manipulieren\n",
    "\n",
    "-   UP → Schnittstelle aktiviert\n",
    "-   LOWER\\_UP und NO-CARRIER → Verbindung\n",
    "-   BROADCAST und MULTICAST → beherrscht Interface\n",
    "-   SLAVE → Interface gehört zu einem Bounding\n",
    "-   POINTTOPOINT → Netzwerk Punkt zu Punkt\n",
    "\n",
    "Option -s zeigt Statistik"
   ]
  },
  {
   "cell_type": "code",
   "execution_count": 11,
   "metadata": {},
   "outputs": [
    {
     "name": "stdout",
     "output_type": "stream",
     "text": [
      "2: enp0s3: <BROADCAST,MULTICAST,UP,LOWER_UP> mtu 1500 qdisc pfifo_fast state UP mode DEFAULT group default qlen 1000\n",
      "    link/ether 08:00:27:f2:c8:06 brd ff:ff:ff:ff:ff:ff\n",
      "    RX: bytes  packets  errors  dropped overrun mcast   \n",
      "    127859367  98361    0       0       0       0       \n",
      "    TX: bytes  packets  errors  dropped carrier collsns \n",
      "    3828892    58606    0       0       0       0       \n"
     ]
    }
   ],
   "source": [
    "ip -s link show enp0s3"
   ]
  },
  {
   "cell_type": "markdown",
   "metadata": {},
   "source": [
    "Interface de- bzw. aktivieren\n",
    "\n",
    "- \\# ip link set eth0 down\n",
    "- \\# ip link set eth0 up"
   ]
  },
  {
   "cell_type": "code",
   "execution_count": 17,
   "metadata": {},
   "outputs": [],
   "source": [
    "sudo ip link set enp0s3 down"
   ]
  },
  {
   "cell_type": "code",
   "execution_count": 18,
   "metadata": {},
   "outputs": [
    {
     "name": "stdout",
     "output_type": "stream",
     "text": [
      "2: enp0s3: <BROADCAST,MULTICAST> mtu 1500 qdisc pfifo_fast state DOWN mode DEFAULT group default qlen 1000\n",
      "    link/ether 08:00:27:f2:c8:06 brd ff:ff:ff:ff:ff:ff\n"
     ]
    }
   ],
   "source": [
    "ip link show enp0s3"
   ]
  },
  {
   "cell_type": "code",
   "execution_count": 19,
   "metadata": {},
   "outputs": [],
   "source": [
    "sudo ip link set enp0s3 up"
   ]
  },
  {
   "cell_type": "code",
   "execution_count": 24,
   "metadata": {},
   "outputs": [
    {
     "name": "stdout",
     "output_type": "stream",
     "text": [
      "2: enp0s3: <BROADCAST,MULTICAST,UP,LOWER_UP> mtu 1500 qdisc pfifo_fast state UP mode DEFAULT group default qlen 1000\n",
      "    link/ether 08:00:27:f2:c8:06 brd ff:ff:ff:ff:ff:ff\n"
     ]
    }
   ],
   "source": [
    "ip link show enp0s3"
   ]
  },
  {
   "cell_type": "markdown",
   "metadata": {},
   "source": [
    "MAC Adresse setzen\n",
    "\n",
    "-   \\# ip link set eth0 address 08:00:27:f2:af:fe"
   ]
  },
  {
   "cell_type": "code",
   "execution_count": 25,
   "metadata": {},
   "outputs": [],
   "source": [
    "sudo ip link set enp0s3 address 08:00:27:f2:af:fe"
   ]
  },
  {
   "cell_type": "code",
   "execution_count": 26,
   "metadata": {},
   "outputs": [
    {
     "name": "stdout",
     "output_type": "stream",
     "text": [
      "2: enp0s3: <BROADCAST,MULTICAST,UP,LOWER_UP> mtu 1500 qdisc pfifo_fast state UP mode DEFAULT group default qlen 1000\n",
      "    link/ether 08:00:27:f2:af:fe brd ff:ff:ff:ff:ff:ff\n"
     ]
    }
   ],
   "source": [
    "ip link show enp0s3"
   ]
  },
  {
   "cell_type": "code",
   "execution_count": 27,
   "metadata": {},
   "outputs": [],
   "source": [
    "sudo ip link set enp0s3 address 08:00:27:f2:c8:06"
   ]
  },
  {
   "cell_type": "markdown",
   "metadata": {},
   "source": [
    "Interfacename ändern\n",
    "\n",
    "-   \\# ip link set eth1 name extern"
   ]
  },
  {
   "cell_type": "code",
   "execution_count": 31,
   "metadata": {},
   "outputs": [
    {
     "name": "stdout",
     "output_type": "stream",
     "text": [
      "Cannot find device \"enp0s3\"\n",
      "Cannot find device \"enp0s3\"\n"
     ]
    }
   ],
   "source": [
    "sudo ip link set enp0s3 down\n",
    "sudo ip link set enp0s3 name vagrant\n",
    "sudo ip link set vagrant up"
   ]
  },
  {
   "cell_type": "code",
   "execution_count": 32,
   "metadata": {},
   "outputs": [
    {
     "name": "stdout",
     "output_type": "stream",
     "text": [
      "2: vagrant: <BROADCAST,MULTICAST,UP,LOWER_UP> mtu 1500 qdisc pfifo_fast state UP mode DEFAULT group default qlen 1000\n",
      "    link/ether 08:00:27:f2:c8:06 brd ff:ff:ff:ff:ff:ff\n"
     ]
    }
   ],
   "source": [
    "ip link show vagrant"
   ]
  },
  {
   "cell_type": "code",
   "execution_count": 33,
   "metadata": {},
   "outputs": [],
   "source": [
    "sudo ip link set vagrant down\n",
    "sudo ip link set vagrant name enp0s3\n",
    "sudo ip link set enp0s3 up"
   ]
  },
  {
   "cell_type": "code",
   "execution_count": 34,
   "metadata": {},
   "outputs": [],
   "source": [
    "sudo systemctl restart networking.service"
   ]
  },
  {
   "cell_type": "code",
   "execution_count": 35,
   "metadata": {},
   "outputs": [
    {
     "name": "stdout",
     "output_type": "stream",
     "text": [
      "2: enp0s3: <BROADCAST,MULTICAST,UP,LOWER_UP> mtu 1500 qdisc pfifo_fast state UP mode DEFAULT group default qlen 1000\n",
      "    link/ether 08:00:27:f2:c8:06 brd ff:ff:ff:ff:ff:ff\n"
     ]
    }
   ],
   "source": [
    "ip link show enp0s3"
   ]
  },
  {
   "cell_type": "markdown",
   "metadata": {},
   "source": [
    "### IP-Adresse der Schnittstellen"
   ]
  },
  {
   "cell_type": "code",
   "execution_count": 36,
   "metadata": {},
   "outputs": [
    {
     "name": "stdout",
     "output_type": "stream",
     "text": [
      "1: lo: <LOOPBACK,UP,LOWER_UP> mtu 65536 qdisc noqueue state UNKNOWN group default qlen 1\n",
      "    link/loopback 00:00:00:00:00:00 brd 00:00:00:00:00:00\n",
      "    inet 127.0.0.1/8 scope host lo\n",
      "       valid_lft forever preferred_lft forever\n",
      "    inet6 ::1/128 scope host \n",
      "       valid_lft forever preferred_lft forever\n",
      "2: enp0s3: <BROADCAST,MULTICAST,UP,LOWER_UP> mtu 1500 qdisc pfifo_fast state UP group default qlen 1000\n",
      "    link/ether 08:00:27:f2:c8:06 brd ff:ff:ff:ff:ff:ff\n",
      "    inet 10.0.2.15/24 brd 10.0.2.255 scope global enp0s3\n",
      "       valid_lft forever preferred_lft forever\n",
      "    inet6 fe80::a00:27ff:fef2:c806/64 scope link \n",
      "       valid_lft forever preferred_lft forever\n",
      "3: enp0s8: <BROADCAST,MULTICAST,UP,LOWER_UP> mtu 1500 qdisc pfifo_fast state UP group default qlen 1000\n",
      "    link/ether 08:00:27:e7:7e:82 brd ff:ff:ff:ff:ff:ff\n",
      "    inet 172.22.3.2/24 brd 172.22.3.255 scope global enp0s8\n",
      "       valid_lft forever preferred_lft forever\n",
      "    inet6 fe80::a00:27ff:fee7:7e82/64 scope link \n",
      "       valid_lft forever preferred_lft forever\n",
      "4: lxcbr0: <BROADCAST,MULTICAST,UP,LOWER_UP> mtu 1500 qdisc noqueue state UP group default qlen 1000\n",
      "    link/ether 00:16:3e:00:00:00 brd ff:ff:ff:ff:ff:ff\n",
      "    inet 10.0.3.1/24 scope global lxcbr0\n",
      "       valid_lft forever preferred_lft forever\n",
      "    inet6 fe80::216:3eff:fe00:0/64 scope link \n",
      "       valid_lft forever preferred_lft forever\n",
      "5: docker0: <NO-CARRIER,BROADCAST,MULTICAST,UP> mtu 1500 qdisc noqueue state DOWN group default \n",
      "    link/ether 02:42:33:88:2c:04 brd ff:ff:ff:ff:ff:ff\n",
      "    inet 172.17.0.1/16 brd 172.17.255.255 scope global docker0\n",
      "       valid_lft forever preferred_lft forever\n",
      "6: virbr0: <NO-CARRIER,BROADCAST,MULTICAST,UP> mtu 1500 qdisc noqueue state DOWN group default qlen 1000\n",
      "    link/ether 00:00:00:00:00:00 brd ff:ff:ff:ff:ff:ff\n",
      "    inet 192.168.122.1/24 brd 192.168.122.255 scope global virbr0\n",
      "       valid_lft forever preferred_lft forever\n",
      "7: virbr0-nic: <BROADCAST,MULTICAST> mtu 1500 qdisc pfifo_fast state DOWN group default qlen 1000\n",
      "    link/ether 52:54:00:bf:ec:69 brd ff:ff:ff:ff:ff:ff\n",
      "19: vethBOLXNY@if18: <BROADCAST,MULTICAST,UP,LOWER_UP> mtu 1500 qdisc noqueue master lxcbr0 state UP group default qlen 1000\n",
      "    link/ether fe:cf:bd:68:4d:5d brd ff:ff:ff:ff:ff:ff link-netnsid 0\n",
      "    inet6 fe80::fccf:bdff:fe68:4d5d/64 scope link \n",
      "       valid_lft forever preferred_lft forever\n",
      "25: veth2QYQL4@if24: <BROADCAST,MULTICAST,UP,LOWER_UP> mtu 1500 qdisc noqueue master lxcbr0 state UP group default qlen 1000\n",
      "    link/ether fe:fc:c3:22:0c:a4 brd ff:ff:ff:ff:ff:ff link-netnsid 1\n",
      "    inet6 fe80::fcfc:c3ff:fe22:ca4/64 scope link \n",
      "       valid_lft forever preferred_lft forever\n",
      "27: vnet0@if26: <BROADCAST,MULTICAST,UP,LOWER_UP> mtu 1500 qdisc noqueue master lxcbr0 state UP group default qlen 1000\n",
      "    link/ether e6:7a:9e:05:ba:39 brd ff:ff:ff:ff:ff:ff link-netnsid 2\n",
      "    inet6 fe80::e47a:9eff:fe05:ba39/64 scope link \n",
      "       valid_lft forever preferred_lft forever\n",
      "29: vethDAI3BY@if28: <BROADCAST,MULTICAST,UP,LOWER_UP> mtu 1500 qdisc noqueue master lxcbr0 state UP group default qlen 1000\n",
      "    link/ether fe:d7:1c:bb:35:bc brd ff:ff:ff:ff:ff:ff link-netnsid 3\n",
      "    inet6 fe80::fcd7:1cff:febb:35bc/64 scope link \n",
      "       valid_lft forever preferred_lft forever\n"
     ]
    }
   ],
   "source": [
    "ip address show"
   ]
  },
  {
   "cell_type": "code",
   "execution_count": 37,
   "metadata": {},
   "outputs": [
    {
     "name": "stdout",
     "output_type": "stream",
     "text": [
      "3: enp0s8: <BROADCAST,MULTICAST,UP,LOWER_UP> mtu 1500 qdisc pfifo_fast state UP group default qlen 1000\n",
      "    link/ether 08:00:27:e7:7e:82 brd ff:ff:ff:ff:ff:ff\n",
      "    inet 172.22.3.2/24 brd 172.22.3.255 scope global enp0s8\n",
      "       valid_lft forever preferred_lft forever\n",
      "    inet6 fe80::a00:27ff:fee7:7e82/64 scope link \n",
      "       valid_lft forever preferred_lft forever\n"
     ]
    }
   ],
   "source": [
    "ip address show enp0s8"
   ]
  },
  {
   "cell_type": "markdown",
   "metadata": {},
   "source": [
    "- \\# ip address add 192.168.99.14/24 broadcast 255.255.255.0 dev enp0s8  \n",
    "  Immer boradcast (+ setzt alle Hostbits) und device angeben"
   ]
  },
  {
   "cell_type": "code",
   "execution_count": 49,
   "metadata": {},
   "outputs": [],
   "source": [
    "sudo ip address add 192.168.99.14/24 broadcast 192.168.99.255 dev enp0s8"
   ]
  },
  {
   "cell_type": "code",
   "execution_count": 50,
   "metadata": {},
   "outputs": [
    {
     "name": "stdout",
     "output_type": "stream",
     "text": [
      "3: enp0s8: <BROADCAST,MULTICAST,UP,LOWER_UP> mtu 1500 qdisc pfifo_fast state UP group default qlen 1000\n",
      "    link/ether 08:00:27:e7:7e:82 brd ff:ff:ff:ff:ff:ff\n",
      "    inet 172.22.3.2/24 brd 172.22.3.255 scope global enp0s8\n",
      "       valid_lft forever preferred_lft forever\n",
      "    inet 192.168.99.14/24 brd 192.168.99.255 scope global enp0s8\n",
      "       valid_lft forever preferred_lft forever\n",
      "    inet6 fe80::a00:27ff:fee7:7e82/64 scope link \n",
      "       valid_lft forever preferred_lft forever\n"
     ]
    }
   ],
   "source": [
    "ip address show enp0s8"
   ]
  },
  {
   "cell_type": "markdown",
   "metadata": {},
   "source": [
    "-   \\# ip address del 192.168.99.14/24 dev enp0s8"
   ]
  },
  {
   "cell_type": "code",
   "execution_count": 48,
   "metadata": {},
   "outputs": [],
   "source": [
    "sudo ip address del 192.168.99.14/24 dev enp0s8"
   ]
  },
  {
   "cell_type": "code",
   "execution_count": 43,
   "metadata": {},
   "outputs": [
    {
     "name": "stdout",
     "output_type": "stream",
     "text": [
      "3: enp0s8: <BROADCAST,MULTICAST,UP,LOWER_UP> mtu 1500 qdisc pfifo_fast state UP group default qlen 1000\n",
      "    link/ether 08:00:27:e7:7e:82 brd ff:ff:ff:ff:ff:ff\n",
      "    inet 172.22.3.2/24 brd 172.22.3.255 scope global enp0s8\n",
      "       valid_lft forever preferred_lft forever\n",
      "    inet6 fe80::a00:27ff:fee7:7e82/64 scope link \n",
      "       valid_lft forever preferred_lft forever\n"
     ]
    }
   ],
   "source": [
    "ip address show enp0s8"
   ]
  },
  {
   "cell_type": "markdown",
   "metadata": {},
   "source": [
    "-   \\# ip -4 address flush label eth1 löscht alle IPv4"
   ]
  },
  {
   "cell_type": "code",
   "execution_count": 53,
   "metadata": {},
   "outputs": [
    {
     "name": "stdout",
     "output_type": "stream",
     "text": [
      "2: enp0s3: <BROADCAST,MULTICAST,UP,LOWER_UP> mtu 1500 qdisc pfifo_fast state UP group default qlen 1000\n",
      "    link/ether 08:00:27:f2:c8:06 brd ff:ff:ff:ff:ff:ff\n",
      "    inet 10.0.2.15/24 brd 10.0.2.255 scope global enp0s3\n",
      "       valid_lft forever preferred_lft forever\n",
      "    inet6 fe80::a00:27ff:fef2:c806/64 scope link \n",
      "       valid_lft forever preferred_lft forever\n"
     ]
    }
   ],
   "source": [
    "ip address show enp0s3"
   ]
  },
  {
   "cell_type": "code",
   "execution_count": 54,
   "metadata": {},
   "outputs": [],
   "source": [
    "sudo ip -4 address flush label enp0s3"
   ]
  },
  {
   "cell_type": "code",
   "execution_count": 55,
   "metadata": {},
   "outputs": [
    {
     "name": "stdout",
     "output_type": "stream",
     "text": [
      "2: enp0s3: <BROADCAST,MULTICAST,UP,LOWER_UP> mtu 1500 qdisc pfifo_fast state UP group default qlen 1000\n",
      "    link/ether 08:00:27:f2:c8:06 brd ff:ff:ff:ff:ff:ff\n"
     ]
    }
   ],
   "source": [
    "ip address show enp0s3"
   ]
  },
  {
   "cell_type": "code",
   "execution_count": 56,
   "metadata": {},
   "outputs": [],
   "source": [
    "sudo ip address add 10.0.2.15/24 brd 10.0.2.255 dev enp0s3"
   ]
  },
  {
   "cell_type": "code",
   "execution_count": 57,
   "metadata": {},
   "outputs": [
    {
     "name": "stdout",
     "output_type": "stream",
     "text": [
      "2: enp0s3: <BROADCAST,MULTICAST,UP,LOWER_UP> mtu 1500 qdisc pfifo_fast state UP group default qlen 1000\n",
      "    link/ether 08:00:27:f2:c8:06 brd ff:ff:ff:ff:ff:ff\n",
      "    inet 10.0.2.15/24 brd 10.0.2.255 scope global enp0s3\n",
      "       valid_lft forever preferred_lft forever\n"
     ]
    }
   ],
   "source": [
    "ip address show enp0s3"
   ]
  },
  {
   "cell_type": "markdown",
   "metadata": {},
   "source": [
    "#### Mehrere Adressen\n",
    "\n",
    "- \\# ip a a 192.168.200.1/24 brd + dev eth1  \n",
    "  \\# ip a a 192.168.200.2/24 brd + dev eth1  \n",
    "  \\# ip a a 192.168.200.3/24 brd + dev eth1  \n",
    "  \\# ip a a 192.168.200.4/24 brd + dev eth1\n",
    "- \\# ip a s eth1\n",
    "- Erste Adresse ist die primäre Adresse. Alle anderen sind sekundäre Adressen.  \n",
    "  Verlassen Pakete über eth1, bekommen diese die primäre Adresse. Jede neue Adresse aus einem anderen Netzbereich wird wiederum primäre Adresse.\n",
    "- Löscht man eine primäre Adresse, werden auch sekundäre gelöscht."
   ]
  },
  {
   "cell_type": "code",
   "execution_count": 65,
   "metadata": {},
   "outputs": [],
   "source": [
    "sudo ip a a 192.168.200.1/24 brd 192.168.200.255 dev enp0s3"
   ]
  },
  {
   "cell_type": "code",
   "execution_count": 66,
   "metadata": {},
   "outputs": [
    {
     "name": "stdout",
     "output_type": "stream",
     "text": [
      "2: enp0s3: <BROADCAST,MULTICAST,UP,LOWER_UP> mtu 1500 qdisc pfifo_fast state UP group default qlen 1000\n",
      "    link/ether 08:00:27:f2:c8:06 brd ff:ff:ff:ff:ff:ff\n",
      "    inet 10.0.2.15/24 brd 10.0.2.255 scope global enp0s3\n",
      "       valid_lft forever preferred_lft forever\n",
      "    inet 192.168.200.1/24 brd 192.168.200.255 scope global enp0s3\n",
      "       valid_lft forever preferred_lft forever\n"
     ]
    }
   ],
   "source": [
    "ip address show enp0s3"
   ]
  },
  {
   "cell_type": "code",
   "execution_count": 67,
   "metadata": {},
   "outputs": [],
   "source": [
    "sudo ip a a 192.168.200.2/24 brd 192.168.200.255 dev enp0s3\n",
    "sudo ip a a 192.168.200.3/24 brd 192.168.200.255 dev enp0s3\n",
    "sudo ip a a 192.168.200.4/24 brd 192.168.200.255 dev enp0s3"
   ]
  },
  {
   "cell_type": "code",
   "execution_count": 68,
   "metadata": {},
   "outputs": [
    {
     "name": "stdout",
     "output_type": "stream",
     "text": [
      "2: enp0s3: <BROADCAST,MULTICAST,UP,LOWER_UP> mtu 1500 qdisc pfifo_fast state UP group default qlen 1000\n",
      "    link/ether 08:00:27:f2:c8:06 brd ff:ff:ff:ff:ff:ff\n",
      "    inet 10.0.2.15/24 brd 10.0.2.255 scope global enp0s3\n",
      "       valid_lft forever preferred_lft forever\n",
      "    inet 192.168.200.1/24 brd 192.168.200.255 scope global enp0s3\n",
      "       valid_lft forever preferred_lft forever\n",
      "    inet 192.168.200.2/24 brd 192.168.200.255 scope global secondary enp0s3\n",
      "       valid_lft forever preferred_lft forever\n",
      "    inet 192.168.200.3/24 brd 192.168.200.255 scope global secondary enp0s3\n",
      "       valid_lft forever preferred_lft forever\n",
      "    inet 192.168.200.4/24 brd 192.168.200.255 scope global secondary enp0s3\n",
      "       valid_lft forever preferred_lft forever\n"
     ]
    }
   ],
   "source": [
    "ip address show enp0s3"
   ]
  },
  {
   "cell_type": "code",
   "execution_count": 69,
   "metadata": {},
   "outputs": [],
   "source": [
    "sudo ip address del 192.168.200.1/24 dev enp0s3"
   ]
  },
  {
   "cell_type": "code",
   "execution_count": 70,
   "metadata": {},
   "outputs": [
    {
     "name": "stdout",
     "output_type": "stream",
     "text": [
      "2: enp0s3: <BROADCAST,MULTICAST,UP,LOWER_UP> mtu 1500 qdisc pfifo_fast state UP group default qlen 1000\n",
      "    link/ether 08:00:27:f2:c8:06 brd ff:ff:ff:ff:ff:ff\n",
      "    inet 10.0.2.15/24 brd 10.0.2.255 scope global enp0s3\n",
      "       valid_lft forever preferred_lft forever\n"
     ]
    }
   ],
   "source": [
    "ip address show enp0s3"
   ]
  },
  {
   "cell_type": "markdown",
   "metadata": {},
   "source": [
    "### Route anzeigen"
   ]
  },
  {
   "cell_type": "code",
   "execution_count": 4,
   "metadata": {},
   "outputs": [
    {
     "name": "stdout",
     "output_type": "stream",
     "text": [
      "default via 10.0.2.2 dev enp0s3 \n",
      "10.0.2.0/24 dev enp0s3  proto kernel  scope link  src 10.0.2.15 \n",
      "10.0.3.0/24 dev lxcbr0  proto kernel  scope link  src 10.0.3.1 \n",
      "172.17.0.0/16 dev docker0  proto kernel  scope link  src 172.17.0.1 linkdown \n",
      "172.22.3.0/24 dev enp0s8  proto kernel  scope link  src 172.22.3.2 \n",
      "192.168.122.0/24 dev virbr0  proto kernel  scope link  src 192.168.122.1 linkdown \n"
     ]
    }
   ],
   "source": [
    "ip route show"
   ]
  },
  {
   "cell_type": "markdown",
   "metadata": {},
   "source": [
    "#### Routing Referenz "
   ]
  },
  {
   "cell_type": "code",
   "execution_count": 76,
   "metadata": {},
   "outputs": [
    {
     "name": "stdout",
     "output_type": "stream",
     "text": [
      "10.0.2.0/24 dev enp0s3  proto kernel  scope link  src 10.0.2.15 \n",
      "10.0.3.0/24 dev lxcbr0  proto kernel  scope link  src 10.0.3.1 \n",
      "172.17.0.0/16 dev docker0  proto kernel  scope link  src 172.17.0.1 linkdown \n",
      "172.22.3.0/24 dev enp0s8  proto kernel  scope link  src 172.22.3.2 \n",
      "192.168.122.0/24 dev virbr0  proto kernel  scope link  src 192.168.122.1 linkdown \n"
     ]
    }
   ],
   "source": [
    "ip r s"
   ]
  },
  {
   "cell_type": "markdown",
   "metadata": {},
   "source": [
    "-   prote kernel → Weg ging über Kernel Mehr /etc/iproute2/rt\\_protos\n",
    "-   scope link → Netz steht direkt am NIC\n",
    "-   src 192.168.2.10 → ausgehende prim. Adr.\n",
    "-   via → zeigt auf Router eines Netzes und NIC default → default Route"
   ]
  },
  {
   "cell_type": "markdown",
   "metadata": {},
   "source": [
    "#### Routing setzen/löschen\n",
    "\n",
    "```bash\n",
    "# ip add 192.168.1.0/24 via 192.168.2.2\n",
    "# ip add 192.168.3.0/24 dev eth1 via 192.168.2.2\n",
    "# ip route delete 192.168.2.0/24\n",
    "```\n",
    "-   Ändern der Routingtabelle immer mit\n",
    "```bash\n",
    "# ip route flush cache\n",
    "```\n",
    "\n",
    "Den Cache vom Routing leeren!"
   ]
  },
  {
   "cell_type": "markdown",
   "metadata": {},
   "source": [
    "#### Advanced Routing\n",
    "\n",
    "-   Routing Entscheidungen anhand von Quelladressen, Eingangsinterface\n",
    "    oder iptabels treffen. → Policy Routing\n",
    "-   Policy Routing Database (PRDB) speichern Policy Routing Tables"
   ]
  },
  {
   "cell_type": "code",
   "execution_count": 77,
   "metadata": {},
   "outputs": [
    {
     "name": "stdout",
     "output_type": "stream",
     "text": [
      "0:\tfrom all lookup local \n",
      "32766:\tfrom all lookup main \n",
      "32767:\tfrom all lookup default \n"
     ]
    }
   ],
   "source": [
    "ip rule show"
   ]
  },
  {
   "cell_type": "markdown",
   "metadata": {},
   "source": [
    "-   local wird vom Kernel verwaltet (hohe Prio)\n",
    "-   main wird gesetzt von ip route bzw. route. Ist die Standardtabelle.\n",
    "-   default standardmäßig leer"
   ]
  },
  {
   "cell_type": "markdown",
   "metadata": {},
   "source": [
    "Zeigt die Tabelle local an"
   ]
  },
  {
   "cell_type": "code",
   "execution_count": 78,
   "metadata": {},
   "outputs": [
    {
     "name": "stdout",
     "output_type": "stream",
     "text": [
      "broadcast 10.0.2.0 dev enp0s3  proto kernel  scope link  src 10.0.2.15 \n",
      "local 10.0.2.15 dev enp0s3  proto kernel  scope host  src 10.0.2.15 \n",
      "broadcast 10.0.2.255 dev enp0s3  proto kernel  scope link  src 10.0.2.15 \n",
      "broadcast 10.0.3.0 dev lxcbr0  proto kernel  scope link  src 10.0.3.1 \n",
      "local 10.0.3.1 dev lxcbr0  proto kernel  scope host  src 10.0.3.1 \n",
      "broadcast 10.0.3.255 dev lxcbr0  proto kernel  scope link  src 10.0.3.1 \n",
      "broadcast 127.0.0.0 dev lo  proto kernel  scope link  src 127.0.0.1 \n",
      "local 127.0.0.0/8 dev lo  proto kernel  scope host  src 127.0.0.1 \n",
      "local 127.0.0.1 dev lo  proto kernel  scope host  src 127.0.0.1 \n",
      "broadcast 127.255.255.255 dev lo  proto kernel  scope link  src 127.0.0.1 \n",
      "broadcast 172.17.0.0 dev docker0  proto kernel  scope link  src 172.17.0.1 linkdown \n",
      "local 172.17.0.1 dev docker0  proto kernel  scope host  src 172.17.0.1 \n",
      "broadcast 172.17.255.255 dev docker0  proto kernel  scope link  src 172.17.0.1 linkdown \n",
      "broadcast 172.22.3.0 dev enp0s8  proto kernel  scope link  src 172.22.3.2 \n",
      "local 172.22.3.2 dev enp0s8  proto kernel  scope host  src 172.22.3.2 \n",
      "broadcast 172.22.3.255 dev enp0s8  proto kernel  scope link  src 172.22.3.2 \n",
      "broadcast 192.168.122.0 dev virbr0  proto kernel  scope link  src 192.168.122.1 linkdown \n",
      "local 192.168.122.1 dev virbr0  proto kernel  scope host  src 192.168.122.1 \n",
      "broadcast 192.168.122.255 dev virbr0  proto kernel  scope link  src 192.168.122.1 linkdown \n"
     ]
    }
   ],
   "source": [
    "sudo ip route show table local"
   ]
  },
  {
   "cell_type": "markdown",
   "metadata": {},
   "source": [
    "#### Neue Routing Tabelle anlegen"
   ]
  },
  {
   "cell_type": "code",
   "execution_count": 79,
   "metadata": {},
   "outputs": [
    {
     "name": "stdout",
     "output_type": "stream",
     "text": [
      "#\n",
      "# reserved values\n",
      "#\n",
      "255\tlocal\n",
      "254\tmain\n",
      "253\tdefault\n",
      "0\tunspec\n",
      "#\n",
      "# local\n",
      "#\n",
      "#1\tinr.ruhep\n"
     ]
    }
   ],
   "source": [
    "cat /etc/iproute2/rt_tables"
   ]
  },
  {
   "cell_type": "markdown",
   "metadata": {},
   "source": [
    "Nummern 0 bis 255 und die jeweiligen Namen dazu"
   ]
  },
  {
   "cell_type": "code",
   "execution_count": 82,
   "metadata": {},
   "outputs": [
    {
     "name": "stdout",
     "output_type": "stream",
     "text": [
      "100 table_in_enp0s3\n"
     ]
    }
   ],
   "source": [
    "echo \"100 table_in_enp0s3\" | sudo tee -a /etc/iproute2/rt_tables"
   ]
  },
  {
   "cell_type": "code",
   "execution_count": 86,
   "metadata": {},
   "outputs": [],
   "source": [
    "sudo ip rule add iif enp0s3 table table_in_enp0s3 priority 10000"
   ]
  },
  {
   "cell_type": "code",
   "execution_count": 87,
   "metadata": {},
   "outputs": [
    {
     "name": "stdout",
     "output_type": "stream",
     "text": [
      "#\n",
      "# reserved values\n",
      "#\n",
      "255\tlocal\n",
      "254\tmain\n",
      "253\tdefault\n",
      "0\tunspec\n",
      "#\n",
      "# local\n",
      "#\n",
      "#1\tinr.ruhep\n",
      "100 table_in_enp0s3\n"
     ]
    }
   ],
   "source": [
    "cat /etc/iproute2/rt_tables"
   ]
  },
  {
   "cell_type": "code",
   "execution_count": 88,
   "metadata": {},
   "outputs": [
    {
     "name": "stdout",
     "output_type": "stream",
     "text": [
      "0:\tfrom all lookup local \n",
      "10000:\tfrom all iif enp0s3 lookup table_in_enp0s3 \n",
      "32766:\tfrom all lookup main \n",
      "32767:\tfrom all lookup default \n"
     ]
    }
   ],
   "source": [
    "sudo ip rule show"
   ]
  },
  {
   "cell_type": "code",
   "execution_count": 89,
   "metadata": {},
   "outputs": [],
   "source": [
    "sudo ip rule delete priority 10000"
   ]
  },
  {
   "cell_type": "code",
   "execution_count": 90,
   "metadata": {},
   "outputs": [
    {
     "name": "stdout",
     "output_type": "stream",
     "text": [
      "0:\tfrom all lookup local \n",
      "32766:\tfrom all lookup main \n",
      "32767:\tfrom all lookup default \n"
     ]
    }
   ],
   "source": [
    "sudo ip rule show"
   ]
  },
  {
   "cell_type": "markdown",
   "metadata": {},
   "source": [
    "Routing mehrere Uplinks\n",
    "\n",
    "-   \\# echo „100 provider\\_B“ &gt;&gt; /etc/iproute2/rt\\_tables"
   ]
  },
  {
   "cell_type": "markdown",
   "metadata": {},
   "source": [
    "### ARP"
   ]
  },
  {
   "cell_type": "code",
   "execution_count": 71,
   "metadata": {},
   "outputs": [
    {
     "name": "stdout",
     "output_type": "stream",
     "text": [
      "10.0.2.2 dev enp0s3 lladdr 52:54:00:12:35:02 STALE\n",
      "10.0.3.84 dev lxcbr0 lladdr 00:16:3e:49:df:7c STALE\n",
      "10.0.3.66 dev lxcbr0 lladdr 00:16:3e:ba:f2:49 STALE\n",
      "10.0.3.166 dev lxcbr0 lladdr 00:16:3e:9e:3d:b5 STALE\n",
      "10.0.3.65 dev lxcbr0 lladdr 00:16:3e:0a:e3:13 STALE\n",
      "10.0.3.30 dev lxcbr0 lladdr 00:16:3e:1f:55:4d STALE\n",
      "172.22.3.1 dev enp0s8 lladdr 0a:00:27:00:00:00 DELAY\n",
      "10.0.3.230 dev lxcbr0 lladdr 00:16:3e:ca:f9:07 STALE\n",
      "10.0.3.120 dev lxcbr0 lladdr 00:16:3e:83:c5:09 STALE\n"
     ]
    }
   ],
   "source": [
    "ip neighbour show"
   ]
  },
  {
   "cell_type": "markdown",
   "metadata": {},
   "source": [
    "#### ARP Referenz\n",
    "\n",
    "- \\# ip neighbour show  \n",
    "  \\# ip n s\n",
    "- \\# ip neighbour delete 192.168.2.1 dev eth0  \n",
    "- \\# ip neighbour change 192.168.99.2 dev eth0 \\\\ lladdr\n",
    "    00:23:08:f9:81:ac nud permanent nud für Neighbour Unreachability\n",
    "    Detection"
   ]
  },
  {
   "cell_type": "code",
   "execution_count": 72,
   "metadata": {},
   "outputs": [
    {
     "name": "stdout",
     "output_type": "stream",
     "text": [
      "10.0.2.2 dev enp0s3 lladdr 52:54:00:12:35:02 STALE\n",
      "10.0.3.84 dev lxcbr0 lladdr 00:16:3e:49:df:7c STALE\n",
      "10.0.3.66 dev lxcbr0 lladdr 00:16:3e:ba:f2:49 STALE\n",
      "10.0.3.166 dev lxcbr0 lladdr 00:16:3e:9e:3d:b5 STALE\n",
      "10.0.3.65 dev lxcbr0 lladdr 00:16:3e:0a:e3:13 STALE\n",
      "10.0.3.30 dev lxcbr0 lladdr 00:16:3e:1f:55:4d STALE\n",
      "172.22.3.1 dev enp0s8 lladdr 0a:00:27:00:00:00 REACHABLE\n",
      "10.0.3.230 dev lxcbr0 lladdr 00:16:3e:ca:f9:07 STALE\n",
      "10.0.3.120 dev lxcbr0 lladdr 00:16:3e:83:c5:09 STALE\n"
     ]
    }
   ],
   "source": [
    "ip n s"
   ]
  },
  {
   "cell_type": "code",
   "execution_count": 74,
   "metadata": {},
   "outputs": [],
   "source": [
    "sudo ip neighbour delete 10.0.3.84 dev lxcbr0"
   ]
  },
  {
   "cell_type": "code",
   "execution_count": 75,
   "metadata": {},
   "outputs": [
    {
     "name": "stdout",
     "output_type": "stream",
     "text": [
      "10.0.2.2 dev enp0s3 lladdr 52:54:00:12:35:02 STALE\n",
      "10.0.3.84 dev lxcbr0  FAILED\n",
      "10.0.3.66 dev lxcbr0 lladdr 00:16:3e:ba:f2:49 STALE\n",
      "10.0.3.166 dev lxcbr0 lladdr 00:16:3e:9e:3d:b5 DELAY\n",
      "10.0.3.65 dev lxcbr0 lladdr 00:16:3e:0a:e3:13 STALE\n",
      "10.0.3.30 dev lxcbr0 lladdr 00:16:3e:1f:55:4d STALE\n",
      "172.22.3.1 dev enp0s8 lladdr 0a:00:27:00:00:00 REACHABLE\n",
      "10.0.3.230 dev lxcbr0 lladdr 00:16:3e:ca:f9:07 STALE\n",
      "10.0.3.120 dev lxcbr0 lladdr 00:16:3e:83:c5:09 STALE\n"
     ]
    }
   ],
   "source": [
    "ip n s"
   ]
  },
  {
   "cell_type": "markdown",
   "metadata": {},
   "source": [
    "## Übertragungsprotokolle\n",
    "\n",
    "Kommunikationsprotokolle\n",
    "\n",
    "Anwendungsprotokolle\n",
    "\n",
    "-   SMTP (für E-Mail),\n",
    "-   SSH (für interaktive Sitzungen auf entfernten Rechnern),\n",
    "-   DNS (für die Auflösung von Rechnernamen) oder\n",
    "-   SIP (für Internet-Telefonie) ..."
   ]
  },
  {
   "cell_type": "markdown",
   "metadata": {},
   "source": [
    "## Grundlegendes\n",
    "\n",
    "* Loopback-Adresse (127.0.0.1)\n",
    "* eindeutige IP-Adresse pro Netzwerkschnittstelle\n",
    "* Routing (KNT)\n",
    "    * Default Route\n",
    "    * NAT ...\n",
    "* IP-Adressen zu Namen herausfinden (DNS)"
   ]
  },
  {
   "cell_type": "markdown",
   "metadata": {},
   "source": [
    "### Linux-Rechner Netzwerkesseintals\n",
    "\n",
    "Variante 1 (statisch)\n",
    "\n",
    "-   Eigene IP-Adresse\n",
    "-   Default Gateway\n",
    "-   Subnetzmaske\n",
    "-   Adresse(n) DNS\n",
    "\n",
    "Variante 2 (dynamisch)\n",
    "\n",
    "-   DHCP\n",
    "\n",
    "DNS im eigenen Netzwerk"
   ]
  },
  {
   "cell_type": "markdown",
   "metadata": {},
   "source": [
    "### Netzwerk DNS\n",
    "\n",
    "1. Root-Level-Nameserver\n",
    "    -   Punkt am Schluss\n",
    "2. Nameserver für TLD wie .de\n",
    "3. Nameserver für ein Netz wie irgengwas.de."
   ]
  },
  {
   "cell_type": "markdown",
   "metadata": {},
   "source": [
    "## Übungen\n",
    "\n",
    "- Welche Transportprotokolle (außer Ethernet und IEEE-802.11) kennen Sie? Welche Kommunikationsprotokolle (außer IP, TCP und UDP)?  \n",
    "  Welche Anwendungsprotokolle außer den im Text genannten?\n",
    "- Wie viele nutzbare IP-Adressen enthält das Netz 10.11.12.0/22?  \n",
    "  (Ziehen Sie wegen deren Sonderbedeutung die erste und letzte Adresse ab.)\n",
    "- Welche Voraussetzungen müssen Sie erfüllen, um einen Domainnamen in der de-Top-Level-Domain registrieren zu können?"
   ]
  },
  {
   "cell_type": "markdown",
   "metadata": {},
   "source": [
    "## Netzwerk Konfigurationsdateien\n",
    "\n",
    "Debian GNU\n",
    "- /etc/network/interfaces  \n",
    "  https://wiki.ubuntuusers.de/interfaces/\n",
    "- /usr/share/doc/ifupdown/examples/networkinterfaces.gz\n",
    "- Portnummern werden unter /etc/services aufgeführt\n",
    "\n",
    "SUSE\n",
    "- /etc/sysconfig/network\n",
    "\n",
    "Red-Hat\n",
    "- /etc/sysconfig/network- scripts"
   ]
  },
  {
   "cell_type": "markdown",
   "metadata": {},
   "source": [
    "### Flüchtige Einstellungen\n",
    "\n",
    "Für kurzzeitige Experimente ohne Eintrag in Konfigurationsdatei.\n",
    "\n",
    "```bash\n",
    "ifconfig eth0 192.168.178.111 netmask 255.255.255.0\n",
    "route add -net default gw 192.168.178.1\n",
    "```\n",
    "Mit iproute2 (IPv4 und IPv6)\n",
    "\n",
    "```bash\n",
    "ip addr set 192.168.178.111/24 broadcast 192.168.178.255 dev eth0\n",
    "ip route add default via 192.168.178.1 dev eth0\n",
    "```\n",
    "  \n",
    "Siehe auch: http://wiki.ubuntuusers.de/ip"
   ]
  },
  {
   "cell_type": "markdown",
   "metadata": {},
   "source": [
    "### DNS Eintrag\n",
    "\n",
    "Die IP-Adressen von DNS-Servern (Achtung DHCP)\n",
    "\n",
    "Ab Ubuntu 12.04 Server `resolver` installiert"
   ]
  },
  {
   "cell_type": "code",
   "execution_count": 91,
   "metadata": {},
   "outputs": [
    {
     "name": "stdout",
     "output_type": "stream",
     "text": [
      "# Dynamic resolv.conf(5) file for glibc resolver(3) generated by resolvconf(8)\n",
      "#     DO NOT EDIT THIS FILE BY HAND -- YOUR CHANGES WILL BE OVERWRITTEN\n",
      "nameserver 10.0.2.3\n"
     ]
    }
   ],
   "source": [
    "cat /etc/resolv.conf"
   ]
  },
  {
   "cell_type": "markdown",
   "metadata": {},
   "source": [
    "## Dauerhafte Einstellung"
   ]
  },
  {
   "cell_type": "code",
   "execution_count": 92,
   "metadata": {},
   "outputs": [
    {
     "name": "stdout",
     "output_type": "stream",
     "text": [
      "# This file describes the network interfaces available on your system\n",
      "# and how to activate them. For more information, see interfaces(5).\n",
      "\n",
      "source /etc/network/interfaces.d/*\n",
      "\n",
      "# The loopback network interface\n",
      "auto lo\n",
      "iface lo inet loopback\n",
      "\n",
      "# The primary network interface\n",
      "auto enp0s3\n",
      "iface enp0s3 inet dhcp\n",
      "pre-up sleep 2\n",
      "#VAGRANT-BEGIN\n",
      "# The contents below are automatically generated by Vagrant. Do not modify.\n",
      "auto enp0s8\n",
      "iface enp0s8 inet static\n",
      "      address 172.22.3.2\n",
      "      netmask 255.255.255.0\n",
      "#VAGRANT-END\n"
     ]
    }
   ],
   "source": [
    "cat /etc/network/interfaces"
   ]
  },
  {
   "cell_type": "markdown",
   "metadata": {},
   "source": [
    "## Netzwerk Fehlersuche\n",
    "\n",
    "- Das UP beachten\n",
    "- Loopback Device anpingen\n",
    "- Ping auf die Adresse der Netzwerkkarte\n",
    "- Default Gateway erreichbar\n",
    "- Route richtig eingestellt\n",
    "- Meist HW-Fehler!\n",
    "- Schnelles pingen mit der Option -f (root darf schneller)\n",
    "- Das Kommando dig dient zum Testen der Namensauflösung via DNS."
   ]
  },
  {
   "cell_type": "code",
   "execution_count": 122,
   "metadata": {},
   "outputs": [
    {
     "name": "stdout",
     "output_type": "stream",
     "text": [
      "\n",
      "; <<>> DiG 9.10.3-P4-Ubuntu <<>> www.heise.de\n",
      ";; global options: +cmd\n",
      ";; Got answer:\n",
      ";; ->>HEADER<<- opcode: QUERY, status: NOERROR, id: 40536\n",
      ";; flags: qr rd ra; QUERY: 1, ANSWER: 1, AUTHORITY: 0, ADDITIONAL: 0\n",
      "\n",
      ";; QUESTION SECTION:\n",
      ";www.heise.de.\t\t\tIN\tA\n",
      "\n",
      ";; ANSWER SECTION:\n",
      "www.heise.de.\t\t3600\tIN\tA\t193.99.144.85\n",
      "\n",
      ";; Query time: 0 msec\n",
      ";; SERVER: 10.0.2.3#53(10.0.2.3)\n",
      ";; WHEN: Mon Feb 19 20:30:13 UTC 2018\n",
      ";; MSG SIZE  rcvd: 46\n",
      "\n"
     ]
    }
   ],
   "source": [
    "dig www.heise.de"
   ]
  },
  {
   "cell_type": "code",
   "execution_count": 97,
   "metadata": {},
   "outputs": [],
   "source": [
    "# dig www.heise.de @fritz.box\n",
    "# dig www.heise.de @192.168.99.117"
   ]
  },
  {
   "cell_type": "code",
   "execution_count": 121,
   "metadata": {},
   "outputs": [
    {
     "name": "stdout",
     "output_type": "stream",
     "text": [
      "\n",
      "; <<>> DiG 9.10.3-P4-Ubuntu <<>> franken.de mx\n",
      ";; global options: +cmd\n",
      ";; Got answer:\n",
      ";; ->>HEADER<<- opcode: QUERY, status: NOTIMP, id: 39106\n",
      ";; flags: qr rd ra; QUERY: 1, ANSWER: 0, AUTHORITY: 0, ADDITIONAL: 1\n",
      "\n",
      ";; OPT PSEUDOSECTION:\n",
      "; EDNS: version: 0, flags:; udp: 4096\n",
      ";; QUESTION SECTION:\n",
      ";franken.de.\t\t\tIN\tMX\n",
      "\n",
      ";; Query time: 0 msec\n",
      ";; SERVER: 10.0.2.3#53(10.0.2.3)\n",
      ";; WHEN: Mon Feb 19 20:29:58 UTC 2018\n",
      ";; MSG SIZE  rcvd: 39\n",
      "\n"
     ]
    }
   ],
   "source": [
    "dig franken.de mx"
   ]
  },
  {
   "cell_type": "code",
   "execution_count": 101,
   "metadata": {},
   "outputs": [
    {
     "name": "stdout",
     "output_type": "stream",
     "text": [
      "www.heise.de.\n"
     ]
    }
   ],
   "source": [
    "dig +short -x 193.99.144.85"
   ]
  },
  {
   "cell_type": "markdown",
   "metadata": {},
   "source": [
    "- Das Kommando netstat ist eine Art Schweizer Messer, das Ihnen Informationen aller Art über Ihren Rechner und seine Netzanbindung liefert."
   ]
  },
  {
   "cell_type": "code",
   "execution_count": 120,
   "metadata": {},
   "outputs": [
    {
     "name": "stdout",
     "output_type": "stream",
     "text": [
      "Aktive Internetverbindungen (ohne Server)\n",
      "Proto Recv-Q Send-Q Local Address           Foreign Address         State      \n",
      "tcp        0      0 localhost:57878         localhost:38151         TIME_WAIT  \n",
      "tcp        0      0 localhost:52378         localhost:39889         VERBUNDEN  \n",
      "tcp        0      0 localhost:57860         localhost:38151         VERBUNDEN  \n",
      "tcp        0      0 localhost:39889         localhost:51010         VERBUNDEN  \n",
      "tcp        0      0 localhost:49654         localhost:59652         VERBUNDEN  \n",
      "tcp        0      0 172.22.3.2:8888         michl-laptop:42416      VERBUNDEN  \n",
      "tcp        0      0 localhost:57884         localhost:38151         VERBUNDEN  \n",
      "tcp        0      0 172.22.3.2:8888         michl-laptop:42452      VERBUNDEN  \n",
      "tcp        0      0 localhost:54382         localhost:56932         TIME_WAIT  \n",
      "tcp        0      0 172.22.3.2:8888         michl-laptop:42432      VERBUNDEN  \n",
      "tcp        0      0 localhost:59652         localhost:49654         VERBUNDEN "
     ]
    },
    {
     "data": {
      "text/html": [
       "<b>limit_output extension: Maximum message size of 1000 exceeded with 1002 characters</b>"
      ]
     },
     "metadata": {},
     "output_type": "display_data"
    }
   ],
   "source": [
    "netstat #Aktive Verbindungen"
   ]
  },
  {
   "cell_type": "markdown",
   "metadata": {},
   "source": [
    "- Wichtige Optionen: -u; -n; -s; -r; -p (nur root)"
   ]
  },
  {
   "cell_type": "code",
   "execution_count": 123,
   "metadata": {},
   "outputs": [
    {
     "name": "stdout",
     "output_type": "stream",
     "text": [
      "Aktive Internetverbindungen (Nur Server)\n",
      "Proto Recv-Q Send-Q Local Address           Foreign Address         State      \n",
      "tcp        0      0 *:ssh                   *:*                     LISTEN     \n",
      "tcp        0      0 localhost:42999         *:*                     LISTEN     \n",
      "tcp        0      0 *:8888                  *:*                     LISTEN     \n",
      "tcp        0      0 localhost:48122         *:*                     LISTEN     \n",
      "tcp        0      0 *:51452                 *:*                     LISTEN     \n",
      "tcp        0      0 *:33277                 *:*                     LISTEN     \n",
      "tcp        0      0 *:50719                 *:*                     LISTEN     \n",
      "tcp        0      0 localhost:49760         *:*                     LISTEN     \n",
      "tcp        0      0 *:nfs                   *:*                     LISTEN     \n",
      "tcp        0      0 localhost:56932         *:*                     LISTEN     \n",
      "tcp        0      0 localhost:59652         *:*                     LISTEN     "
     ]
    },
    {
     "data": {
      "text/html": [
       "<b>limit_output extension: Maximum message size of 1000 exceeded with 1001 characters</b>"
      ]
     },
     "metadata": {},
     "output_type": "display_data"
    }
   ],
   "source": [
    "netstat -tl #Aktive TCP-Verbindungen"
   ]
  },
  {
   "cell_type": "code",
   "execution_count": 124,
   "metadata": {},
   "outputs": [
    {
     "name": "stdout",
     "output_type": "stream",
     "text": [
      "Ip:\n",
      "    146991 total packets received\n",
      "    2 with invalid addresses\n",
      "    0 forwarded\n",
      "    0 incoming packets discarded\n",
      "    146960 incoming packets delivered\n",
      "    112500 requests sent out\n",
      "    53 dropped because of missing route\n",
      "Icmp:\n",
      "    7 ICMP messages received\n",
      "    0 input ICMP message failed.\n",
      "    ICMP-Eingabehistogramm:\n",
      "        destination unreachable: 1\n",
      "        echo replies: 6\n",
      "    16 ICMP messages sent\n",
      "    0 ICMP messages failed\n",
      "    ICMP-Ausgabehistogramm:\n",
      "        destination unreachable: 3\n",
      "        echo request: 13\n",
      "IcmpMsg:\n",
      "        InType0: 6\n",
      "        InType3: 1\n",
      "        OutType3: 3\n",
      "        OutType8: 13\n",
      "Tcp:\n",
      "    2293 active connections openings\n",
      "    1735 passive connection openings\n",
      "    179 failed connection attempts\n",
      "    27 connection resets received\n",
      "    30 connections established\n",
      "    145160 segments received\n",
      "    120849 segments send out\n",
      "    18 segments retransmited\n",
      "    0 bad segments received.\n",
      "    198 resets sent\n",
      "Udp:\n",
      "    1711 packets received\n",
      "    2 packets to unknown port received.\n",
      "    0 p"
     ]
    },
    {
     "data": {
      "text/html": [
       "<b>limit_output extension: Maximum message size of 1000 exceeded with 1021 characters</b>"
      ]
     },
     "metadata": {},
     "output_type": "display_data"
    }
   ],
   "source": [
    "netstat -s"
   ]
  },
  {
   "cell_type": "code",
   "execution_count": 125,
   "metadata": {},
   "outputs": [
    {
     "name": "stdout",
     "output_type": "stream",
     "text": [
      "Kernel-IP-Routentabelle\n",
      "Ziel            Router          Genmask         Flags   MSS Fenster irtt Iface\n",
      "10.0.2.0        *               255.255.255.0   U         0 0          0 enp0s3\n",
      "10.0.3.0        *               255.255.255.0   U         0 0          0 lxcbr0\n",
      "172.17.0.0      *               255.255.0.0     U         0 0          0 docker0\n",
      "172.22.3.0      *               255.255.255.0   U         0 0          0 enp0s8\n",
      "192.168.122.0   *               255.255.255.0   U         0 0          0 virbr0\n"
     ]
    }
   ],
   "source": [
    "netstat -r"
   ]
  },
  {
   "cell_type": "code",
   "execution_count": 126,
   "metadata": {
    "scrolled": false
   },
   "outputs": [
    {
     "name": "stdout",
     "output_type": "stream",
     "text": [
      "Aktive Internetverbindungen (ohne Server)\n",
      "Proto Recv-Q Send-Q Local Address           Foreign Address         State       PID/Program name\n",
      "tcp        0      0 localhost:57878         localhost:38151         TIME_WAIT   -               \n",
      "tcp        0      0 localhost:52378         localhost:39889         VERBUNDEN   1065/python3    \n",
      "tcp        0      0 localhost:57860         localhost:38151         VERBUNDEN   1065/python3    \n",
      "tcp        0      0 localhost:39889         localhost:51010         VERBUNDEN   3432/python3    \n",
      "tcp        0      0 localhost:49654         localhost:59652         VERBUNDEN   1065/python3    \n",
      "tcp        0      0 172.22.3.2:8888         michl-laptop:42416      VERBUNDEN   1065/python3    \n",
      "tcp        0      0 localhost:57884         localhost:38151         VERBUNDEN   1065/python3    \n",
      "tcp        0      0 172.22.3.2:8888         michl-laptop:42452      VERBUNDEN   1065/python3    \n",
      "tcp        0      0 localhost:54382         localhost:56932         TIME_WAIT   -    "
     ]
    },
    {
     "data": {
      "text/html": [
       "<b>limit_output extension: Maximum message size of 1000 exceeded with 1012 characters</b>"
      ]
     },
     "metadata": {},
     "output_type": "display_data"
    }
   ],
   "source": [
    "sudo netstat -p"
   ]
  },
  {
   "cell_type": "markdown",
   "metadata": {},
   "source": [
    "- Alternativ mit ip `ss` (show socket)"
   ]
  },
  {
   "cell_type": "code",
   "execution_count": 127,
   "metadata": {
    "scrolled": false
   },
   "outputs": [
    {
     "name": "stdout",
     "output_type": "stream",
     "text": [
      "Netid  State      Recv-Q Send-Q Local Address:Port                 Peer Address:Port                \n",
      "u_str  ESTAB      0      0      @/tmp/dbus-rjkrYOdJqw 26776                 * 26774                \n",
      "u_str  ESTAB      0      0       * 25278                 * 25279                \n",
      "u_str  ESTAB      0      0      @/com/ubuntu/upstart-session/900/2252 25805                 * 25802                \n",
      "u_str  ESTAB      0      0       * 14880                 * 14306                \n",
      "u_str  ESTAB      0      0       * 26947                 * 26948                \n",
      "u_str  ESTAB      0      0      /var/run/dbus/system_bus_socket 22806                 * 22419                \n",
      "u_str  ESTAB      0      0       * 22078                 * 22077                \n",
      "u_str  ESTAB      0      0       * 1073098               * 1073099              \n",
      "u_str  ESTAB      0      0       * 28842                 * 28843                \n",
      "u_str  ESTAB      0      0      /var/run/dbus/system_bus_socket 16160                 *"
     ]
    },
    {
     "data": {
      "text/html": [
       "<b>limit_output extension: Maximum message size of 1000 exceeded with 1023 characters</b>"
      ]
     },
     "metadata": {},
     "output_type": "display_data"
    }
   ],
   "source": [
    "ss"
   ]
  },
  {
   "cell_type": "markdown",
   "metadata": {},
   "source": [
    "## Übung\n",
    "\n",
    "- Verwenden Sie ping, um sich zu vergewissern, dass Sie einen wohlbekannten Rechner im Internet erreichen können (vielleicht www.google.com).\n",
    "- Benutzen Sie dig, um nachzuschauen, für welche IP-Adresse www.heise.de steht.\n",
    "- Die Option +trace von dig bringt das Programm dazu, die komplette Suchkette für einen Namen zu dokumentieren, beginnend bei den Root-Level-Nameservern. Probieren Sie das für einige interessante Namen aus und prüfen Sie die Zwischenschritte.\n",
    "- Welche Netzwerkdienste bietet Ihr Rechner an? Welche davon sind von anderen Rechnern aus erreichbar?"
   ]
  },
  {
   "cell_type": "markdown",
   "metadata": {},
   "source": [
    "## Kommandos\n",
    "\n",
    "- dig Sucht Informationen im DNS (sehr komfortabel) dig(1)\n",
    "- ifconfig Konfiguriert Netzwerk-Schnittstellen ifconfig (8)\n",
    "- ip Konfiguriert Netzwerk-Schnittstellen\n",
    "- netstat Liefert Informationen über Netzverbindungen, Server, Routing netstat(8)\n",
    "- ping Prüft grundlegende Netzwerk-Konnektivität mit ICMP ping(8)\n",
    "- ping6 Prüft grundlegende Netzwerk-Konnektivität (für IPv6) ping(8)\n",
    "- route Verwaltet die statische Routing-Tabelle im Linux-Kern route(8)\n",
    "- ss wie netstat show socket"
   ]
  },
  {
   "cell_type": "markdown",
   "metadata": {},
   "source": [
    "## Zusammenfassung\n",
    "\n",
    "- Es gibt drei Arten von Netzwerkprotokollen: Transportprotokolle, Kommunikationsprotokolle und Anwendungsprotokolle.\n",
    "- In einem »Protokollstapel« verkehrt jedes Protokoll nur mit den unmittelbar darunter- und darüberliegenden  Protokollen.\n",
    "- TCP/IP enthält die Kommunikationsprotokolle IP, TCP (zuverlässig und verbindungsorientiert) und UDP (unzuverlässig und verbindungslos), das Steuerungsprotokoll ICMP und eine Vielzahl von Anwendungsprotokollen auf TCP- oder UDP-Basis.\n",
    "- Rechner im Internet haben eindeutige IP-Adressen.\n",
    "- Routing erlaubt die Kommunikation zwischen nicht direkt verbundenen Rechnern.\n",
    "-   Um am Netzwerk teilzunehmen, benötigt ein Linux-Rechner eine IP-Adresse, eine Subnetzadresse mit Maske, ein Default-Gateway und die Adresse mindestens eines DNS-Servers.\n",
    "- Das DNS ist eine verteilte Datenbank zur Abbildung von Rechnernamen auf IP-Adressen und umgekehrt (unter anderem).\n",
    "- IPv6 ist der Nachfolgestandard von IPv4, der verschiedene Einschränkungen aufhebt und Verbesserungen enthält.\n",
    "- ifconfig und route dienen zur manuellen Konfiguration der Netzanbindung. Distributionen haben verschiedene Methoden zur dauerhaften Netzkonfiguration.\n",
    "- Die Programme ifconfig, ping, dig und netstat dienen zur Fehlersuche im Netz. Das Programm ip ersetzt ifconfig und netstat."
   ]
  },
  {
   "cell_type": "markdown",
   "metadata": {},
   "source": [
    "## Anhang\n",
    "\n",
    "Verz: /proc/net und /proc/sys/net\n",
    "\n",
    "- Standardeinstellungen von Netzwerkkarten Protokollen und Modulen.\n",
    "- Nur ändern wenn Ahnung! Besser über geeignete Kommandos ändern."
   ]
  },
  {
   "cell_type": "code",
   "execution_count": 128,
   "metadata": {},
   "outputs": [
    {
     "name": "stdout",
     "output_type": "stream",
     "text": [
      "1\n"
     ]
    }
   ],
   "source": [
    "cat /proc/sys/net/ipv4/ip_forward #Aktivierung von IPv4 Routing"
   ]
  },
  {
   "cell_type": "code",
   "execution_count": 129,
   "metadata": {},
   "outputs": [
    {
     "name": "stdout",
     "output_type": "stream",
     "text": [
      "all      docker0  enp0s8  lxcbr0      vethBOLXNY  virbr0      vnet0\n",
      "default  enp0s3   lo      veth2QYQL4  vethDAI3BY  virbr0-nic\n"
     ]
    }
   ],
   "source": [
    "ls /proc/sys/net/ipv4/conf #Einstellungen zu den Netzwerkkarten"
   ]
  },
  {
   "cell_type": "code",
   "execution_count": 130,
   "metadata": {},
   "outputs": [
    {
     "name": "stdout",
     "output_type": "stream",
     "text": [
      "accept_local         disable_xfrm                        proxy_arp\n",
      "accept_redirects     force_igmp_version                  proxy_arp_pvlan\n",
      "accept_source_route  forwarding                          route_localnet\n",
      "arp_accept           igmpv2_unsolicited_report_interval  rp_filter\n",
      "arp_announce         igmpv3_unsolicited_report_interval  secure_redirects\n",
      "arp_filter           ignore_routes_with_linkdown         send_redirects\n",
      "arp_ignore           log_martians                        shared_media\n",
      "arp_notify           mc_forwarding                       src_valid_mark\n",
      "bootp_relay          medium_id                           tag\n",
      "disable_policy       promote_secondaries\n"
     ]
    }
   ],
   "source": [
    "ls /proc/sys/net/ipv4/conf/enp0s8"
   ]
  },
  {
   "cell_type": "markdown",
   "metadata": {},
   "source": [
    "Änderungen in /proc sind nicht dauerhaft.\n",
    "\n",
    "Dauerhafte Änderungen in /etc/sysctl.conf\n",
    "\n",
    "- Syntax: /proc/sys/net/ipv4/ip\\_forwarding wird zu net.ipv4.ip\\_forwarding=1\n",
    "- Übernahme ohne reboot mit \\# sysctl -p"
   ]
  },
  {
   "cell_type": "code",
   "execution_count": 131,
   "metadata": {},
   "outputs": [
    {
     "name": "stdout",
     "output_type": "stream",
     "text": [
      "#\n",
      "# /etc/sysctl.conf - Configuration file for setting system variables\n",
      "# See /etc/sysctl.d/ for additional system variables.\n",
      "# See sysctl.conf (5) for information.\n",
      "#\n",
      "\n",
      "#kernel.domainname = example.com\n",
      "\n",
      "# Uncomment the following to stop low-level messages on console\n",
      "#kernel.printk = 3 4 1 3\n",
      "\n",
      "##############################################################3\n",
      "# Functions previously found in netbase\n",
      "#\n",
      "\n",
      "# Uncomment the next two lines to enable Spoof protection (reverse-path filter)\n",
      "# Turn on Source Address Verification in all interfaces to\n",
      "# prevent some spoofing attacks\n",
      "#net.ipv4.conf.default.rp_filter=1\n",
      "#net.ipv4.conf.all.rp_filter=1\n",
      "\n",
      "# Uncomment the next line to enable TCP/IP SYN cookies\n",
      "# See http://lwn.net/Articles/277146/\n",
      "# Note: This may impact IPv6 TCP sessions too\n",
      "#net.ipv4.tcp_syncookies=1\n",
      "\n",
      "# Uncomment the next line to enable packet forwarding for IPv4\n",
      "#net.ipv4.ip_forward=1\n",
      "\n",
      "# Uncomment the next line to enable packet forwarding for IPv6\n",
      "#  Enabling this option disables Stateless Addr"
     ]
    },
    {
     "data": {
      "text/html": [
       "<b>limit_output extension: Maximum message size of 1000 exceeded with 1022 characters</b>"
      ]
     },
     "metadata": {},
     "output_type": "display_data"
    }
   ],
   "source": [
    "cat /etc/sysctl.conf"
   ]
  }
 ],
 "metadata": {
  "kernelspec": {
   "display_name": "Bash",
   "language": "bash",
   "name": "bash"
  },
  "language_info": {
   "codemirror_mode": "shell",
   "file_extension": ".sh",
   "mimetype": "text/x-sh",
   "name": "bash"
  },
  "toc": {
   "nav_menu": {},
   "number_sections": true,
   "sideBar": true,
   "skip_h1_title": false,
   "title_cell": "Table of Contents",
   "title_sidebar": "Contents",
   "toc_cell": false,
   "toc_position": {
    "height": "calc(100% - 180px)",
    "left": "10px",
    "top": "150px",
    "width": "384px"
   },
   "toc_section_display": true,
   "toc_window_display": true
  }
 },
 "nbformat": 4,
 "nbformat_minor": 2
}
